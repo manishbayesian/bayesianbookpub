{
  "nbformat": 4,
  "nbformat_minor": 0,
  "metadata": {
    "colab": {
      "name": "Chapter1 - BayesCalculator, Examples X - XX.ipynb",
      "provenance": [],
      "authorship_tag": "ABX9TyNaPYJZ8XyMHmt/LXBNdDVu",
      "include_colab_link": true
    },
    "kernelspec": {
      "name": "python3",
      "display_name": "Python 3"
    },
    "language_info": {
      "name": "python"
    }
  },
  "cells": [
    {
      "cell_type": "markdown",
      "metadata": {
        "id": "view-in-github",
        "colab_type": "text"
      },
      "source": [
        "<a href=\"https://colab.research.google.com/github/manishbayesian/bayesianbookpub/blob/main/Chapter1_BayesCalculator%2C_Examples_X_XX.ipynb\" target=\"_parent\"><img src=\"https://colab.research.google.com/assets/colab-badge.svg\" alt=\"Open In Colab\"/></a>"
      ]
    },
    {
      "cell_type": "markdown",
      "source": [
        "### Chapter 1: Bayes Theorem & Examples X-XX. \n",
        "A simple calculator usingn Bayes' Theorem, and its applications as in Examples X through XX."
      ],
      "metadata": {
        "id": "CnxdDWjnNBhM"
      }
    },
    {
      "cell_type": "code",
      "execution_count": 1,
      "metadata": {
        "id": "3g3vOu0yKJTz"
      },
      "outputs": [],
      "source": [
        "from scipy import special\n",
        "import math\n",
        "import pandas as pd\n",
        "import matplotlib.pyplot as plt\n",
        "import seaborn as sns\n",
        "from numpy import random\n",
        "import numpy as np\n",
        "\n",
        "sns.set_theme(style=\"darkgrid\")\n",
        "pd.set_option('display.precision', 3)\n",
        "pd.set_option('display.float_format',  '{:,.3f}'.format)"
      ]
    },
    {
      "cell_type": "code",
      "source": [
        ""
      ],
      "metadata": {
        "id": "XftlaO2jFT1a"
      },
      "execution_count": null,
      "outputs": []
    },
    {
      "cell_type": "code",
      "source": [
        ""
      ],
      "metadata": {
        "id": "UxGzd3TVFT4C"
      },
      "execution_count": null,
      "outputs": []
    },
    {
      "cell_type": "code",
      "source": [
        "class BayesCalculator:\n",
        "  \"\"\"\n",
        "  Simple class that allows update of (posterior) based on\n",
        "  \"\"\"\n",
        "\n",
        "  def __init__(self, hypotheses, prior=None):\n",
        "      \"\"\"Prints what the animals name is and what sound it makes.\n",
        "\n",
        "        If the argument `sound` isn't passed in, the default Animal\n",
        "        sound is used.\n",
        "\n",
        "        Parameters\n",
        "        ----------\n",
        "        sound : str, optional\n",
        "            The sound the animal makes (default is None)\n",
        "        \"\"\"\n",
        "      if  prior is None:\n",
        "        prior = np.ones(len(hypotheses))\n",
        "      else:\n",
        "        assert len(prior) == len(hypotheses), 'len(hypotheses) == len(prior)'\n",
        "        prior = np.asarray(prior)\n",
        "      prior = prior/sum(prior)\n",
        "      self._bayes_df = pd.DataFrame(prior, index=hypotheses, columns=['prior'])\n",
        "     \n",
        "      self._bayes_df['likelihood'] = np.nan\n",
        "      self._bayes_df['evidence'] = np.nan\n",
        "      self._bayes_df['posterior'] = prior.copy()\n",
        "      self._likelihoods = pd.DataFrame(index=hypotheses)\n",
        "\n",
        "\n",
        "  def set_likelihood(self, data, likelihood):\n",
        "      assert len(likelihood) == len(self._bayes_df.index), 'len(likelihood) == len(self.hypotheses)'\n",
        "      self._likelihoods[data] = np.asarray(likelihood)\n",
        "      return self\n",
        "\n",
        "  def prior(self):\n",
        "    return self._bayes_df['prior']\n",
        "\n",
        "  def posterior(self):\n",
        "    return self._bayes_df['posterior']\n",
        "\n",
        "  def evidence(self):\n",
        "    return self._bayes_df['evidence'][0]\n",
        "\n",
        "  def get_likelihood(self, data):\n",
        "    return self._likelihoods[data]\n",
        "\n",
        "  def likelihoods(self):\n",
        "    return self._likelihoods\n",
        "\n",
        "  def as_table(self):\n",
        "    return self._bayes_df\n",
        "  \n",
        "  def update(self, data, likelihood=None):\n",
        "    if likelihood is None:\n",
        "      likelihood = self._likelihoods[data]\n",
        "    self._bayes_df['likelihood'] = likelihood\n",
        "    unscaled_posterior = self._bayes_df['prior'] * likelihood    \n",
        "    self._bayes_df['evidence']  = sum(unscaled_posterior)\n",
        "    self._bayes_df['posterior'] = unscaled_posterior/sum(unscaled_posterior)\n",
        "    return self\n",
        "\n"
      ],
      "metadata": {
        "id": "29fxLdF6FT7A"
      },
      "execution_count": 17,
      "outputs": []
    },
    {
      "cell_type": "markdown",
      "source": [
        ""
      ],
      "metadata": {
        "id": "4F3p-nM8HMze"
      }
    },
    {
      "cell_type": "markdown",
      "source": [
        "## Example 12: Is the Coin Biased or Not ?\n",
        "For this example, we will take two hypotheses: `U` corresponds to unbiased, with heads/tails being equally likely, and `B` corresponds to a coin that always turns up heads. "
      ],
      "metadata": {
        "id": "sQbBBkf4ySkZ"
      }
    },
    {
      "cell_type": "code",
      "source": [
        "coin_toss = BayesCalculator(['U','B'],prior=[0.5,0.5]) \\\n",
        "              .update('HHH',likelihood=[0.5*0.5*0.5, 1.0])\n",
        "display(coin_toss.as_table())"
      ],
      "metadata": {
        "id": "Ii_kdmpLzLix",
        "outputId": "420a3104-187a-4391-f431-378cecfdb45b",
        "colab": {
          "base_uri": "https://localhost:8080/",
          "height": 112
        }
      },
      "execution_count": 8,
      "outputs": [
        {
          "output_type": "display_data",
          "data": {
            "text/plain": [
              "   prior  likelihood  evidence  posterior\n",
              "U  0.500       0.125     0.562      0.111\n",
              "B  0.500       1.000     0.562      0.889"
            ],
            "text/html": [
              "\n",
              "  <div id=\"df-7cf4d7d9-7cf3-4036-af74-0f2bf32f5361\">\n",
              "    <div class=\"colab-df-container\">\n",
              "      <div>\n",
              "<style scoped>\n",
              "    .dataframe tbody tr th:only-of-type {\n",
              "        vertical-align: middle;\n",
              "    }\n",
              "\n",
              "    .dataframe tbody tr th {\n",
              "        vertical-align: top;\n",
              "    }\n",
              "\n",
              "    .dataframe thead th {\n",
              "        text-align: right;\n",
              "    }\n",
              "</style>\n",
              "<table border=\"1\" class=\"dataframe\">\n",
              "  <thead>\n",
              "    <tr style=\"text-align: right;\">\n",
              "      <th></th>\n",
              "      <th>prior</th>\n",
              "      <th>likelihood</th>\n",
              "      <th>evidence</th>\n",
              "      <th>posterior</th>\n",
              "    </tr>\n",
              "  </thead>\n",
              "  <tbody>\n",
              "    <tr>\n",
              "      <th>U</th>\n",
              "      <td>0.500</td>\n",
              "      <td>0.125</td>\n",
              "      <td>0.562</td>\n",
              "      <td>0.111</td>\n",
              "    </tr>\n",
              "    <tr>\n",
              "      <th>B</th>\n",
              "      <td>0.500</td>\n",
              "      <td>1.000</td>\n",
              "      <td>0.562</td>\n",
              "      <td>0.889</td>\n",
              "    </tr>\n",
              "  </tbody>\n",
              "</table>\n",
              "</div>\n",
              "      <button class=\"colab-df-convert\" onclick=\"convertToInteractive('df-7cf4d7d9-7cf3-4036-af74-0f2bf32f5361')\"\n",
              "              title=\"Convert this dataframe to an interactive table.\"\n",
              "              style=\"display:none;\">\n",
              "        \n",
              "  <svg xmlns=\"http://www.w3.org/2000/svg\" height=\"24px\"viewBox=\"0 0 24 24\"\n",
              "       width=\"24px\">\n",
              "    <path d=\"M0 0h24v24H0V0z\" fill=\"none\"/>\n",
              "    <path d=\"M18.56 5.44l.94 2.06.94-2.06 2.06-.94-2.06-.94-.94-2.06-.94 2.06-2.06.94zm-11 1L8.5 8.5l.94-2.06 2.06-.94-2.06-.94L8.5 2.5l-.94 2.06-2.06.94zm10 10l.94 2.06.94-2.06 2.06-.94-2.06-.94-.94-2.06-.94 2.06-2.06.94z\"/><path d=\"M17.41 7.96l-1.37-1.37c-.4-.4-.92-.59-1.43-.59-.52 0-1.04.2-1.43.59L10.3 9.45l-7.72 7.72c-.78.78-.78 2.05 0 2.83L4 21.41c.39.39.9.59 1.41.59.51 0 1.02-.2 1.41-.59l7.78-7.78 2.81-2.81c.8-.78.8-2.07 0-2.86zM5.41 20L4 18.59l7.72-7.72 1.47 1.35L5.41 20z\"/>\n",
              "  </svg>\n",
              "      </button>\n",
              "      \n",
              "  <style>\n",
              "    .colab-df-container {\n",
              "      display:flex;\n",
              "      flex-wrap:wrap;\n",
              "      gap: 12px;\n",
              "    }\n",
              "\n",
              "    .colab-df-convert {\n",
              "      background-color: #E8F0FE;\n",
              "      border: none;\n",
              "      border-radius: 50%;\n",
              "      cursor: pointer;\n",
              "      display: none;\n",
              "      fill: #1967D2;\n",
              "      height: 32px;\n",
              "      padding: 0 0 0 0;\n",
              "      width: 32px;\n",
              "    }\n",
              "\n",
              "    .colab-df-convert:hover {\n",
              "      background-color: #E2EBFA;\n",
              "      box-shadow: 0px 1px 2px rgba(60, 64, 67, 0.3), 0px 1px 3px 1px rgba(60, 64, 67, 0.15);\n",
              "      fill: #174EA6;\n",
              "    }\n",
              "\n",
              "    [theme=dark] .colab-df-convert {\n",
              "      background-color: #3B4455;\n",
              "      fill: #D2E3FC;\n",
              "    }\n",
              "\n",
              "    [theme=dark] .colab-df-convert:hover {\n",
              "      background-color: #434B5C;\n",
              "      box-shadow: 0px 1px 3px 1px rgba(0, 0, 0, 0.15);\n",
              "      filter: drop-shadow(0px 1px 2px rgba(0, 0, 0, 0.3));\n",
              "      fill: #FFFFFF;\n",
              "    }\n",
              "  </style>\n",
              "\n",
              "      <script>\n",
              "        const buttonEl =\n",
              "          document.querySelector('#df-7cf4d7d9-7cf3-4036-af74-0f2bf32f5361 button.colab-df-convert');\n",
              "        buttonEl.style.display =\n",
              "          google.colab.kernel.accessAllowed ? 'block' : 'none';\n",
              "\n",
              "        async function convertToInteractive(key) {\n",
              "          const element = document.querySelector('#df-7cf4d7d9-7cf3-4036-af74-0f2bf32f5361');\n",
              "          const dataTable =\n",
              "            await google.colab.kernel.invokeFunction('convertToInteractive',\n",
              "                                                     [key], {});\n",
              "          if (!dataTable) return;\n",
              "\n",
              "          const docLinkHtml = 'Like what you see? Visit the ' +\n",
              "            '<a target=\"_blank\" href=https://colab.research.google.com/notebooks/data_table.ipynb>data table notebook</a>'\n",
              "            + ' to learn more about interactive tables.';\n",
              "          element.innerHTML = '';\n",
              "          dataTable['output_type'] = 'display_data';\n",
              "          await google.colab.output.renderOutput(dataTable, element);\n",
              "          const docLink = document.createElement('div');\n",
              "          docLink.innerHTML = docLinkHtml;\n",
              "          element.appendChild(docLink);\n",
              "        }\n",
              "      </script>\n",
              "    </div>\n",
              "  </div>\n",
              "  "
            ]
          },
          "metadata": {}
        }
      ]
    },
    {
      "cell_type": "markdown",
      "source": [
        "Now suppose instead of a bias of $1$ (always turning up heads), let's set the bias to $p$, i.e. it is $1/p$ times more likely to be heads. Note that $p$ is a known quantity in this analysis, but we will plot the evidence and posterior probabilities as a function of $p$."
      ],
      "metadata": {
        "id": "rAhvQEqjzD6f"
      }
    },
    {
      "cell_type": "code",
      "source": [
        "biases = np.linspace(0,1.,100)\n",
        "evidences = []\n",
        "posterior_U = []\n",
        "posterior_B = []\n",
        "for p in biases:\n",
        "  coin_toss = BayesCalculator(['U','B'],prior=[0.5,0.5]) \\\n",
        "              .update('HHH',likelihood=[0.5*0.5*0.5, p*p*p])\n",
        "  evidences.append(coin_toss.evidence())\n",
        "  posterior_U.append(coin_toss.posterior()['U'])\n",
        "  posterior_B.append(coin_toss.posterior()['B'])"
      ],
      "metadata": {
        "id": "LAWGl9yt1Uuf"
      },
      "execution_count": 18,
      "outputs": []
    },
    {
      "cell_type": "code",
      "source": [
        "test_res = pd.DataFrame({'Pr(U|HHH)': posterior_U, \n",
        "                              'Pr(B|HHH)': posterior_B,\n",
        "                              'evidence': evidences}, index=biases)\n",
        "sns.lineplot(data=test_res).set(xlabel='coin bias',\n",
        "                                     ylabel='probabilities',\n",
        "                                     title='Coin Bias Example')\n",
        "plt.show()"
      ],
      "metadata": {
        "id": "ZvvZz6AO2JTf",
        "outputId": "6df6671c-1ef4-4386-b272-9c815bf55078",
        "colab": {
          "base_uri": "https://localhost:8080/",
          "height": 301
        }
      },
      "execution_count": 19,
      "outputs": [
        {
          "output_type": "display_data",
          "data": {
            "text/plain": [
              "<Figure size 432x288 with 1 Axes>"
            ],
            "image/png": "[encoded data removed]"
          },
          "metadata": {
            "needs_background": "light"
          }
        }
      ]
    },
    {
      "cell_type": "markdown",
      "source": [
        "## Example 12 - Can we predict eye color from hair color?\n",
        "Here we load aggregate data (of numbers of people with certain eye/hair color combinations)"
      ],
      "metadata": {
        "id": "UJfCQFMJHM2T"
      }
    },
    {
      "cell_type": "code",
      "source": [
        "! git clone https://github.com/manishbayesian/bayesianbookpub.git"
      ],
      "metadata": {
        "id": "pNq3zXCk6grU",
        "colab": {
          "base_uri": "https://localhost:8080/"
        },
        "outputId": "b71c655d-63d4-4aa4-bdb0-bf810dc7befd"
      },
      "execution_count": 4,
      "outputs": [
        {
          "output_type": "stream",
          "name": "stdout",
          "text": [
            "Cloning into 'bayesianbookpub'...\n",
            "remote: Enumerating objects: 13, done.\u001b[K\n",
            "remote: Counting objects: 100% (13/13), done.\u001b[K\n",
            "remote: Compressing objects: 100% (10/10), done.\u001b[K\n",
            "remote: Total 13 (delta 3), reused 7 (delta 1), pack-reused 0\u001b[K\n",
            "Unpacking objects: 100% (13/13), done.\n"
          ]
        }
      ]
    },
    {
      "cell_type": "code",
      "source": [
        "eyes_hair_agg = pd.read_csv('bayesianbookpub/datasets/eye_hair_colors_aggregated.csv',index_col='Eye Color')\n",
        "eyes_hair_agg"
      ],
      "metadata": {
        "id": "beYDdfHV6gwX",
        "colab": {
          "base_uri": "https://localhost:8080/",
          "height": 238
        },
        "outputId": "24964c6d-e975-439a-fdf8-1dac39bb0b7b"
      },
      "execution_count": 5,
      "outputs": [
        {
          "output_type": "execute_result",
          "data": {
            "text/plain": [
              "           Light Hair  Dark Hair\n",
              "Eye Color                       \n",
              "Green             144        181\n",
              "Hazel             114        366\n",
              "Blue              549        556\n",
              "Brown             159        941\n",
              "Other               2          9"
            ],
            "text/html": [
              "\n",
              "  <div id=\"df-f4d997ad-de83-486e-9452-adb9fcae01df\">\n",
              "    <div class=\"colab-df-container\">\n",
              "      <div>\n",
              "<style scoped>\n",
              "    .dataframe tbody tr th:only-of-type {\n",
              "        vertical-align: middle;\n",
              "    }\n",
              "\n",
              "    .dataframe tbody tr th {\n",
              "        vertical-align: top;\n",
              "    }\n",
              "\n",
              "    .dataframe thead th {\n",
              "        text-align: right;\n",
              "    }\n",
              "</style>\n",
              "<table border=\"1\" class=\"dataframe\">\n",
              "  <thead>\n",
              "    <tr style=\"text-align: right;\">\n",
              "      <th></th>\n",
              "      <th>Light Hair</th>\n",
              "      <th>Dark Hair</th>\n",
              "    </tr>\n",
              "    <tr>\n",
              "      <th>Eye Color</th>\n",
              "      <th></th>\n",
              "      <th></th>\n",
              "    </tr>\n",
              "  </thead>\n",
              "  <tbody>\n",
              "    <tr>\n",
              "      <th>Green</th>\n",
              "      <td>144</td>\n",
              "      <td>181</td>\n",
              "    </tr>\n",
              "    <tr>\n",
              "      <th>Hazel</th>\n",
              "      <td>114</td>\n",
              "      <td>366</td>\n",
              "    </tr>\n",
              "    <tr>\n",
              "      <th>Blue</th>\n",
              "      <td>549</td>\n",
              "      <td>556</td>\n",
              "    </tr>\n",
              "    <tr>\n",
              "      <th>Brown</th>\n",
              "      <td>159</td>\n",
              "      <td>941</td>\n",
              "    </tr>\n",
              "    <tr>\n",
              "      <th>Other</th>\n",
              "      <td>2</td>\n",
              "      <td>9</td>\n",
              "    </tr>\n",
              "  </tbody>\n",
              "</table>\n",
              "</div>\n",
              "      <button class=\"colab-df-convert\" onclick=\"convertToInteractive('df-f4d997ad-de83-486e-9452-adb9fcae01df')\"\n",
              "              title=\"Convert this dataframe to an interactive table.\"\n",
              "              style=\"display:none;\">\n",
              "        \n",
              "  <svg xmlns=\"http://www.w3.org/2000/svg\" height=\"24px\"viewBox=\"0 0 24 24\"\n",
              "       width=\"24px\">\n",
              "    <path d=\"M0 0h24v24H0V0z\" fill=\"none\"/>\n",
              "    <path d=\"M18.56 5.44l.94 2.06.94-2.06 2.06-.94-2.06-.94-.94-2.06-.94 2.06-2.06.94zm-11 1L8.5 8.5l.94-2.06 2.06-.94-2.06-.94L8.5 2.5l-.94 2.06-2.06.94zm10 10l.94 2.06.94-2.06 2.06-.94-2.06-.94-.94-2.06-.94 2.06-2.06.94z\"/><path d=\"M17.41 7.96l-1.37-1.37c-.4-.4-.92-.59-1.43-.59-.52 0-1.04.2-1.43.59L10.3 9.45l-7.72 7.72c-.78.78-.78 2.05 0 2.83L4 21.41c.39.39.9.59 1.41.59.51 0 1.02-.2 1.41-.59l7.78-7.78 2.81-2.81c.8-.78.8-2.07 0-2.86zM5.41 20L4 18.59l7.72-7.72 1.47 1.35L5.41 20z\"/>\n",
              "  </svg>\n",
              "      </button>\n",
              "      \n",
              "  <style>\n",
              "    .colab-df-container {\n",
              "      display:flex;\n",
              "      flex-wrap:wrap;\n",
              "      gap: 12px;\n",
              "    }\n",
              "\n",
              "    .colab-df-convert {\n",
              "      background-color: #E8F0FE;\n",
              "      border: none;\n",
              "      border-radius: 50%;\n",
              "      cursor: pointer;\n",
              "      display: none;\n",
              "      fill: #1967D2;\n",
              "      height: 32px;\n",
              "      padding: 0 0 0 0;\n",
              "      width: 32px;\n",
              "    }\n",
              "\n",
              "    .colab-df-convert:hover {\n",
              "      background-color: #E2EBFA;\n",
              "      box-shadow: 0px 1px 2px rgba(60, 64, 67, 0.3), 0px 1px 3px 1px rgba(60, 64, 67, 0.15);\n",
              "      fill: #174EA6;\n",
              "    }\n",
              "\n",
              "    [theme=dark] .colab-df-convert {\n",
              "      background-color: #3B4455;\n",
              "      fill: #D2E3FC;\n",
              "    }\n",
              "\n",
              "    [theme=dark] .colab-df-convert:hover {\n",
              "      background-color: #434B5C;\n",
              "      box-shadow: 0px 1px 3px 1px rgba(0, 0, 0, 0.15);\n",
              "      filter: drop-shadow(0px 1px 2px rgba(0, 0, 0, 0.3));\n",
              "      fill: #FFFFFF;\n",
              "    }\n",
              "  </style>\n",
              "\n",
              "      <script>\n",
              "        const buttonEl =\n",
              "          document.querySelector('#df-f4d997ad-de83-486e-9452-adb9fcae01df button.colab-df-convert');\n",
              "        buttonEl.style.display =\n",
              "          google.colab.kernel.accessAllowed ? 'block' : 'none';\n",
              "\n",
              "        async function convertToInteractive(key) {\n",
              "          const element = document.querySelector('#df-f4d997ad-de83-486e-9452-adb9fcae01df');\n",
              "          const dataTable =\n",
              "            await google.colab.kernel.invokeFunction('convertToInteractive',\n",
              "                                                     [key], {});\n",
              "          if (!dataTable) return;\n",
              "\n",
              "          const docLinkHtml = 'Like what you see? Visit the ' +\n",
              "            '<a target=\"_blank\" href=https://colab.research.google.com/notebooks/data_table.ipynb>data table notebook</a>'\n",
              "            + ' to learn more about interactive tables.';\n",
              "          element.innerHTML = '';\n",
              "          dataTable['output_type'] = 'display_data';\n",
              "          await google.colab.output.renderOutput(dataTable, element);\n",
              "          const docLink = document.createElement('div');\n",
              "          docLink.innerHTML = docLinkHtml;\n",
              "          element.appendChild(docLink);\n",
              "        }\n",
              "      </script>\n",
              "    </div>\n",
              "  </div>\n",
              "  "
            ]
          },
          "metadata": {},
          "execution_count": 5
        }
      ]
    },
    {
      "cell_type": "markdown",
      "source": [
        "###### First we create a helper function, that allows us to create a BayesCalculator from aggregate data\n",
        "###### Without any data, the probability of a person having blue and brown eyes is roughly the same (about 36%)"
      ],
      "metadata": {
        "id": "SyLmFxnWI6xc"
      }
    },
    {
      "cell_type": "code",
      "source": [
        "\n",
        "def bayes_calc_from_aggregate_data(agg_df):\n",
        "    hypotheses = list(agg_df.index)\n",
        "    priors = agg_df.sum(axis=1).values\n",
        "    bcal = BayesCalculator(hypotheses,priors)\n",
        "    for c in agg_df.columns:\n",
        "      bcal.set_likelihood(c, (agg_df[c]/agg_df.sum(axis=1).values))\n",
        "    return bcal"
      ],
      "metadata": {
        "id": "EAYuj9KgHpev"
      },
      "execution_count": 6,
      "outputs": []
    },
    {
      "cell_type": "code",
      "source": [
        "# We create an instance of a BayesCalculator from this aggregate data\n",
        "eyes = bayes_calc_from_aggregate_data(eyes_hair_agg)"
      ],
      "metadata": {
        "id": "PAY6AUs6Ew3H"
      },
      "execution_count": 7,
      "outputs": []
    },
    {
      "cell_type": "code",
      "source": [
        "# Display probability of a person having different eye colors\n",
        "display(eyes.as_table()[['prior']])"
      ],
      "metadata": {
        "id": "TBQPQDKyIGM2",
        "outputId": "ca13287f-8c9d-409b-abff-82a4c154ed24",
        "colab": {
          "base_uri": "https://localhost:8080/",
          "height": 206
        }
      },
      "execution_count": 8,
      "outputs": [
        {
          "output_type": "display_data",
          "data": {
            "text/plain": [
              "       prior\n",
              "Green  0.108\n",
              "Hazel  0.159\n",
              "Blue   0.366\n",
              "Brown  0.364\n",
              "Other  0.004"
            ],
            "text/html": [
              "\n",
              "  <div id=\"df-e96f6c78-59a7-4591-a14e-42bdf9a1f37f\">\n",
              "    <div class=\"colab-df-container\">\n",
              "      <div>\n",
              "<style scoped>\n",
              "    .dataframe tbody tr th:only-of-type {\n",
              "        vertical-align: middle;\n",
              "    }\n",
              "\n",
              "    .dataframe tbody tr th {\n",
              "        vertical-align: top;\n",
              "    }\n",
              "\n",
              "    .dataframe thead th {\n",
              "        text-align: right;\n",
              "    }\n",
              "</style>\n",
              "<table border=\"1\" class=\"dataframe\">\n",
              "  <thead>\n",
              "    <tr style=\"text-align: right;\">\n",
              "      <th></th>\n",
              "      <th>prior</th>\n",
              "    </tr>\n",
              "  </thead>\n",
              "  <tbody>\n",
              "    <tr>\n",
              "      <th>Green</th>\n",
              "      <td>0.108</td>\n",
              "    </tr>\n",
              "    <tr>\n",
              "      <th>Hazel</th>\n",
              "      <td>0.159</td>\n",
              "    </tr>\n",
              "    <tr>\n",
              "      <th>Blue</th>\n",
              "      <td>0.366</td>\n",
              "    </tr>\n",
              "    <tr>\n",
              "      <th>Brown</th>\n",
              "      <td>0.364</td>\n",
              "    </tr>\n",
              "    <tr>\n",
              "      <th>Other</th>\n",
              "      <td>0.004</td>\n",
              "    </tr>\n",
              "  </tbody>\n",
              "</table>\n",
              "</div>\n",
              "      <button class=\"colab-df-convert\" onclick=\"convertToInteractive('df-e96f6c78-59a7-4591-a14e-42bdf9a1f37f')\"\n",
              "              title=\"Convert this dataframe to an interactive table.\"\n",
              "              style=\"display:none;\">\n",
              "        \n",
              "  <svg xmlns=\"http://www.w3.org/2000/svg\" height=\"24px\"viewBox=\"0 0 24 24\"\n",
              "       width=\"24px\">\n",
              "    <path d=\"M0 0h24v24H0V0z\" fill=\"none\"/>\n",
              "    <path d=\"M18.56 5.44l.94 2.06.94-2.06 2.06-.94-2.06-.94-.94-2.06-.94 2.06-2.06.94zm-11 1L8.5 8.5l.94-2.06 2.06-.94-2.06-.94L8.5 2.5l-.94 2.06-2.06.94zm10 10l.94 2.06.94-2.06 2.06-.94-2.06-.94-.94-2.06-.94 2.06-2.06.94z\"/><path d=\"M17.41 7.96l-1.37-1.37c-.4-.4-.92-.59-1.43-.59-.52 0-1.04.2-1.43.59L10.3 9.45l-7.72 7.72c-.78.78-.78 2.05 0 2.83L4 21.41c.39.39.9.59 1.41.59.51 0 1.02-.2 1.41-.59l7.78-7.78 2.81-2.81c.8-.78.8-2.07 0-2.86zM5.41 20L4 18.59l7.72-7.72 1.47 1.35L5.41 20z\"/>\n",
              "  </svg>\n",
              "      </button>\n",
              "      \n",
              "  <style>\n",
              "    .colab-df-container {\n",
              "      display:flex;\n",
              "      flex-wrap:wrap;\n",
              "      gap: 12px;\n",
              "    }\n",
              "\n",
              "    .colab-df-convert {\n",
              "      background-color: #E8F0FE;\n",
              "      border: none;\n",
              "      border-radius: 50%;\n",
              "      cursor: pointer;\n",
              "      display: none;\n",
              "      fill: #1967D2;\n",
              "      height: 32px;\n",
              "      padding: 0 0 0 0;\n",
              "      width: 32px;\n",
              "    }\n",
              "\n",
              "    .colab-df-convert:hover {\n",
              "      background-color: #E2EBFA;\n",
              "      box-shadow: 0px 1px 2px rgba(60, 64, 67, 0.3), 0px 1px 3px 1px rgba(60, 64, 67, 0.15);\n",
              "      fill: #174EA6;\n",
              "    }\n",
              "\n",
              "    [theme=dark] .colab-df-convert {\n",
              "      background-color: #3B4455;\n",
              "      fill: #D2E3FC;\n",
              "    }\n",
              "\n",
              "    [theme=dark] .colab-df-convert:hover {\n",
              "      background-color: #434B5C;\n",
              "      box-shadow: 0px 1px 3px 1px rgba(0, 0, 0, 0.15);\n",
              "      filter: drop-shadow(0px 1px 2px rgba(0, 0, 0, 0.3));\n",
              "      fill: #FFFFFF;\n",
              "    }\n",
              "  </style>\n",
              "\n",
              "      <script>\n",
              "        const buttonEl =\n",
              "          document.querySelector('#df-e96f6c78-59a7-4591-a14e-42bdf9a1f37f button.colab-df-convert');\n",
              "        buttonEl.style.display =\n",
              "          google.colab.kernel.accessAllowed ? 'block' : 'none';\n",
              "\n",
              "        async function convertToInteractive(key) {\n",
              "          const element = document.querySelector('#df-e96f6c78-59a7-4591-a14e-42bdf9a1f37f');\n",
              "          const dataTable =\n",
              "            await google.colab.kernel.invokeFunction('convertToInteractive',\n",
              "                                                     [key], {});\n",
              "          if (!dataTable) return;\n",
              "\n",
              "          const docLinkHtml = 'Like what you see? Visit the ' +\n",
              "            '<a target=\"_blank\" href=https://colab.research.google.com/notebooks/data_table.ipynb>data table notebook</a>'\n",
              "            + ' to learn more about interactive tables.';\n",
              "          element.innerHTML = '';\n",
              "          dataTable['output_type'] = 'display_data';\n",
              "          await google.colab.output.renderOutput(dataTable, element);\n",
              "          const docLink = document.createElement('div');\n",
              "          docLink.innerHTML = docLinkHtml;\n",
              "          element.appendChild(docLink);\n",
              "        }\n",
              "      </script>\n",
              "    </div>\n",
              "  </div>\n",
              "  "
            ]
          },
          "metadata": {}
        }
      ]
    },
    {
      "cell_type": "markdown",
      "source": [
        "###### Now if we are given information that the person has Dark Hair. Then we can use our `BayesCalculator` to perform an update with this data and see how the probability of having different eye colors changes."
      ],
      "metadata": {
        "id": "-V33dadPJL-Z"
      }
    },
    {
      "cell_type": "code",
      "source": [
        "## Update with data = 'Dark Hair' and then examine probabilities.\n",
        "eyes = eyes.update('Dark Hair')\n",
        "display(eyes.as_table())"
      ],
      "metadata": {
        "colab": {
          "base_uri": "https://localhost:8080/",
          "height": 206
        },
        "id": "xh3DfwYbbZJP",
        "outputId": "ec6d34e8-e125-4284-8691-ccaa46aec0d4"
      },
      "execution_count": 9,
      "outputs": [
        {
          "output_type": "display_data",
          "data": {
            "text/plain": [
              "       prior  likelihood  posterior\n",
              "Green  0.108       0.557      0.088\n",
              "Hazel  0.159       0.762      0.178\n",
              "Blue   0.366       0.503      0.271\n",
              "Brown  0.364       0.855      0.458\n",
              "Other  0.004       0.818      0.004"
            ],
            "text/html": [
              "\n",
              "  <div id=\"df-1868d6eb-7dda-4e83-b44e-594f73c553a4\">\n",
              "    <div class=\"colab-df-container\">\n",
              "      <div>\n",
              "<style scoped>\n",
              "    .dataframe tbody tr th:only-of-type {\n",
              "        vertical-align: middle;\n",
              "    }\n",
              "\n",
              "    .dataframe tbody tr th {\n",
              "        vertical-align: top;\n",
              "    }\n",
              "\n",
              "    .dataframe thead th {\n",
              "        text-align: right;\n",
              "    }\n",
              "</style>\n",
              "<table border=\"1\" class=\"dataframe\">\n",
              "  <thead>\n",
              "    <tr style=\"text-align: right;\">\n",
              "      <th></th>\n",
              "      <th>prior</th>\n",
              "      <th>likelihood</th>\n",
              "      <th>posterior</th>\n",
              "    </tr>\n",
              "  </thead>\n",
              "  <tbody>\n",
              "    <tr>\n",
              "      <th>Green</th>\n",
              "      <td>0.108</td>\n",
              "      <td>0.557</td>\n",
              "      <td>0.088</td>\n",
              "    </tr>\n",
              "    <tr>\n",
              "      <th>Hazel</th>\n",
              "      <td>0.159</td>\n",
              "      <td>0.762</td>\n",
              "      <td>0.178</td>\n",
              "    </tr>\n",
              "    <tr>\n",
              "      <th>Blue</th>\n",
              "      <td>0.366</td>\n",
              "      <td>0.503</td>\n",
              "      <td>0.271</td>\n",
              "    </tr>\n",
              "    <tr>\n",
              "      <th>Brown</th>\n",
              "      <td>0.364</td>\n",
              "      <td>0.855</td>\n",
              "      <td>0.458</td>\n",
              "    </tr>\n",
              "    <tr>\n",
              "      <th>Other</th>\n",
              "      <td>0.004</td>\n",
              "      <td>0.818</td>\n",
              "      <td>0.004</td>\n",
              "    </tr>\n",
              "  </tbody>\n",
              "</table>\n",
              "</div>\n",
              "      <button class=\"colab-df-convert\" onclick=\"convertToInteractive('df-1868d6eb-7dda-4e83-b44e-594f73c553a4')\"\n",
              "              title=\"Convert this dataframe to an interactive table.\"\n",
              "              style=\"display:none;\">\n",
              "        \n",
              "  <svg xmlns=\"http://www.w3.org/2000/svg\" height=\"24px\"viewBox=\"0 0 24 24\"\n",
              "       width=\"24px\">\n",
              "    <path d=\"M0 0h24v24H0V0z\" fill=\"none\"/>\n",
              "    <path d=\"M18.56 5.44l.94 2.06.94-2.06 2.06-.94-2.06-.94-.94-2.06-.94 2.06-2.06.94zm-11 1L8.5 8.5l.94-2.06 2.06-.94-2.06-.94L8.5 2.5l-.94 2.06-2.06.94zm10 10l.94 2.06.94-2.06 2.06-.94-2.06-.94-.94-2.06-.94 2.06-2.06.94z\"/><path d=\"M17.41 7.96l-1.37-1.37c-.4-.4-.92-.59-1.43-.59-.52 0-1.04.2-1.43.59L10.3 9.45l-7.72 7.72c-.78.78-.78 2.05 0 2.83L4 21.41c.39.39.9.59 1.41.59.51 0 1.02-.2 1.41-.59l7.78-7.78 2.81-2.81c.8-.78.8-2.07 0-2.86zM5.41 20L4 18.59l7.72-7.72 1.47 1.35L5.41 20z\"/>\n",
              "  </svg>\n",
              "      </button>\n",
              "      \n",
              "  <style>\n",
              "    .colab-df-container {\n",
              "      display:flex;\n",
              "      flex-wrap:wrap;\n",
              "      gap: 12px;\n",
              "    }\n",
              "\n",
              "    .colab-df-convert {\n",
              "      background-color: #E8F0FE;\n",
              "      border: none;\n",
              "      border-radius: 50%;\n",
              "      cursor: pointer;\n",
              "      display: none;\n",
              "      fill: #1967D2;\n",
              "      height: 32px;\n",
              "      padding: 0 0 0 0;\n",
              "      width: 32px;\n",
              "    }\n",
              "\n",
              "    .colab-df-convert:hover {\n",
              "      background-color: #E2EBFA;\n",
              "      box-shadow: 0px 1px 2px rgba(60, 64, 67, 0.3), 0px 1px 3px 1px rgba(60, 64, 67, 0.15);\n",
              "      fill: #174EA6;\n",
              "    }\n",
              "\n",
              "    [theme=dark] .colab-df-convert {\n",
              "      background-color: #3B4455;\n",
              "      fill: #D2E3FC;\n",
              "    }\n",
              "\n",
              "    [theme=dark] .colab-df-convert:hover {\n",
              "      background-color: #434B5C;\n",
              "      box-shadow: 0px 1px 3px 1px rgba(0, 0, 0, 0.15);\n",
              "      filter: drop-shadow(0px 1px 2px rgba(0, 0, 0, 0.3));\n",
              "      fill: #FFFFFF;\n",
              "    }\n",
              "  </style>\n",
              "\n",
              "      <script>\n",
              "        const buttonEl =\n",
              "          document.querySelector('#df-1868d6eb-7dda-4e83-b44e-594f73c553a4 button.colab-df-convert');\n",
              "        buttonEl.style.display =\n",
              "          google.colab.kernel.accessAllowed ? 'block' : 'none';\n",
              "\n",
              "        async function convertToInteractive(key) {\n",
              "          const element = document.querySelector('#df-1868d6eb-7dda-4e83-b44e-594f73c553a4');\n",
              "          const dataTable =\n",
              "            await google.colab.kernel.invokeFunction('convertToInteractive',\n",
              "                                                     [key], {});\n",
              "          if (!dataTable) return;\n",
              "\n",
              "          const docLinkHtml = 'Like what you see? Visit the ' +\n",
              "            '<a target=\"_blank\" href=https://colab.research.google.com/notebooks/data_table.ipynb>data table notebook</a>'\n",
              "            + ' to learn more about interactive tables.';\n",
              "          element.innerHTML = '';\n",
              "          dataTable['output_type'] = 'display_data';\n",
              "          await google.colab.output.renderOutput(dataTable, element);\n",
              "          const docLink = document.createElement('div');\n",
              "          docLink.innerHTML = docLinkHtml;\n",
              "          element.appendChild(docLink);\n",
              "        }\n",
              "      </script>\n",
              "    </div>\n",
              "  </div>\n",
              "  "
            ]
          },
          "metadata": {}
        }
      ]
    },
    {
      "cell_type": "markdown",
      "source": [
        "###### We notice that now brown eyes are more likely than blue eyes once we have information that the person has dark hair. This can also be visualized as shown below"
      ],
      "metadata": {
        "id": "9i9fJnecJwrp"
      }
    },
    {
      "cell_type": "code",
      "source": [
        "hyp = eyes.as_table().index\n",
        "dat = eyes.as_table()\n",
        "f, ax = plt.subplots(3,1,figsize=(3,9),)\n",
        "sns.barplot(y='prior',     x=hyp,data=dat,ax=ax[0])\n",
        "sns.barplot(y='likelihood',x=hyp,data=dat,ax=ax[1])\n",
        "sns.barplot(y='posterior', x=hyp,data=dat,ax=ax[2]).set(xlabel='hypothesis')\n",
        "plt.show()\n"
      ],
      "metadata": {
        "colab": {
          "base_uri": "https://localhost:8080/",
          "height": 557
        },
        "id": "ifz4tO6MbZLj",
        "outputId": "7c7eb8d4-da36-425b-8ffe-8dfe2b64e024"
      },
      "execution_count": 45,
      "outputs": [
        {
          "output_type": "display_data",
          "data": {
            "text/plain": [
              "<Figure size 216x648 with 3 Axes>"
            ],
            "image/png": "[encoded data removed]"
          },
          "metadata": {}
        }
      ]
    },
    {
      "cell_type": "code",
      "source": [
        ""
      ],
      "metadata": {
        "id": "D29mQhfWqjOJ"
      },
      "execution_count": null,
      "outputs": []
    },
    {
      "cell_type": "markdown",
      "source": [
        "## Example 13: Medical Tests - How well can a Covid test predict that you are actually infected ?"
      ],
      "metadata": {
        "id": "KwxskMyPKEvp"
      }
    },
    {
      "cell_type": "code",
      "source": [
        "## Covid Example.\n",
        "# Use figures from https://pubmed.ncbi.nlm.nih.gov/34242764/\n",
        "# Sensitivity of the rapid antigen test was 65.3% and the specificity was 99.9% \n",
        "## Here let's use fictitious numbers of specificity=97.5, sensitivity=94.3\n",
        "\n",
        "covid_test = BayesCalculator(['not infected','infected'],prior=[0.95,0.05])\n",
        "\n",
        "## Likelihoods (for -ve test) are specifity, 1- sensitivity\n",
        "## Likelihoods (for +ve test) are 1-specificity, sensitivity\n",
        "covid_test = covid_test \\\n",
        "            .set_likelihood('Negative',[97.5,5.7]) \\\n",
        "            .set_likelihood('Positive',[2.5, 94.3])"
      ],
      "metadata": {
        "id": "Ql0eKyCCqjRT"
      },
      "execution_count": 7,
      "outputs": []
    },
    {
      "cell_type": "code",
      "source": [
        "covid_test = covid_test.update('Positive')\n",
        "display(covid_test.as_table())"
      ],
      "metadata": {
        "colab": {
          "base_uri": "https://localhost:8080/",
          "height": 112
        },
        "id": "5RN0THicqjTv",
        "outputId": "f5f9b44c-5992-421b-ae49-2239dd7998ff"
      },
      "execution_count": 8,
      "outputs": [
        {
          "output_type": "display_data",
          "data": {
            "text/plain": [
              "              prior  likelihood  posterior\n",
              "not infected   0.95        2.50       0.33\n",
              "infected       0.05       94.30       0.67"
            ],
            "text/html": [
              "\n",
              "  <div id=\"df-b28a74ae-2652-4e1a-a701-c0994a19f8d9\">\n",
              "    <div class=\"colab-df-container\">\n",
              "      <div>\n",
              "<style scoped>\n",
              "    .dataframe tbody tr th:only-of-type {\n",
              "        vertical-align: middle;\n",
              "    }\n",
              "\n",
              "    .dataframe tbody tr th {\n",
              "        vertical-align: top;\n",
              "    }\n",
              "\n",
              "    .dataframe thead th {\n",
              "        text-align: right;\n",
              "    }\n",
              "</style>\n",
              "<table border=\"1\" class=\"dataframe\">\n",
              "  <thead>\n",
              "    <tr style=\"text-align: right;\">\n",
              "      <th></th>\n",
              "      <th>prior</th>\n",
              "      <th>likelihood</th>\n",
              "      <th>posterior</th>\n",
              "    </tr>\n",
              "  </thead>\n",
              "  <tbody>\n",
              "    <tr>\n",
              "      <th>not infected</th>\n",
              "      <td>0.95</td>\n",
              "      <td>2.50</td>\n",
              "      <td>0.33</td>\n",
              "    </tr>\n",
              "    <tr>\n",
              "      <th>infected</th>\n",
              "      <td>0.05</td>\n",
              "      <td>94.30</td>\n",
              "      <td>0.67</td>\n",
              "    </tr>\n",
              "  </tbody>\n",
              "</table>\n",
              "</div>\n",
              "      <button class=\"colab-df-convert\" onclick=\"convertToInteractive('df-b28a74ae-2652-4e1a-a701-c0994a19f8d9')\"\n",
              "              title=\"Convert this dataframe to an interactive table.\"\n",
              "              style=\"display:none;\">\n",
              "        \n",
              "  <svg xmlns=\"http://www.w3.org/2000/svg\" height=\"24px\"viewBox=\"0 0 24 24\"\n",
              "       width=\"24px\">\n",
              "    <path d=\"M0 0h24v24H0V0z\" fill=\"none\"/>\n",
              "    <path d=\"M18.56 5.44l.94 2.06.94-2.06 2.06-.94-2.06-.94-.94-2.06-.94 2.06-2.06.94zm-11 1L8.5 8.5l.94-2.06 2.06-.94-2.06-.94L8.5 2.5l-.94 2.06-2.06.94zm10 10l.94 2.06.94-2.06 2.06-.94-2.06-.94-.94-2.06-.94 2.06-2.06.94z\"/><path d=\"M17.41 7.96l-1.37-1.37c-.4-.4-.92-.59-1.43-.59-.52 0-1.04.2-1.43.59L10.3 9.45l-7.72 7.72c-.78.78-.78 2.05 0 2.83L4 21.41c.39.39.9.59 1.41.59.51 0 1.02-.2 1.41-.59l7.78-7.78 2.81-2.81c.8-.78.8-2.07 0-2.86zM5.41 20L4 18.59l7.72-7.72 1.47 1.35L5.41 20z\"/>\n",
              "  </svg>\n",
              "      </button>\n",
              "      \n",
              "  <style>\n",
              "    .colab-df-container {\n",
              "      display:flex;\n",
              "      flex-wrap:wrap;\n",
              "      gap: 12px;\n",
              "    }\n",
              "\n",
              "    .colab-df-convert {\n",
              "      background-color: #E8F0FE;\n",
              "      border: none;\n",
              "      border-radius: 50%;\n",
              "      cursor: pointer;\n",
              "      display: none;\n",
              "      fill: #1967D2;\n",
              "      height: 32px;\n",
              "      padding: 0 0 0 0;\n",
              "      width: 32px;\n",
              "    }\n",
              "\n",
              "    .colab-df-convert:hover {\n",
              "      background-color: #E2EBFA;\n",
              "      box-shadow: 0px 1px 2px rgba(60, 64, 67, 0.3), 0px 1px 3px 1px rgba(60, 64, 67, 0.15);\n",
              "      fill: #174EA6;\n",
              "    }\n",
              "\n",
              "    [theme=dark] .colab-df-convert {\n",
              "      background-color: #3B4455;\n",
              "      fill: #D2E3FC;\n",
              "    }\n",
              "\n",
              "    [theme=dark] .colab-df-convert:hover {\n",
              "      background-color: #434B5C;\n",
              "      box-shadow: 0px 1px 3px 1px rgba(0, 0, 0, 0.15);\n",
              "      filter: drop-shadow(0px 1px 2px rgba(0, 0, 0, 0.3));\n",
              "      fill: #FFFFFF;\n",
              "    }\n",
              "  </style>\n",
              "\n",
              "      <script>\n",
              "        const buttonEl =\n",
              "          document.querySelector('#df-b28a74ae-2652-4e1a-a701-c0994a19f8d9 button.colab-df-convert');\n",
              "        buttonEl.style.display =\n",
              "          google.colab.kernel.accessAllowed ? 'block' : 'none';\n",
              "\n",
              "        async function convertToInteractive(key) {\n",
              "          const element = document.querySelector('#df-b28a74ae-2652-4e1a-a701-c0994a19f8d9');\n",
              "          const dataTable =\n",
              "            await google.colab.kernel.invokeFunction('convertToInteractive',\n",
              "                                                     [key], {});\n",
              "          if (!dataTable) return;\n",
              "\n",
              "          const docLinkHtml = 'Like what you see? Visit the ' +\n",
              "            '<a target=\"_blank\" href=https://colab.research.google.com/notebooks/data_table.ipynb>data table notebook</a>'\n",
              "            + ' to learn more about interactive tables.';\n",
              "          element.innerHTML = '';\n",
              "          dataTable['output_type'] = 'display_data';\n",
              "          await google.colab.output.renderOutput(dataTable, element);\n",
              "          const docLink = document.createElement('div');\n",
              "          docLink.innerHTML = docLinkHtml;\n",
              "          element.appendChild(docLink);\n",
              "        }\n",
              "      </script>\n",
              "    </div>\n",
              "  </div>\n",
              "  "
            ]
          },
          "metadata": {}
        }
      ]
    },
    {
      "cell_type": "markdown",
      "source": [
        "### testing"
      ],
      "metadata": {
        "id": "vxzfEi2L_66P"
      }
    },
    {
      "cell_type": "code",
      "source": [
        "sensitivity = 0.943\n",
        "specificity = 0.957\n",
        "prevalence = np.linspace(0,1.,100)\n",
        "infected_prob_pos = []\n",
        "infected_prob_neg = []\n",
        "for p in prevalence:\n",
        "  test = BayesCalculator(['NI','I'],prior=[1-p,p]) \\\n",
        "          .set_likelihood('-',[specificity,    1.-sensitivity]) \\\n",
        "          .set_likelihood('+',[1.-specificity, sensitivity])\n",
        "  test = test.update('+')\n",
        "  infected_prob_pos.append(test.update('+').posterior()['I'])\n",
        "  infected_prob_neg.append(test.update('-').posterior()['I'])\n"
      ],
      "metadata": {
        "id": "iddS-QkeqjWT"
      },
      "execution_count": 9,
      "outputs": []
    },
    {
      "cell_type": "code",
      "source": [
        "infected_prob = pd.DataFrame({'+ve test':infected_prob_pos, '-ve test':infected_prob_neg},index=prevalence)\n",
        "sns.lineplot(data=infected_prob).set(xlabel='prevalence rate',\n",
        "                                     ylabel='infection probability',\n",
        "                                     title='Covid Test with sensitivity=0.943, specificity=0.975')\n",
        "plt.show()"
      ],
      "metadata": {
        "colab": {
          "base_uri": "https://localhost:8080/",
          "height": 301
        },
        "id": "2TF62h9RwNF5",
        "outputId": "bcb32a8a-1e63-498a-b2c4-1b7dcd7a2cbb"
      },
      "execution_count": 10,
      "outputs": [
        {
          "output_type": "display_data",
          "data": {
            "text/plain": [
              "<Figure size 432x288 with 1 Axes>"
            ],
            "image/png": "[encoded data removed]"
          },
          "metadata": {}
        }
      ]
    },
    {
      "cell_type": "code",
      "source": [
        "ss_values = np.linspace(0,1.,100)\n",
        "covid_rate_sens = []\n",
        "ss = np.linspace(0,1.,100)\n",
        "covid_rate_sens = []\n",
        "covid_rate_spec = []\n",
        "\n",
        "for s in ss_values:\n",
        "  specificity = 0.95\n",
        "  sensitivity = s\n",
        "  test = BayesCalculator(['NI','I'],prior=[0.95,0.05]) \\\n",
        "          .set_likelihood('-',[specificity,    1.-sensitivity]) \\\n",
        "          .set_likelihood('+',[1.-specificity, sensitivity])\n",
        "  covid_rate_sens.append(test.update('+').posterior()['I'])\n",
        "\n",
        "for s in ss_values:\n",
        "  specificity = s\n",
        "  sensitivity = 0.95\n",
        "  test = BayesCalculator(['NI','I'],prior=[0.95,0.05]) \\\n",
        "          .set_likelihood('-',[specificity,    1.-sensitivity]) \\\n",
        "          .set_likelihood('+',[1.-specificity, sensitivity])\n",
        "  covid_rate_spec.append(test.update('+').posterior()['I'])"
      ],
      "metadata": {
        "id": "jvHbQ8kn3s7y"
      },
      "execution_count": 11,
      "outputs": []
    },
    {
      "cell_type": "code",
      "source": [
        ""
      ],
      "metadata": {
        "id": "-a2avTGx5f91"
      },
      "execution_count": null,
      "outputs": []
    },
    {
      "cell_type": "code",
      "source": [
        "infected_prob = pd.DataFrame({'sensitivity, with specificity=0.95':covid_rate_sens, \n",
        "                              'specificity, with sensitivity=0.95':covid_rate_spec},\n",
        "                              index=ss_values)\n",
        "sns.lineplot(data=infected_prob).set(xlabel='sensitivity/sensitivity',\n",
        "                                     ylabel='Prob(infected|+ve test)',\n",
        "                                     title='Varying sensitivity/specificity of test with 5% prevalance rate')\n",
        "plt.show()"
      ],
      "metadata": {
        "colab": {
          "base_uri": "https://localhost:8080/",
          "height": 301
        },
        "id": "fcpawkpy3s__",
        "outputId": "2f676032-4141-4832-a645-f136704bf2ca"
      },
      "execution_count": 12,
      "outputs": [
        {
          "output_type": "display_data",
          "data": {
            "text/plain": [
              "<Figure size 432x288 with 1 Axes>"
            ],
            "image/png": "[encoded data removed]"
          },
          "metadata": {}
        }
      ]
    },
    {
      "cell_type": "code",
      "source": [
        ""
      ],
      "metadata": {
        "id": "9Nq2Aj3RwNIa"
      },
      "execution_count": null,
      "outputs": []
    }
  ]
}