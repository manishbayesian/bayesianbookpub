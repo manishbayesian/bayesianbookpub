{
  "nbformat": 4,
  "nbformat_minor": 0,
  "metadata": {
    "colab": {
      "name": "Chapter1 - BayesCalculator, Examples X - XX.ipynb",
      "provenance": [],
      "authorship_tag": "ABX9TyMxUI+/ZkWco/mQ0vgz8YWO",
      "include_colab_link": true
    },
    "kernelspec": {
      "name": "python3",
      "display_name": "Python 3"
    },
    "language_info": {
      "name": "python"
    }
  },
  "cells": [
    {
      "cell_type": "markdown",
      "metadata": {
        "id": "view-in-github",
        "colab_type": "text"
      },
      "source": [
        "<a href=\"https://colab.research.google.com/github/manishbayesian/bayesianbookpub/blob/main/Chapter1_BayesCalculator%2C_Examples_X_XX.ipynb\" target=\"_parent\"><img src=\"https://colab.research.google.com/assets/colab-badge.svg\" alt=\"Open In Colab\"/></a>"
      ]
    },
    {
      "cell_type": "markdown",
      "source": [
        "### Chapter 1: Bayes Theorem & Examples X-XX. \n",
        "A simple calculator usingn Bayes' Theorem, and its applications as in Examples X through XX."
      ],
      "metadata": {
        "id": "CnxdDWjnNBhM"
      }
    },
    {
      "cell_type": "code",
      "execution_count": 2,
      "metadata": {
        "id": "3g3vOu0yKJTz"
      },
      "outputs": [],
      "source": [
        "from scipy import special\n",
        "import math\n",
        "import pandas as pd\n",
        "import matplotlib.pyplot as plt\n",
        "import seaborn as sns\n",
        "from numpy import random\n",
        "import numpy as np\n",
        "\n",
        "sns.set_theme(style=\"darkgrid\")\n",
        "pd.set_option('display.precision', 2)\n",
        "pd.set_option('display.float_format',  '{:,.2f}'.format)"
      ]
    },
    {
      "cell_type": "code",
      "source": [
        ""
      ],
      "metadata": {
        "id": "XftlaO2jFT1a"
      },
      "execution_count": null,
      "outputs": []
    },
    {
      "cell_type": "code",
      "source": [
        ""
      ],
      "metadata": {
        "id": "UxGzd3TVFT4C"
      },
      "execution_count": null,
      "outputs": []
    },
    {
      "cell_type": "code",
      "source": [
        "class BayesCalculator:\n",
        "  \"\"\"\n",
        "  Simple class that allows update of (posterior) based on\n",
        "  \"\"\"\n",
        "\n",
        "  def __init__(self, hypotheses, prior=None):\n",
        "      \"\"\"Prints what the animals name is and what sound it makes.\n",
        "\n",
        "        If the argument `sound` isn't passed in, the default Animal\n",
        "        sound is used.\n",
        "\n",
        "        Parameters\n",
        "        ----------\n",
        "        sound : str, optional\n",
        "            The sound the animal makes (default is None)\n",
        "        \"\"\"\n",
        "      if not prior:\n",
        "        prior = np.ones(len(hypotheses))\n",
        "      else:\n",
        "        assert len(prior) == len(hypotheses), 'len(hypotheses) == len(prior)'\n",
        "        prior = np.asarray(prior)\n",
        "      prior = prior/sum(prior)\n",
        "      self._bayes_df = pd.DataFrame(prior, index=hypotheses, columns=['prior'])\n",
        "     \n",
        "      self._bayes_df['likelihood'] = np.nan\n",
        "      self._bayes_df['posterior'] = prior.copy()\n",
        "      self._likelihoods = pd.DataFrame(index=hypotheses)\n",
        "\n",
        "  def set_likelihood(self, data, likelihood):\n",
        "      assert len(likelihood) == len(self._bayes_df.index), 'len(likelihood) == len(self.hypotheses)'\n",
        "      self._likelihoods[data] = np.asarray(likelihood)\n",
        "      return self\n",
        "\n",
        "  def prior(self):\n",
        "    return self._bayes_df['prior']\n",
        "\n",
        "  def posterior(self):\n",
        "    return self._bayes_df['posterior']\n",
        "\n",
        "  def get_likelihood(self, data):\n",
        "    return self._likelihoods[data]\n",
        "\n",
        "  def likelihoods(self):\n",
        "    return self._likelihoods\n",
        "\n",
        "  def as_table(self):\n",
        "    return self._bayes_df\n",
        "  \n",
        "  def update(self, data):\n",
        "    unscaled_posterior = self._bayes_df['prior'] * self._likelihoods[data]\n",
        "    self._bayes_df['likelihood'] = self._likelihoods[data] ## for display purposes, we store this\n",
        "    self._bayes_df['posterior'] = unscaled_posterior/sum(unscaled_posterior)\n",
        "    return self\n"
      ],
      "metadata": {
        "id": "29fxLdF6FT7A"
      },
      "execution_count": 3,
      "outputs": []
    },
    {
      "cell_type": "code",
      "source": [
        ""
      ],
      "metadata": {
        "id": "pNq3zXCk6grU"
      },
      "execution_count": null,
      "outputs": []
    },
    {
      "cell_type": "code",
      "source": [
        ""
      ],
      "metadata": {
        "id": "beYDdfHV6gwX"
      },
      "execution_count": null,
      "outputs": []
    },
    {
      "cell_type": "code",
      "source": [
        ""
      ],
      "metadata": {
        "id": "ijFPQdf16gyp"
      },
      "execution_count": null,
      "outputs": []
    },
    {
      "cell_type": "code",
      "source": [
        "## example usage\n",
        "eyes = BayesCalculator(['blue','brown'],prior=[0.5,0.5]) \\\n",
        "        .set_likelihood('dark',[10,20]) \\\n",
        "        .set_likelihood('light',[15,7])\n"
      ],
      "metadata": {
        "id": "BZFYHuXxIxqZ"
      },
      "execution_count": 4,
      "outputs": []
    },
    {
      "cell_type": "code",
      "source": [
        "eyes = eyes.update('dark')\n",
        "display(eyes.as_table())"
      ],
      "metadata": {
        "colab": {
          "base_uri": "https://localhost:8080/",
          "height": 112
        },
        "id": "xh3DfwYbbZJP",
        "outputId": "e1a659a5-0526-4509-e271-e2bd051ae810"
      },
      "execution_count": 5,
      "outputs": [
        {
          "output_type": "display_data",
          "data": {
            "text/plain": [
              "       prior  likelihood  posterior\n",
              "blue    0.50          10       0.33\n",
              "brown   0.50          20       0.67"
            ],
            "text/html": [
              "\n",
              "  <div id=\"df-75ec5a2a-b93c-443a-8350-21ac080a6bbb\">\n",
              "    <div class=\"colab-df-container\">\n",
              "      <div>\n",
              "<style scoped>\n",
              "    .dataframe tbody tr th:only-of-type {\n",
              "        vertical-align: middle;\n",
              "    }\n",
              "\n",
              "    .dataframe tbody tr th {\n",
              "        vertical-align: top;\n",
              "    }\n",
              "\n",
              "    .dataframe thead th {\n",
              "        text-align: right;\n",
              "    }\n",
              "</style>\n",
              "<table border=\"1\" class=\"dataframe\">\n",
              "  <thead>\n",
              "    <tr style=\"text-align: right;\">\n",
              "      <th></th>\n",
              "      <th>prior</th>\n",
              "      <th>likelihood</th>\n",
              "      <th>posterior</th>\n",
              "    </tr>\n",
              "  </thead>\n",
              "  <tbody>\n",
              "    <tr>\n",
              "      <th>blue</th>\n",
              "      <td>0.50</td>\n",
              "      <td>10</td>\n",
              "      <td>0.33</td>\n",
              "    </tr>\n",
              "    <tr>\n",
              "      <th>brown</th>\n",
              "      <td>0.50</td>\n",
              "      <td>20</td>\n",
              "      <td>0.67</td>\n",
              "    </tr>\n",
              "  </tbody>\n",
              "</table>\n",
              "</div>\n",
              "      <button class=\"colab-df-convert\" onclick=\"convertToInteractive('df-75ec5a2a-b93c-443a-8350-21ac080a6bbb')\"\n",
              "              title=\"Convert this dataframe to an interactive table.\"\n",
              "              style=\"display:none;\">\n",
              "        \n",
              "  <svg xmlns=\"http://www.w3.org/2000/svg\" height=\"24px\"viewBox=\"0 0 24 24\"\n",
              "       width=\"24px\">\n",
              "    <path d=\"M0 0h24v24H0V0z\" fill=\"none\"/>\n",
              "    <path d=\"M18.56 5.44l.94 2.06.94-2.06 2.06-.94-2.06-.94-.94-2.06-.94 2.06-2.06.94zm-11 1L8.5 8.5l.94-2.06 2.06-.94-2.06-.94L8.5 2.5l-.94 2.06-2.06.94zm10 10l.94 2.06.94-2.06 2.06-.94-2.06-.94-.94-2.06-.94 2.06-2.06.94z\"/><path d=\"M17.41 7.96l-1.37-1.37c-.4-.4-.92-.59-1.43-.59-.52 0-1.04.2-1.43.59L10.3 9.45l-7.72 7.72c-.78.78-.78 2.05 0 2.83L4 21.41c.39.39.9.59 1.41.59.51 0 1.02-.2 1.41-.59l7.78-7.78 2.81-2.81c.8-.78.8-2.07 0-2.86zM5.41 20L4 18.59l7.72-7.72 1.47 1.35L5.41 20z\"/>\n",
              "  </svg>\n",
              "      </button>\n",
              "      \n",
              "  <style>\n",
              "    .colab-df-container {\n",
              "      display:flex;\n",
              "      flex-wrap:wrap;\n",
              "      gap: 12px;\n",
              "    }\n",
              "\n",
              "    .colab-df-convert {\n",
              "      background-color: #E8F0FE;\n",
              "      border: none;\n",
              "      border-radius: 50%;\n",
              "      cursor: pointer;\n",
              "      display: none;\n",
              "      fill: #1967D2;\n",
              "      height: 32px;\n",
              "      padding: 0 0 0 0;\n",
              "      width: 32px;\n",
              "    }\n",
              "\n",
              "    .colab-df-convert:hover {\n",
              "      background-color: #E2EBFA;\n",
              "      box-shadow: 0px 1px 2px rgba(60, 64, 67, 0.3), 0px 1px 3px 1px rgba(60, 64, 67, 0.15);\n",
              "      fill: #174EA6;\n",
              "    }\n",
              "\n",
              "    [theme=dark] .colab-df-convert {\n",
              "      background-color: #3B4455;\n",
              "      fill: #D2E3FC;\n",
              "    }\n",
              "\n",
              "    [theme=dark] .colab-df-convert:hover {\n",
              "      background-color: #434B5C;\n",
              "      box-shadow: 0px 1px 3px 1px rgba(0, 0, 0, 0.15);\n",
              "      filter: drop-shadow(0px 1px 2px rgba(0, 0, 0, 0.3));\n",
              "      fill: #FFFFFF;\n",
              "    }\n",
              "  </style>\n",
              "\n",
              "      <script>\n",
              "        const buttonEl =\n",
              "          document.querySelector('#df-75ec5a2a-b93c-443a-8350-21ac080a6bbb button.colab-df-convert');\n",
              "        buttonEl.style.display =\n",
              "          google.colab.kernel.accessAllowed ? 'block' : 'none';\n",
              "\n",
              "        async function convertToInteractive(key) {\n",
              "          const element = document.querySelector('#df-75ec5a2a-b93c-443a-8350-21ac080a6bbb');\n",
              "          const dataTable =\n",
              "            await google.colab.kernel.invokeFunction('convertToInteractive',\n",
              "                                                     [key], {});\n",
              "          if (!dataTable) return;\n",
              "\n",
              "          const docLinkHtml = 'Like what you see? Visit the ' +\n",
              "            '<a target=\"_blank\" href=https://colab.research.google.com/notebooks/data_table.ipynb>data table notebook</a>'\n",
              "            + ' to learn more about interactive tables.';\n",
              "          element.innerHTML = '';\n",
              "          dataTable['output_type'] = 'display_data';\n",
              "          await google.colab.output.renderOutput(dataTable, element);\n",
              "          const docLink = document.createElement('div');\n",
              "          docLink.innerHTML = docLinkHtml;\n",
              "          element.appendChild(docLink);\n",
              "        }\n",
              "      </script>\n",
              "    </div>\n",
              "  </div>\n",
              "  "
            ]
          },
          "metadata": {}
        }
      ]
    },
    {
      "cell_type": "code",
      "source": [
        ""
      ],
      "metadata": {
        "id": "zSkSnIOGu4I0"
      },
      "execution_count": null,
      "outputs": []
    },
    {
      "cell_type": "code",
      "source": [
        "hyp = eyes.as_table().index\n",
        "dat = eyes.as_table()\n",
        "f, ax = plt.subplots(3,1,figsize=(3,9),)\n",
        "sns.barplot(y='prior',     x=hyp,data=dat,ax=ax[0])\n",
        "sns.barplot(y='likelihood',x=hyp,data=dat,ax=ax[1])\n",
        "sns.barplot(y='posterior', x=hyp,data=dat,ax=ax[2]).set(xlabel='hypothesis')\n",
        "plt.show()\n"
      ],
      "metadata": {
        "colab": {
          "base_uri": "https://localhost:8080/",
          "height": 557
        },
        "id": "ifz4tO6MbZLj",
        "outputId": "3f485343-1545-43c6-a0f9-3fc46ec84c55"
      },
      "execution_count": 6,
      "outputs": [
        {
          "output_type": "display_data",
          "data": {
            "text/plain": [
              "<Figure size 216x648 with 3 Axes>"
            ],
            "image/png": "[encoded data removed]"
          },
          "metadata": {}
        }
      ]
    },
    {
      "cell_type": "code",
      "source": [
        ""
      ],
      "metadata": {
        "id": "D29mQhfWqjOJ"
      },
      "execution_count": null,
      "outputs": []
    },
    {
      "cell_type": "code",
      "source": [
        "## Covid Example.\n",
        "# Use figures from https://pubmed.ncbi.nlm.nih.gov/34242764/\n",
        "# Sensitivity of the rapid antigen test was 65.3% and the specificity was 99.9% \n",
        "## Here let's use fictitious numbers of specificity=97.5, sensitivity=94.3\n",
        "\n",
        "covid_test = BayesCalculator(['not infected','infected'],prior=[0.95,0.05])\n",
        "\n",
        "## Likelihoods (for -ve test) are specifity, 1- sensitivity\n",
        "## Likelihoods (for +ve test) are 1-specificity, sensitivity\n",
        "covid_test = covid_test \\\n",
        "            .set_likelihood('Negative',[97.5,5.7]) \\\n",
        "            .set_likelihood('Positive',[2.5, 94.3])"
      ],
      "metadata": {
        "id": "Ql0eKyCCqjRT"
      },
      "execution_count": 7,
      "outputs": []
    },
    {
      "cell_type": "code",
      "source": [
        "covid_test = covid_test.update('Positive')\n",
        "display(covid_test.as_table())"
      ],
      "metadata": {
        "colab": {
          "base_uri": "https://localhost:8080/",
          "height": 112
        },
        "id": "5RN0THicqjTv",
        "outputId": "f5f9b44c-5992-421b-ae49-2239dd7998ff"
      },
      "execution_count": 8,
      "outputs": [
        {
          "output_type": "display_data",
          "data": {
            "text/plain": [
              "              prior  likelihood  posterior\n",
              "not infected   0.95        2.50       0.33\n",
              "infected       0.05       94.30       0.67"
            ],
            "text/html": [
              "\n",
              "  <div id=\"df-b28a74ae-2652-4e1a-a701-c0994a19f8d9\">\n",
              "    <div class=\"colab-df-container\">\n",
              "      <div>\n",
              "<style scoped>\n",
              "    .dataframe tbody tr th:only-of-type {\n",
              "        vertical-align: middle;\n",
              "    }\n",
              "\n",
              "    .dataframe tbody tr th {\n",
              "        vertical-align: top;\n",
              "    }\n",
              "\n",
              "    .dataframe thead th {\n",
              "        text-align: right;\n",
              "    }\n",
              "</style>\n",
              "<table border=\"1\" class=\"dataframe\">\n",
              "  <thead>\n",
              "    <tr style=\"text-align: right;\">\n",
              "      <th></th>\n",
              "      <th>prior</th>\n",
              "      <th>likelihood</th>\n",
              "      <th>posterior</th>\n",
              "    </tr>\n",
              "  </thead>\n",
              "  <tbody>\n",
              "    <tr>\n",
              "      <th>not infected</th>\n",
              "      <td>0.95</td>\n",
              "      <td>2.50</td>\n",
              "      <td>0.33</td>\n",
              "    </tr>\n",
              "    <tr>\n",
              "      <th>infected</th>\n",
              "      <td>0.05</td>\n",
              "      <td>94.30</td>\n",
              "      <td>0.67</td>\n",
              "    </tr>\n",
              "  </tbody>\n",
              "</table>\n",
              "</div>\n",
              "      <button class=\"colab-df-convert\" onclick=\"convertToInteractive('df-b28a74ae-2652-4e1a-a701-c0994a19f8d9')\"\n",
              "              title=\"Convert this dataframe to an interactive table.\"\n",
              "              style=\"display:none;\">\n",
              "        \n",
              "  <svg xmlns=\"http://www.w3.org/2000/svg\" height=\"24px\"viewBox=\"0 0 24 24\"\n",
              "       width=\"24px\">\n",
              "    <path d=\"M0 0h24v24H0V0z\" fill=\"none\"/>\n",
              "    <path d=\"M18.56 5.44l.94 2.06.94-2.06 2.06-.94-2.06-.94-.94-2.06-.94 2.06-2.06.94zm-11 1L8.5 8.5l.94-2.06 2.06-.94-2.06-.94L8.5 2.5l-.94 2.06-2.06.94zm10 10l.94 2.06.94-2.06 2.06-.94-2.06-.94-.94-2.06-.94 2.06-2.06.94z\"/><path d=\"M17.41 7.96l-1.37-1.37c-.4-.4-.92-.59-1.43-.59-.52 0-1.04.2-1.43.59L10.3 9.45l-7.72 7.72c-.78.78-.78 2.05 0 2.83L4 21.41c.39.39.9.59 1.41.59.51 0 1.02-.2 1.41-.59l7.78-7.78 2.81-2.81c.8-.78.8-2.07 0-2.86zM5.41 20L4 18.59l7.72-7.72 1.47 1.35L5.41 20z\"/>\n",
              "  </svg>\n",
              "      </button>\n",
              "      \n",
              "  <style>\n",
              "    .colab-df-container {\n",
              "      display:flex;\n",
              "      flex-wrap:wrap;\n",
              "      gap: 12px;\n",
              "    }\n",
              "\n",
              "    .colab-df-convert {\n",
              "      background-color: #E8F0FE;\n",
              "      border: none;\n",
              "      border-radius: 50%;\n",
              "      cursor: pointer;\n",
              "      display: none;\n",
              "      fill: #1967D2;\n",
              "      height: 32px;\n",
              "      padding: 0 0 0 0;\n",
              "      width: 32px;\n",
              "    }\n",
              "\n",
              "    .colab-df-convert:hover {\n",
              "      background-color: #E2EBFA;\n",
              "      box-shadow: 0px 1px 2px rgba(60, 64, 67, 0.3), 0px 1px 3px 1px rgba(60, 64, 67, 0.15);\n",
              "      fill: #174EA6;\n",
              "    }\n",
              "\n",
              "    [theme=dark] .colab-df-convert {\n",
              "      background-color: #3B4455;\n",
              "      fill: #D2E3FC;\n",
              "    }\n",
              "\n",
              "    [theme=dark] .colab-df-convert:hover {\n",
              "      background-color: #434B5C;\n",
              "      box-shadow: 0px 1px 3px 1px rgba(0, 0, 0, 0.15);\n",
              "      filter: drop-shadow(0px 1px 2px rgba(0, 0, 0, 0.3));\n",
              "      fill: #FFFFFF;\n",
              "    }\n",
              "  </style>\n",
              "\n",
              "      <script>\n",
              "        const buttonEl =\n",
              "          document.querySelector('#df-b28a74ae-2652-4e1a-a701-c0994a19f8d9 button.colab-df-convert');\n",
              "        buttonEl.style.display =\n",
              "          google.colab.kernel.accessAllowed ? 'block' : 'none';\n",
              "\n",
              "        async function convertToInteractive(key) {\n",
              "          const element = document.querySelector('#df-b28a74ae-2652-4e1a-a701-c0994a19f8d9');\n",
              "          const dataTable =\n",
              "            await google.colab.kernel.invokeFunction('convertToInteractive',\n",
              "                                                     [key], {});\n",
              "          if (!dataTable) return;\n",
              "\n",
              "          const docLinkHtml = 'Like what you see? Visit the ' +\n",
              "            '<a target=\"_blank\" href=https://colab.research.google.com/notebooks/data_table.ipynb>data table notebook</a>'\n",
              "            + ' to learn more about interactive tables.';\n",
              "          element.innerHTML = '';\n",
              "          dataTable['output_type'] = 'display_data';\n",
              "          await google.colab.output.renderOutput(dataTable, element);\n",
              "          const docLink = document.createElement('div');\n",
              "          docLink.innerHTML = docLinkHtml;\n",
              "          element.appendChild(docLink);\n",
              "        }\n",
              "      </script>\n",
              "    </div>\n",
              "  </div>\n",
              "  "
            ]
          },
          "metadata": {}
        }
      ]
    },
    {
      "cell_type": "markdown",
      "source": [
        "### testing"
      ],
      "metadata": {
        "id": "vxzfEi2L_66P"
      }
    },
    {
      "cell_type": "code",
      "source": [
        "sensitivity = 0.943\n",
        "specificity = 0.957\n",
        "prevalence = np.linspace(0,1.,100)\n",
        "infected_prob_pos = []\n",
        "infected_prob_neg = []\n",
        "for p in prevalence:\n",
        "  test = BayesCalculator(['NI','I'],prior=[1-p,p]) \\\n",
        "          .set_likelihood('-',[specificity,    1.-sensitivity]) \\\n",
        "          .set_likelihood('+',[1.-specificity, sensitivity])\n",
        "  test = test.update('+')\n",
        "  infected_prob_pos.append(test.update('+').posterior()['I'])\n",
        "  infected_prob_neg.append(test.update('-').posterior()['I'])\n"
      ],
      "metadata": {
        "id": "iddS-QkeqjWT"
      },
      "execution_count": 9,
      "outputs": []
    },
    {
      "cell_type": "code",
      "source": [
        "infected_prob = pd.DataFrame({'+ve test':infected_prob_pos, '-ve test':infected_prob_neg},index=prevalence)\n",
        "sns.lineplot(data=infected_prob).set(xlabel='prevalence rate',\n",
        "                                     ylabel='infection probability',\n",
        "                                     title='Covid Test with sensitivity=0.943, specificity=0.975')\n",
        "plt.show()"
      ],
      "metadata": {
        "colab": {
          "base_uri": "https://localhost:8080/",
          "height": 301
        },
        "id": "2TF62h9RwNF5",
        "outputId": "bcb32a8a-1e63-498a-b2c4-1b7dcd7a2cbb"
      },
      "execution_count": 10,
      "outputs": [
        {
          "output_type": "display_data",
          "data": {
            "text/plain": [
              "<Figure size 432x288 with 1 Axes>"
            ],
            "image/png": "[encoded data removed]"
          },
          "metadata": {}
        }
      ]
    },
    {
      "cell_type": "code",
      "source": [
        "ss_values = np.linspace(0,1.,100)\n",
        "covid_rate_sens = []\n",
        "ss = np.linspace(0,1.,100)\n",
        "covid_rate_sens = []\n",
        "covid_rate_spec = []\n",
        "\n",
        "for s in ss_values:\n",
        "  specificity = 0.95\n",
        "  sensitivity = s\n",
        "  test = BayesCalculator(['NI','I'],prior=[0.95,0.05]) \\\n",
        "          .set_likelihood('-',[specificity,    1.-sensitivity]) \\\n",
        "          .set_likelihood('+',[1.-specificity, sensitivity])\n",
        "  covid_rate_sens.append(test.update('+').posterior()['I'])\n",
        "\n",
        "for s in ss_values:\n",
        "  specificity = s\n",
        "  sensitivity = 0.95\n",
        "  test = BayesCalculator(['NI','I'],prior=[0.95,0.05]) \\\n",
        "          .set_likelihood('-',[specificity,    1.-sensitivity]) \\\n",
        "          .set_likelihood('+',[1.-specificity, sensitivity])\n",
        "  covid_rate_spec.append(test.update('+').posterior()['I'])"
      ],
      "metadata": {
        "id": "jvHbQ8kn3s7y"
      },
      "execution_count": 11,
      "outputs": []
    },
    {
      "cell_type": "code",
      "source": [
        ""
      ],
      "metadata": {
        "id": "-a2avTGx5f91"
      },
      "execution_count": null,
      "outputs": []
    },
    {
      "cell_type": "code",
      "source": [
        "infected_prob = pd.DataFrame({'sensitivity, with specificity=0.95':covid_rate_sens, \n",
        "                              'specificity, with sensitivity=0.95':covid_rate_spec},\n",
        "                              index=ss_values)\n",
        "sns.lineplot(data=infected_prob).set(xlabel='sensitivity/sensitivity',\n",
        "                                     ylabel='Prob(infected|+ve test)',\n",
        "                                     title='Varying sensitivity/specificity of test with 5% prevalance rate')\n",
        "plt.show()"
      ],
      "metadata": {
        "colab": {
          "base_uri": "https://localhost:8080/",
          "height": 301
        },
        "id": "fcpawkpy3s__",
        "outputId": "2f676032-4141-4832-a645-f136704bf2ca"
      },
      "execution_count": 12,
      "outputs": [
        {
          "output_type": "display_data",
          "data": {
            "text/plain": [
              "<Figure size 432x288 with 1 Axes>"
            ],
            "image/png": "[encoded data removed]"
          },
          "metadata": {}
        }
      ]
    },
    {
      "cell_type": "code",
      "source": [
        ""
      ],
      "metadata": {
        "id": "9Nq2Aj3RwNIa"
      },
      "execution_count": null,
      "outputs": []
    }
  ]
}