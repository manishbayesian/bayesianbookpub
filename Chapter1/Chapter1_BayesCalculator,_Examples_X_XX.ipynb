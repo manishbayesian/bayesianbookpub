{
  "nbformat": 4,
  "nbformat_minor": 0,
  "metadata": {
    "colab": {
      "name": "Chapter1 - BayesCalculator, Examples X - XX.ipynb",
      "provenance": [],
      "authorship_tag": "ABX9TyOJEfE/K049YJMrgNSSuuBB",
      "include_colab_link": true
    },
    "kernelspec": {
      "name": "python3",
      "display_name": "Python 3"
    },
    "language_info": {
      "name": "python"
    }
  },
  "cells": [
    {
      "cell_type": "markdown",
      "metadata": {
        "id": "view-in-github",
        "colab_type": "text"
      },
      "source": [
        "<a href=\"https://colab.research.google.com/github/manishbayesian/bayesianbookpub/blob/main/Chapter1_BayesCalculator%2C_Examples_X_XX.ipynb\" target=\"_parent\"><img src=\"https://colab.research.google.com/assets/colab-badge.svg\" alt=\"Open In Colab\"/></a>"
      ]
    },
    {
      "cell_type": "markdown",
      "source": [
        "### Chapter 1: Bayes Theorem & Examples X-XX. \n",
        "A simple calculator usingn Bayes' Theorem, and its applications as in Examples X through XX."
      ],
      "metadata": {
        "id": "CnxdDWjnNBhM"
      }
    },
    {
      "cell_type": "code",
      "execution_count": 2,
      "metadata": {
        "id": "3g3vOu0yKJTz"
      },
      "outputs": [],
      "source": [
        "from scipy import special\n",
        "import math\n",
        "import pandas as pd\n",
        "import matplotlib.pyplot as plt\n",
        "import seaborn as sns\n",
        "from numpy import random\n",
        "import numpy as np\n",
        "\n",
        "sns.set_theme(style=\"darkgrid\")\n",
        "pd.set_option('display.precision', 3)\n",
        "pd.set_option('display.float_format',  '{:,.3f}'.format)"
      ]
    },
    {
      "cell_type": "code",
      "source": [
        ""
      ],
      "metadata": {
        "id": "XftlaO2jFT1a"
      },
      "execution_count": null,
      "outputs": []
    },
    {
      "cell_type": "code",
      "source": [
        ""
      ],
      "metadata": {
        "id": "UxGzd3TVFT4C"
      },
      "execution_count": 50,
      "outputs": []
    },
    {
      "cell_type": "code",
      "source": [
        "class BayesCalculator:\n",
        "  \"\"\"\n",
        "  Simple class that allows update of (posterior) based on\n",
        "  \"\"\"\n",
        "\n",
        "  def __init__(self, hypotheses, prior=None):\n",
        "      \"\"\"Initialize with hypotheses.\n",
        "\n",
        "      If argument `prior` is not passed in, a uniform prior is assumed.\n",
        "\n",
        "      Parameters\n",
        "      ----------   \n",
        "      hypotheses : List[str]\n",
        "          the list of hypotheses [X1, X2, ..., Xn]\n",
        "      prior : List[float]\n",
        "          the prior probabilities [Pr(X1),Pr(X2),...,Pr(Xn)]. Default is None, in which Pr(Xi)=1/n for all i.\n",
        "      \"\"\"\n",
        "      if  prior is None:\n",
        "        prior = np.ones(len(hypotheses))\n",
        "      else:\n",
        "        assert len(prior) == len(hypotheses), 'len(hypotheses) == len(prior)'\n",
        "        prior = np.asarray(prior)\n",
        "      prior = prior/sum(prior)\n",
        "      self._bayes_df = pd.DataFrame(prior, index=hypotheses, columns=['prior'])\n",
        "     \n",
        "      self._bayes_df['likelihood'] = np.nan\n",
        "      self._bayes_df['evidence'] = np.nan\n",
        "      self._bayes_df['posterior'] = prior.copy()\n",
        "      self._likelihoods = pd.DataFrame(index=hypotheses)\n",
        "\n",
        "\n",
        "  def set_likelihood(self, data, likelihood):\n",
        "      assert len(likelihood) == len(self._bayes_df.index), 'len(likelihood) == len(self.hypotheses)'\n",
        "      self._likelihoods[data] = np.asarray(likelihood)\n",
        "      return self\n",
        "\n",
        "  def prior(self):\n",
        "    return self._bayes_df['prior']\n",
        "\n",
        "  def posterior(self):\n",
        "    return self._bayes_df['posterior']\n",
        "\n",
        "  def evidence(self):\n",
        "    return self._bayes_df['evidence'][0]\n",
        "\n",
        "  def get_likelihood(self, data):\n",
        "    return self._likelihoods[data]\n",
        "\n",
        "  def likelihoods(self):\n",
        "    return self._likelihoods\n",
        "\n",
        "  def as_table(self):\n",
        "    return self._bayes_df\n",
        "  \n",
        "  def update(self, data, likelihood=None):\n",
        "    \"\"\"Calculate evidence Pr(D) and \n",
        "       update posterior [Pr(X1|D),Pr(X2|D),...,Pr(Xn|D)]\n",
        "\n",
        "    data: D\n",
        "    likelihood:[Pr(D|X1),Pr(D|X2),...,Pr(D|Xn)]\n",
        "\n",
        "    \"\"\"\n",
        "    if likelihood is None:\n",
        "      likelihood = self._likelihoods[data]\n",
        "    self._bayes_df['likelihood'] = likelihood\n",
        "    unscaled_posterior = self._bayes_df['prior'] * likelihood    \n",
        "    self._bayes_df['evidence']  = sum(unscaled_posterior)\n",
        "    self._bayes_df['posterior'] = unscaled_posterior/sum(unscaled_posterior)\n",
        "    return self\n",
        "\n"
      ],
      "metadata": {
        "id": "29fxLdF6FT7A"
      },
      "execution_count": 14,
      "outputs": []
    },
    {
      "cell_type": "markdown",
      "source": [
        ""
      ],
      "metadata": {
        "id": "4F3p-nM8HMze"
      }
    },
    {
      "cell_type": "markdown",
      "source": [
        "## Example 12: Is the Coin Biased or Not ?\n",
        "For this example, we will take two hypotheses: `U` corresponds to unbiased, with heads/tails being equally likely, and `B` corresponds to a coin that always turns up heads. "
      ],
      "metadata": {
        "id": "sQbBBkf4ySkZ"
      }
    },
    {
      "cell_type": "code",
      "source": [
        "coin_toss = BayesCalculator(['U','B'],prior=[0.5,0.5]) \\\n",
        "              .update('HHH',likelihood=[0.5*0.5*0.5, 1.0])\n",
        "display(coin_toss.as_table())"
      ],
      "metadata": {
        "colab": {
          "base_uri": "https://localhost:8080/",
          "height": 112
        },
        "id": "Ii_kdmpLzLix",
        "outputId": "cc69ff7e-a008-470f-b7c5-7ca02e7a780c"
      },
      "execution_count": 15,
      "outputs": [
        {
          "output_type": "display_data",
          "data": {
            "text/plain": [
              "   prior  likelihood  evidence  posterior\n",
              "U  0.500       0.125     0.562      0.111\n",
              "B  0.500       1.000     0.562      0.889"
            ],
            "text/html": [
              "\n",
              "  <div id=\"df-977e2e45-2428-4220-96e1-7b3334f33de6\">\n",
              "    <div class=\"colab-df-container\">\n",
              "      <div>\n",
              "<style scoped>\n",
              "    .dataframe tbody tr th:only-of-type {\n",
              "        vertical-align: middle;\n",
              "    }\n",
              "\n",
              "    .dataframe tbody tr th {\n",
              "        vertical-align: top;\n",
              "    }\n",
              "\n",
              "    .dataframe thead th {\n",
              "        text-align: right;\n",
              "    }\n",
              "</style>\n",
              "<table border=\"1\" class=\"dataframe\">\n",
              "  <thead>\n",
              "    <tr style=\"text-align: right;\">\n",
              "      <th></th>\n",
              "      <th>prior</th>\n",
              "      <th>likelihood</th>\n",
              "      <th>evidence</th>\n",
              "      <th>posterior</th>\n",
              "    </tr>\n",
              "  </thead>\n",
              "  <tbody>\n",
              "    <tr>\n",
              "      <th>U</th>\n",
              "      <td>0.500</td>\n",
              "      <td>0.125</td>\n",
              "      <td>0.562</td>\n",
              "      <td>0.111</td>\n",
              "    </tr>\n",
              "    <tr>\n",
              "      <th>B</th>\n",
              "      <td>0.500</td>\n",
              "      <td>1.000</td>\n",
              "      <td>0.562</td>\n",
              "      <td>0.889</td>\n",
              "    </tr>\n",
              "  </tbody>\n",
              "</table>\n",
              "</div>\n",
              "      <button class=\"colab-df-convert\" onclick=\"convertToInteractive('df-977e2e45-2428-4220-96e1-7b3334f33de6')\"\n",
              "              title=\"Convert this dataframe to an interactive table.\"\n",
              "              style=\"display:none;\">\n",
              "        \n",
              "  <svg xmlns=\"http://www.w3.org/2000/svg\" height=\"24px\"viewBox=\"0 0 24 24\"\n",
              "       width=\"24px\">\n",
              "    <path d=\"M0 0h24v24H0V0z\" fill=\"none\"/>\n",
              "    <path d=\"M18.56 5.44l.94 2.06.94-2.06 2.06-.94-2.06-.94-.94-2.06-.94 2.06-2.06.94zm-11 1L8.5 8.5l.94-2.06 2.06-.94-2.06-.94L8.5 2.5l-.94 2.06-2.06.94zm10 10l.94 2.06.94-2.06 2.06-.94-2.06-.94-.94-2.06-.94 2.06-2.06.94z\"/><path d=\"M17.41 7.96l-1.37-1.37c-.4-.4-.92-.59-1.43-.59-.52 0-1.04.2-1.43.59L10.3 9.45l-7.72 7.72c-.78.78-.78 2.05 0 2.83L4 21.41c.39.39.9.59 1.41.59.51 0 1.02-.2 1.41-.59l7.78-7.78 2.81-2.81c.8-.78.8-2.07 0-2.86zM5.41 20L4 18.59l7.72-7.72 1.47 1.35L5.41 20z\"/>\n",
              "  </svg>\n",
              "      </button>\n",
              "      \n",
              "  <style>\n",
              "    .colab-df-container {\n",
              "      display:flex;\n",
              "      flex-wrap:wrap;\n",
              "      gap: 12px;\n",
              "    }\n",
              "\n",
              "    .colab-df-convert {\n",
              "      background-color: #E8F0FE;\n",
              "      border: none;\n",
              "      border-radius: 50%;\n",
              "      cursor: pointer;\n",
              "      display: none;\n",
              "      fill: #1967D2;\n",
              "      height: 32px;\n",
              "      padding: 0 0 0 0;\n",
              "      width: 32px;\n",
              "    }\n",
              "\n",
              "    .colab-df-convert:hover {\n",
              "      background-color: #E2EBFA;\n",
              "      box-shadow: 0px 1px 2px rgba(60, 64, 67, 0.3), 0px 1px 3px 1px rgba(60, 64, 67, 0.15);\n",
              "      fill: #174EA6;\n",
              "    }\n",
              "\n",
              "    [theme=dark] .colab-df-convert {\n",
              "      background-color: #3B4455;\n",
              "      fill: #D2E3FC;\n",
              "    }\n",
              "\n",
              "    [theme=dark] .colab-df-convert:hover {\n",
              "      background-color: #434B5C;\n",
              "      box-shadow: 0px 1px 3px 1px rgba(0, 0, 0, 0.15);\n",
              "      filter: drop-shadow(0px 1px 2px rgba(0, 0, 0, 0.3));\n",
              "      fill: #FFFFFF;\n",
              "    }\n",
              "  </style>\n",
              "\n",
              "      <script>\n",
              "        const buttonEl =\n",
              "          document.querySelector('#df-977e2e45-2428-4220-96e1-7b3334f33de6 button.colab-df-convert');\n",
              "        buttonEl.style.display =\n",
              "          google.colab.kernel.accessAllowed ? 'block' : 'none';\n",
              "\n",
              "        async function convertToInteractive(key) {\n",
              "          const element = document.querySelector('#df-977e2e45-2428-4220-96e1-7b3334f33de6');\n",
              "          const dataTable =\n",
              "            await google.colab.kernel.invokeFunction('convertToInteractive',\n",
              "                                                     [key], {});\n",
              "          if (!dataTable) return;\n",
              "\n",
              "          const docLinkHtml = 'Like what you see? Visit the ' +\n",
              "            '<a target=\"_blank\" href=https://colab.research.google.com/notebooks/data_table.ipynb>data table notebook</a>'\n",
              "            + ' to learn more about interactive tables.';\n",
              "          element.innerHTML = '';\n",
              "          dataTable['output_type'] = 'display_data';\n",
              "          await google.colab.output.renderOutput(dataTable, element);\n",
              "          const docLink = document.createElement('div');\n",
              "          docLink.innerHTML = docLinkHtml;\n",
              "          element.appendChild(docLink);\n",
              "        }\n",
              "      </script>\n",
              "    </div>\n",
              "  </div>\n",
              "  "
            ]
          },
          "metadata": {}
        }
      ]
    },
    {
      "cell_type": "markdown",
      "source": [
        "Now suppose instead of a bias of $1$ (always turning up heads), let's set the bias to $p$, i.e. it is $1/p$ times more likely to be heads. Note that $p$ is a known quantity in this analysis, but we will plot the evidence and posterior probabilities as a function of $p$."
      ],
      "metadata": {
        "id": "rAhvQEqjzD6f"
      }
    },
    {
      "cell_type": "code",
      "source": [
        "biases = np.linspace(0,1.,100)\n",
        "evidences = []\n",
        "posterior_U = []\n",
        "posterior_B = []\n",
        "for p in biases:\n",
        "  coin_toss = BayesCalculator(['U','B'],prior=[0.5,0.5]) \\\n",
        "              .update('HHH',likelihood=[0.5*0.5*0.5, p*p*p])\n",
        "  evidences.append(coin_toss.evidence())\n",
        "  posterior_U.append(coin_toss.posterior()['U'])\n",
        "  posterior_B.append(coin_toss.posterior()['B'])"
      ],
      "metadata": {
        "id": "LAWGl9yt1Uuf"
      },
      "execution_count": 16,
      "outputs": []
    },
    {
      "cell_type": "code",
      "source": [
        "test_res = pd.DataFrame({'Pr(U|HHH)': posterior_U, \n",
        "                              'Pr(B|HHH)': posterior_B,\n",
        "                              'evidence': evidences}, index=biases)\n",
        "sns.lineplot(data=test_res).set(xlabel='coin bias',\n",
        "                                     ylabel='probabilities',\n",
        "                                     title='Coin Bias Example')\n",
        "plt.show()"
      ],
      "metadata": {
        "colab": {
          "base_uri": "https://localhost:8080/",
          "height": 301
        },
        "id": "ZvvZz6AO2JTf",
        "outputId": "6cef3b1e-8d0c-4371-bb7d-eedd9f1dfa7b"
      },
      "execution_count": 17,
      "outputs": [
        {
          "output_type": "display_data",
          "data": {
            "text/plain": [
              "<Figure size 432x288 with 1 Axes>"
            ],
            "image/png": "[encoded data removed]"
          },
          "metadata": {}
        }
      ]
    },
    {
      "cell_type": "markdown",
      "source": [
        "## Example 12 - Can we predict eye color from hair color?\n",
        "Here we load aggregate data (of numbers of people with certain eye/hair color combinations)"
      ],
      "metadata": {
        "id": "UJfCQFMJHM2T"
      }
    },
    {
      "cell_type": "code",
      "source": [
        "! git clone https://github.com/manishbayesian/bayesianbookpub.git"
      ],
      "metadata": {
        "id": "pNq3zXCk6grU",
        "colab": {
          "base_uri": "https://localhost:8080/"
        },
        "outputId": "331854de-d96b-4da1-a3ab-5073b6147168"
      },
      "execution_count": 18,
      "outputs": [
        {
          "output_type": "stream",
          "name": "stdout",
          "text": [
            "Cloning into 'bayesianbookpub'...\n",
            "remote: Enumerating objects: 16, done.\u001b[K\n",
            "remote: Counting objects: 100% (16/16), done.\u001b[K\n",
            "remote: Compressing objects: 100% (13/13), done.\u001b[K\n",
            "remote: Total 16 (delta 4), reused 7 (delta 1), pack-reused 0\u001b[K\n",
            "Unpacking objects: 100% (16/16), done.\n"
          ]
        }
      ]
    },
    {
      "cell_type": "code",
      "source": [
        "eyes_hair_agg = pd.read_csv('bayesianbookpub/datasets/eye_hair_colors_aggregated.csv',index_col='Eye Color')\n",
        "eyes_hair_agg"
      ],
      "metadata": {
        "id": "beYDdfHV6gwX",
        "colab": {
          "base_uri": "https://localhost:8080/",
          "height": 238
        },
        "outputId": "aae60df5-0f9b-4e36-c3a3-57c7456b56c8"
      },
      "execution_count": 22,
      "outputs": [
        {
          "output_type": "execute_result",
          "data": {
            "text/plain": [
              "           Light Hair  Dark Hair\n",
              "Eye Color                       \n",
              "Green             144        181\n",
              "Hazel             114        366\n",
              "Blue              549        556\n",
              "Brown             159        941\n",
              "Other               2          9"
            ],
            "text/html": [
              "\n",
              "  <div id=\"df-4aa3aa71-3a83-4276-a0c8-a298037377f9\">\n",
              "    <div class=\"colab-df-container\">\n",
              "      <div>\n",
              "<style scoped>\n",
              "    .dataframe tbody tr th:only-of-type {\n",
              "        vertical-align: middle;\n",
              "    }\n",
              "\n",
              "    .dataframe tbody tr th {\n",
              "        vertical-align: top;\n",
              "    }\n",
              "\n",
              "    .dataframe thead th {\n",
              "        text-align: right;\n",
              "    }\n",
              "</style>\n",
              "<table border=\"1\" class=\"dataframe\">\n",
              "  <thead>\n",
              "    <tr style=\"text-align: right;\">\n",
              "      <th></th>\n",
              "      <th>Light Hair</th>\n",
              "      <th>Dark Hair</th>\n",
              "    </tr>\n",
              "    <tr>\n",
              "      <th>Eye Color</th>\n",
              "      <th></th>\n",
              "      <th></th>\n",
              "    </tr>\n",
              "  </thead>\n",
              "  <tbody>\n",
              "    <tr>\n",
              "      <th>Green</th>\n",
              "      <td>144</td>\n",
              "      <td>181</td>\n",
              "    </tr>\n",
              "    <tr>\n",
              "      <th>Hazel</th>\n",
              "      <td>114</td>\n",
              "      <td>366</td>\n",
              "    </tr>\n",
              "    <tr>\n",
              "      <th>Blue</th>\n",
              "      <td>549</td>\n",
              "      <td>556</td>\n",
              "    </tr>\n",
              "    <tr>\n",
              "      <th>Brown</th>\n",
              "      <td>159</td>\n",
              "      <td>941</td>\n",
              "    </tr>\n",
              "    <tr>\n",
              "      <th>Other</th>\n",
              "      <td>2</td>\n",
              "      <td>9</td>\n",
              "    </tr>\n",
              "  </tbody>\n",
              "</table>\n",
              "</div>\n",
              "      <button class=\"colab-df-convert\" onclick=\"convertToInteractive('df-4aa3aa71-3a83-4276-a0c8-a298037377f9')\"\n",
              "              title=\"Convert this dataframe to an interactive table.\"\n",
              "              style=\"display:none;\">\n",
              "        \n",
              "  <svg xmlns=\"http://www.w3.org/2000/svg\" height=\"24px\"viewBox=\"0 0 24 24\"\n",
              "       width=\"24px\">\n",
              "    <path d=\"M0 0h24v24H0V0z\" fill=\"none\"/>\n",
              "    <path d=\"M18.56 5.44l.94 2.06.94-2.06 2.06-.94-2.06-.94-.94-2.06-.94 2.06-2.06.94zm-11 1L8.5 8.5l.94-2.06 2.06-.94-2.06-.94L8.5 2.5l-.94 2.06-2.06.94zm10 10l.94 2.06.94-2.06 2.06-.94-2.06-.94-.94-2.06-.94 2.06-2.06.94z\"/><path d=\"M17.41 7.96l-1.37-1.37c-.4-.4-.92-.59-1.43-.59-.52 0-1.04.2-1.43.59L10.3 9.45l-7.72 7.72c-.78.78-.78 2.05 0 2.83L4 21.41c.39.39.9.59 1.41.59.51 0 1.02-.2 1.41-.59l7.78-7.78 2.81-2.81c.8-.78.8-2.07 0-2.86zM5.41 20L4 18.59l7.72-7.72 1.47 1.35L5.41 20z\"/>\n",
              "  </svg>\n",
              "      </button>\n",
              "      \n",
              "  <style>\n",
              "    .colab-df-container {\n",
              "      display:flex;\n",
              "      flex-wrap:wrap;\n",
              "      gap: 12px;\n",
              "    }\n",
              "\n",
              "    .colab-df-convert {\n",
              "      background-color: #E8F0FE;\n",
              "      border: none;\n",
              "      border-radius: 50%;\n",
              "      cursor: pointer;\n",
              "      display: none;\n",
              "      fill: #1967D2;\n",
              "      height: 32px;\n",
              "      padding: 0 0 0 0;\n",
              "      width: 32px;\n",
              "    }\n",
              "\n",
              "    .colab-df-convert:hover {\n",
              "      background-color: #E2EBFA;\n",
              "      box-shadow: 0px 1px 2px rgba(60, 64, 67, 0.3), 0px 1px 3px 1px rgba(60, 64, 67, 0.15);\n",
              "      fill: #174EA6;\n",
              "    }\n",
              "\n",
              "    [theme=dark] .colab-df-convert {\n",
              "      background-color: #3B4455;\n",
              "      fill: #D2E3FC;\n",
              "    }\n",
              "\n",
              "    [theme=dark] .colab-df-convert:hover {\n",
              "      background-color: #434B5C;\n",
              "      box-shadow: 0px 1px 3px 1px rgba(0, 0, 0, 0.15);\n",
              "      filter: drop-shadow(0px 1px 2px rgba(0, 0, 0, 0.3));\n",
              "      fill: #FFFFFF;\n",
              "    }\n",
              "  </style>\n",
              "\n",
              "      <script>\n",
              "        const buttonEl =\n",
              "          document.querySelector('#df-4aa3aa71-3a83-4276-a0c8-a298037377f9 button.colab-df-convert');\n",
              "        buttonEl.style.display =\n",
              "          google.colab.kernel.accessAllowed ? 'block' : 'none';\n",
              "\n",
              "        async function convertToInteractive(key) {\n",
              "          const element = document.querySelector('#df-4aa3aa71-3a83-4276-a0c8-a298037377f9');\n",
              "          const dataTable =\n",
              "            await google.colab.kernel.invokeFunction('convertToInteractive',\n",
              "                                                     [key], {});\n",
              "          if (!dataTable) return;\n",
              "\n",
              "          const docLinkHtml = 'Like what you see? Visit the ' +\n",
              "            '<a target=\"_blank\" href=https://colab.research.google.com/notebooks/data_table.ipynb>data table notebook</a>'\n",
              "            + ' to learn more about interactive tables.';\n",
              "          element.innerHTML = '';\n",
              "          dataTable['output_type'] = 'display_data';\n",
              "          await google.colab.output.renderOutput(dataTable, element);\n",
              "          const docLink = document.createElement('div');\n",
              "          docLink.innerHTML = docLinkHtml;\n",
              "          element.appendChild(docLink);\n",
              "        }\n",
              "      </script>\n",
              "    </div>\n",
              "  </div>\n",
              "  "
            ]
          },
          "metadata": {},
          "execution_count": 22
        }
      ]
    },
    {
      "cell_type": "markdown",
      "source": [
        "###### First we create a helper function, that allows us to create a BayesCalculator from aggregate data\n",
        "###### Without any data, the probability of a person having blue and brown eyes is roughly the same (about 36%)"
      ],
      "metadata": {
        "id": "SyLmFxnWI6xc"
      }
    },
    {
      "cell_type": "code",
      "source": [
        "\n",
        "def bayes_calc_from_aggregate_data(agg_df):\n",
        "    hypotheses = list(agg_df.index)\n",
        "    priors = agg_df.sum(axis=1).values\n",
        "    bcal = BayesCalculator(hypotheses,priors)\n",
        "    for c in agg_df.columns:\n",
        "      bcal.set_likelihood(c, (agg_df[c]/agg_df.sum(axis=1).values))\n",
        "    return bcal"
      ],
      "metadata": {
        "id": "EAYuj9KgHpev"
      },
      "execution_count": 23,
      "outputs": []
    },
    {
      "cell_type": "code",
      "source": [
        "# We create an instance of a BayesCalculator from this aggregate data\n",
        "eyes = bayes_calc_from_aggregate_data(eyes_hair_agg)"
      ],
      "metadata": {
        "id": "PAY6AUs6Ew3H"
      },
      "execution_count": 24,
      "outputs": []
    },
    {
      "cell_type": "code",
      "source": [
        "# Display probability of a person having different eye colors\n",
        "display(eyes.as_table()[['prior']])"
      ],
      "metadata": {
        "colab": {
          "base_uri": "https://localhost:8080/",
          "height": 206
        },
        "id": "TBQPQDKyIGM2",
        "outputId": "64feb7fa-efe8-4273-af48-8bd107c5afc9"
      },
      "execution_count": 25,
      "outputs": [
        {
          "output_type": "display_data",
          "data": {
            "text/plain": [
              "       prior\n",
              "Green  0.108\n",
              "Hazel  0.159\n",
              "Blue   0.366\n",
              "Brown  0.364\n",
              "Other  0.004"
            ],
            "text/html": [
              "\n",
              "  <div id=\"df-b91a59b8-9ed3-4b37-9552-885ec31bf566\">\n",
              "    <div class=\"colab-df-container\">\n",
              "      <div>\n",
              "<style scoped>\n",
              "    .dataframe tbody tr th:only-of-type {\n",
              "        vertical-align: middle;\n",
              "    }\n",
              "\n",
              "    .dataframe tbody tr th {\n",
              "        vertical-align: top;\n",
              "    }\n",
              "\n",
              "    .dataframe thead th {\n",
              "        text-align: right;\n",
              "    }\n",
              "</style>\n",
              "<table border=\"1\" class=\"dataframe\">\n",
              "  <thead>\n",
              "    <tr style=\"text-align: right;\">\n",
              "      <th></th>\n",
              "      <th>prior</th>\n",
              "    </tr>\n",
              "  </thead>\n",
              "  <tbody>\n",
              "    <tr>\n",
              "      <th>Green</th>\n",
              "      <td>0.108</td>\n",
              "    </tr>\n",
              "    <tr>\n",
              "      <th>Hazel</th>\n",
              "      <td>0.159</td>\n",
              "    </tr>\n",
              "    <tr>\n",
              "      <th>Blue</th>\n",
              "      <td>0.366</td>\n",
              "    </tr>\n",
              "    <tr>\n",
              "      <th>Brown</th>\n",
              "      <td>0.364</td>\n",
              "    </tr>\n",
              "    <tr>\n",
              "      <th>Other</th>\n",
              "      <td>0.004</td>\n",
              "    </tr>\n",
              "  </tbody>\n",
              "</table>\n",
              "</div>\n",
              "      <button class=\"colab-df-convert\" onclick=\"convertToInteractive('df-b91a59b8-9ed3-4b37-9552-885ec31bf566')\"\n",
              "              title=\"Convert this dataframe to an interactive table.\"\n",
              "              style=\"display:none;\">\n",
              "        \n",
              "  <svg xmlns=\"http://www.w3.org/2000/svg\" height=\"24px\"viewBox=\"0 0 24 24\"\n",
              "       width=\"24px\">\n",
              "    <path d=\"M0 0h24v24H0V0z\" fill=\"none\"/>\n",
              "    <path d=\"M18.56 5.44l.94 2.06.94-2.06 2.06-.94-2.06-.94-.94-2.06-.94 2.06-2.06.94zm-11 1L8.5 8.5l.94-2.06 2.06-.94-2.06-.94L8.5 2.5l-.94 2.06-2.06.94zm10 10l.94 2.06.94-2.06 2.06-.94-2.06-.94-.94-2.06-.94 2.06-2.06.94z\"/><path d=\"M17.41 7.96l-1.37-1.37c-.4-.4-.92-.59-1.43-.59-.52 0-1.04.2-1.43.59L10.3 9.45l-7.72 7.72c-.78.78-.78 2.05 0 2.83L4 21.41c.39.39.9.59 1.41.59.51 0 1.02-.2 1.41-.59l7.78-7.78 2.81-2.81c.8-.78.8-2.07 0-2.86zM5.41 20L4 18.59l7.72-7.72 1.47 1.35L5.41 20z\"/>\n",
              "  </svg>\n",
              "      </button>\n",
              "      \n",
              "  <style>\n",
              "    .colab-df-container {\n",
              "      display:flex;\n",
              "      flex-wrap:wrap;\n",
              "      gap: 12px;\n",
              "    }\n",
              "\n",
              "    .colab-df-convert {\n",
              "      background-color: #E8F0FE;\n",
              "      border: none;\n",
              "      border-radius: 50%;\n",
              "      cursor: pointer;\n",
              "      display: none;\n",
              "      fill: #1967D2;\n",
              "      height: 32px;\n",
              "      padding: 0 0 0 0;\n",
              "      width: 32px;\n",
              "    }\n",
              "\n",
              "    .colab-df-convert:hover {\n",
              "      background-color: #E2EBFA;\n",
              "      box-shadow: 0px 1px 2px rgba(60, 64, 67, 0.3), 0px 1px 3px 1px rgba(60, 64, 67, 0.15);\n",
              "      fill: #174EA6;\n",
              "    }\n",
              "\n",
              "    [theme=dark] .colab-df-convert {\n",
              "      background-color: #3B4455;\n",
              "      fill: #D2E3FC;\n",
              "    }\n",
              "\n",
              "    [theme=dark] .colab-df-convert:hover {\n",
              "      background-color: #434B5C;\n",
              "      box-shadow: 0px 1px 3px 1px rgba(0, 0, 0, 0.15);\n",
              "      filter: drop-shadow(0px 1px 2px rgba(0, 0, 0, 0.3));\n",
              "      fill: #FFFFFF;\n",
              "    }\n",
              "  </style>\n",
              "\n",
              "      <script>\n",
              "        const buttonEl =\n",
              "          document.querySelector('#df-b91a59b8-9ed3-4b37-9552-885ec31bf566 button.colab-df-convert');\n",
              "        buttonEl.style.display =\n",
              "          google.colab.kernel.accessAllowed ? 'block' : 'none';\n",
              "\n",
              "        async function convertToInteractive(key) {\n",
              "          const element = document.querySelector('#df-b91a59b8-9ed3-4b37-9552-885ec31bf566');\n",
              "          const dataTable =\n",
              "            await google.colab.kernel.invokeFunction('convertToInteractive',\n",
              "                                                     [key], {});\n",
              "          if (!dataTable) return;\n",
              "\n",
              "          const docLinkHtml = 'Like what you see? Visit the ' +\n",
              "            '<a target=\"_blank\" href=https://colab.research.google.com/notebooks/data_table.ipynb>data table notebook</a>'\n",
              "            + ' to learn more about interactive tables.';\n",
              "          element.innerHTML = '';\n",
              "          dataTable['output_type'] = 'display_data';\n",
              "          await google.colab.output.renderOutput(dataTable, element);\n",
              "          const docLink = document.createElement('div');\n",
              "          docLink.innerHTML = docLinkHtml;\n",
              "          element.appendChild(docLink);\n",
              "        }\n",
              "      </script>\n",
              "    </div>\n",
              "  </div>\n",
              "  "
            ]
          },
          "metadata": {}
        }
      ]
    },
    {
      "cell_type": "markdown",
      "source": [
        "###### Now if we are given information that the person has Dark Hair. Then we can use our `BayesCalculator` to perform an update with this data and see how the probability of having different eye colors changes."
      ],
      "metadata": {
        "id": "-V33dadPJL-Z"
      }
    },
    {
      "cell_type": "code",
      "source": [
        "## Update with data = 'Dark Hair' and then examine probabilities.\n",
        "eyes = eyes.update('Dark Hair')\n",
        "display(eyes.as_table())"
      ],
      "metadata": {
        "colab": {
          "base_uri": "https://localhost:8080/",
          "height": 206
        },
        "id": "xh3DfwYbbZJP",
        "outputId": "9deaf056-aa1d-41cf-a0a7-fa7e0a465152"
      },
      "execution_count": 26,
      "outputs": [
        {
          "output_type": "display_data",
          "data": {
            "text/plain": [
              "       prior  likelihood  evidence  posterior\n",
              "Green  0.108       0.557     0.680      0.088\n",
              "Hazel  0.159       0.762     0.680      0.178\n",
              "Blue   0.366       0.503     0.680      0.271\n",
              "Brown  0.364       0.855     0.680      0.458\n",
              "Other  0.004       0.818     0.680      0.004"
            ],
            "text/html": [
              "\n",
              "  <div id=\"df-dac30047-2306-4b7a-953d-fbb0a501079c\">\n",
              "    <div class=\"colab-df-container\">\n",
              "      <div>\n",
              "<style scoped>\n",
              "    .dataframe tbody tr th:only-of-type {\n",
              "        vertical-align: middle;\n",
              "    }\n",
              "\n",
              "    .dataframe tbody tr th {\n",
              "        vertical-align: top;\n",
              "    }\n",
              "\n",
              "    .dataframe thead th {\n",
              "        text-align: right;\n",
              "    }\n",
              "</style>\n",
              "<table border=\"1\" class=\"dataframe\">\n",
              "  <thead>\n",
              "    <tr style=\"text-align: right;\">\n",
              "      <th></th>\n",
              "      <th>prior</th>\n",
              "      <th>likelihood</th>\n",
              "      <th>evidence</th>\n",
              "      <th>posterior</th>\n",
              "    </tr>\n",
              "  </thead>\n",
              "  <tbody>\n",
              "    <tr>\n",
              "      <th>Green</th>\n",
              "      <td>0.108</td>\n",
              "      <td>0.557</td>\n",
              "      <td>0.680</td>\n",
              "      <td>0.088</td>\n",
              "    </tr>\n",
              "    <tr>\n",
              "      <th>Hazel</th>\n",
              "      <td>0.159</td>\n",
              "      <td>0.762</td>\n",
              "      <td>0.680</td>\n",
              "      <td>0.178</td>\n",
              "    </tr>\n",
              "    <tr>\n",
              "      <th>Blue</th>\n",
              "      <td>0.366</td>\n",
              "      <td>0.503</td>\n",
              "      <td>0.680</td>\n",
              "      <td>0.271</td>\n",
              "    </tr>\n",
              "    <tr>\n",
              "      <th>Brown</th>\n",
              "      <td>0.364</td>\n",
              "      <td>0.855</td>\n",
              "      <td>0.680</td>\n",
              "      <td>0.458</td>\n",
              "    </tr>\n",
              "    <tr>\n",
              "      <th>Other</th>\n",
              "      <td>0.004</td>\n",
              "      <td>0.818</td>\n",
              "      <td>0.680</td>\n",
              "      <td>0.004</td>\n",
              "    </tr>\n",
              "  </tbody>\n",
              "</table>\n",
              "</div>\n",
              "      <button class=\"colab-df-convert\" onclick=\"convertToInteractive('df-dac30047-2306-4b7a-953d-fbb0a501079c')\"\n",
              "              title=\"Convert this dataframe to an interactive table.\"\n",
              "              style=\"display:none;\">\n",
              "        \n",
              "  <svg xmlns=\"http://www.w3.org/2000/svg\" height=\"24px\"viewBox=\"0 0 24 24\"\n",
              "       width=\"24px\">\n",
              "    <path d=\"M0 0h24v24H0V0z\" fill=\"none\"/>\n",
              "    <path d=\"M18.56 5.44l.94 2.06.94-2.06 2.06-.94-2.06-.94-.94-2.06-.94 2.06-2.06.94zm-11 1L8.5 8.5l.94-2.06 2.06-.94-2.06-.94L8.5 2.5l-.94 2.06-2.06.94zm10 10l.94 2.06.94-2.06 2.06-.94-2.06-.94-.94-2.06-.94 2.06-2.06.94z\"/><path d=\"M17.41 7.96l-1.37-1.37c-.4-.4-.92-.59-1.43-.59-.52 0-1.04.2-1.43.59L10.3 9.45l-7.72 7.72c-.78.78-.78 2.05 0 2.83L4 21.41c.39.39.9.59 1.41.59.51 0 1.02-.2 1.41-.59l7.78-7.78 2.81-2.81c.8-.78.8-2.07 0-2.86zM5.41 20L4 18.59l7.72-7.72 1.47 1.35L5.41 20z\"/>\n",
              "  </svg>\n",
              "      </button>\n",
              "      \n",
              "  <style>\n",
              "    .colab-df-container {\n",
              "      display:flex;\n",
              "      flex-wrap:wrap;\n",
              "      gap: 12px;\n",
              "    }\n",
              "\n",
              "    .colab-df-convert {\n",
              "      background-color: #E8F0FE;\n",
              "      border: none;\n",
              "      border-radius: 50%;\n",
              "      cursor: pointer;\n",
              "      display: none;\n",
              "      fill: #1967D2;\n",
              "      height: 32px;\n",
              "      padding: 0 0 0 0;\n",
              "      width: 32px;\n",
              "    }\n",
              "\n",
              "    .colab-df-convert:hover {\n",
              "      background-color: #E2EBFA;\n",
              "      box-shadow: 0px 1px 2px rgba(60, 64, 67, 0.3), 0px 1px 3px 1px rgba(60, 64, 67, 0.15);\n",
              "      fill: #174EA6;\n",
              "    }\n",
              "\n",
              "    [theme=dark] .colab-df-convert {\n",
              "      background-color: #3B4455;\n",
              "      fill: #D2E3FC;\n",
              "    }\n",
              "\n",
              "    [theme=dark] .colab-df-convert:hover {\n",
              "      background-color: #434B5C;\n",
              "      box-shadow: 0px 1px 3px 1px rgba(0, 0, 0, 0.15);\n",
              "      filter: drop-shadow(0px 1px 2px rgba(0, 0, 0, 0.3));\n",
              "      fill: #FFFFFF;\n",
              "    }\n",
              "  </style>\n",
              "\n",
              "      <script>\n",
              "        const buttonEl =\n",
              "          document.querySelector('#df-dac30047-2306-4b7a-953d-fbb0a501079c button.colab-df-convert');\n",
              "        buttonEl.style.display =\n",
              "          google.colab.kernel.accessAllowed ? 'block' : 'none';\n",
              "\n",
              "        async function convertToInteractive(key) {\n",
              "          const element = document.querySelector('#df-dac30047-2306-4b7a-953d-fbb0a501079c');\n",
              "          const dataTable =\n",
              "            await google.colab.kernel.invokeFunction('convertToInteractive',\n",
              "                                                     [key], {});\n",
              "          if (!dataTable) return;\n",
              "\n",
              "          const docLinkHtml = 'Like what you see? Visit the ' +\n",
              "            '<a target=\"_blank\" href=https://colab.research.google.com/notebooks/data_table.ipynb>data table notebook</a>'\n",
              "            + ' to learn more about interactive tables.';\n",
              "          element.innerHTML = '';\n",
              "          dataTable['output_type'] = 'display_data';\n",
              "          await google.colab.output.renderOutput(dataTable, element);\n",
              "          const docLink = document.createElement('div');\n",
              "          docLink.innerHTML = docLinkHtml;\n",
              "          element.appendChild(docLink);\n",
              "        }\n",
              "      </script>\n",
              "    </div>\n",
              "  </div>\n",
              "  "
            ]
          },
          "metadata": {}
        }
      ]
    },
    {
      "cell_type": "markdown",
      "source": [
        "###### We notice that now brown eyes are more likely than blue eyes once we have information that the person has dark hair. This can also be visualized as shown below"
      ],
      "metadata": {
        "id": "9i9fJnecJwrp"
      }
    },
    {
      "cell_type": "code",
      "source": [
        "hyp = eyes.as_table().index\n",
        "dat = eyes.as_table()\n",
        "f, ax = plt.subplots(3,1,figsize=(3,9),)\n",
        "sns.barplot(y='prior',     x=hyp,data=dat,ax=ax[0])\n",
        "sns.barplot(y='likelihood',x=hyp,data=dat,ax=ax[1])\n",
        "sns.barplot(y='posterior', x=hyp,data=dat,ax=ax[2]).set(xlabel='hypothesis')\n",
        "plt.show()\n"
      ],
      "metadata": {
        "colab": {
          "base_uri": "https://localhost:8080/",
          "height": 557
        },
        "id": "ifz4tO6MbZLj",
        "outputId": "e3523beb-0074-4d4a-ffaa-b89485067879"
      },
      "execution_count": 28,
      "outputs": [
        {
          "output_type": "display_data",
          "data": {
            "text/plain": [
              "<Figure size 216x648 with 3 Axes>"
            ],
            "image/png": "[encoded data removed]"
          },
          "metadata": {
            "needs_background": "light"
          }
        }
      ]
    },
    {
      "cell_type": "code",
      "source": [
        "## for generating figure only, remove fro notebook\n",
        "hyp = eyes.as_table().index\n",
        "dat = eyes.as_table()\n",
        "f, ax = plt.subplots(1,3,figsize=(12,3),sharey=True)\n",
        "sns.barplot(y='prior',     x=hyp,data=dat,ax=ax[0]).set(xlabel='Eye Color, X', title='Prior, Pr(X)', ylabel='probability / likelihood')\n",
        "sns.barplot(y='likelihood',x=hyp,data=dat,ax=ax[1]).set(xlabel='Eye Color, X', title='Likelihood, Pr(d|X)', ylabel=None)\n",
        "sns.barplot(y='posterior', x=hyp,data=dat,ax=ax[2]).set(xlabel='Eye Color, X', title='Posterior, Pr(X|d)', ylabel=None)\n",
        "plt.show()"
      ],
      "metadata": {
        "id": "D29mQhfWqjOJ",
        "colab": {
          "base_uri": "https://localhost:8080/",
          "height": 246
        },
        "outputId": "ee49e593-9202-4308-e604-c97bb81a402c"
      },
      "execution_count": 38,
      "outputs": [
        {
          "output_type": "display_data",
          "data": {
            "text/plain": [
              "<Figure size 864x216 with 3 Axes>"
            ],
            "image/png": "[encoded data removed]"
          },
          "metadata": {
            "needs_background": "light"
          }
        }
      ]
    },
    {
      "cell_type": "markdown",
      "source": [
        "## Example 13: Medical Tests - How well can a Covid test predict that you are actually infected ?"
      ],
      "metadata": {
        "id": "KwxskMyPKEvp"
      }
    },
    {
      "cell_type": "code",
      "source": [
        "## Covid Example.\n",
        "# Use figures from https://pubmed.ncbi.nlm.nih.gov/34242764/\n",
        "# Sensitivity of the rapid antigen test was 65.3% and the specificity was 99.9% \n",
        "## Here let's use fictitious numbers of specificity=97.5, sensitivity=94.3\n",
        "\n",
        "covid_test = BayesCalculator(['not infected','infected'],prior=[0.95,0.05])\n",
        "\n",
        "## Likelihoods (for -ve test) are specifity, 1- sensitivity\n",
        "## Likelihoods (for +ve test) are 1-specificity, sensitivity\n",
        "covid_test = covid_test \\\n",
        "            .set_likelihood('Negative',[97.5,5.7]) \\\n",
        "            .set_likelihood('Positive',[2.5, 94.3])"
      ],
      "metadata": {
        "id": "Ql0eKyCCqjRT"
      },
      "execution_count": 39,
      "outputs": []
    },
    {
      "cell_type": "code",
      "source": [
        "covid_test = covid_test.update('Positive')\n",
        "display(covid_test.as_table())"
      ],
      "metadata": {
        "colab": {
          "base_uri": "https://localhost:8080/",
          "height": 112
        },
        "id": "5RN0THicqjTv",
        "outputId": "4615da78-4436-4201-900a-e968dd9d9e6f"
      },
      "execution_count": 40,
      "outputs": [
        {
          "output_type": "display_data",
          "data": {
            "text/plain": [
              "              prior  likelihood  evidence  posterior\n",
              "not infected  0.950       2.500     7.090      0.335\n",
              "infected      0.050      94.300     7.090      0.665"
            ],
            "text/html": [
              "\n",
              "  <div id=\"df-2d3ab159-3d65-4b26-9602-138173675411\">\n",
              "    <div class=\"colab-df-container\">\n",
              "      <div>\n",
              "<style scoped>\n",
              "    .dataframe tbody tr th:only-of-type {\n",
              "        vertical-align: middle;\n",
              "    }\n",
              "\n",
              "    .dataframe tbody tr th {\n",
              "        vertical-align: top;\n",
              "    }\n",
              "\n",
              "    .dataframe thead th {\n",
              "        text-align: right;\n",
              "    }\n",
              "</style>\n",
              "<table border=\"1\" class=\"dataframe\">\n",
              "  <thead>\n",
              "    <tr style=\"text-align: right;\">\n",
              "      <th></th>\n",
              "      <th>prior</th>\n",
              "      <th>likelihood</th>\n",
              "      <th>evidence</th>\n",
              "      <th>posterior</th>\n",
              "    </tr>\n",
              "  </thead>\n",
              "  <tbody>\n",
              "    <tr>\n",
              "      <th>not infected</th>\n",
              "      <td>0.950</td>\n",
              "      <td>2.500</td>\n",
              "      <td>7.090</td>\n",
              "      <td>0.335</td>\n",
              "    </tr>\n",
              "    <tr>\n",
              "      <th>infected</th>\n",
              "      <td>0.050</td>\n",
              "      <td>94.300</td>\n",
              "      <td>7.090</td>\n",
              "      <td>0.665</td>\n",
              "    </tr>\n",
              "  </tbody>\n",
              "</table>\n",
              "</div>\n",
              "      <button class=\"colab-df-convert\" onclick=\"convertToInteractive('df-2d3ab159-3d65-4b26-9602-138173675411')\"\n",
              "              title=\"Convert this dataframe to an interactive table.\"\n",
              "              style=\"display:none;\">\n",
              "        \n",
              "  <svg xmlns=\"http://www.w3.org/2000/svg\" height=\"24px\"viewBox=\"0 0 24 24\"\n",
              "       width=\"24px\">\n",
              "    <path d=\"M0 0h24v24H0V0z\" fill=\"none\"/>\n",
              "    <path d=\"M18.56 5.44l.94 2.06.94-2.06 2.06-.94-2.06-.94-.94-2.06-.94 2.06-2.06.94zm-11 1L8.5 8.5l.94-2.06 2.06-.94-2.06-.94L8.5 2.5l-.94 2.06-2.06.94zm10 10l.94 2.06.94-2.06 2.06-.94-2.06-.94-.94-2.06-.94 2.06-2.06.94z\"/><path d=\"M17.41 7.96l-1.37-1.37c-.4-.4-.92-.59-1.43-.59-.52 0-1.04.2-1.43.59L10.3 9.45l-7.72 7.72c-.78.78-.78 2.05 0 2.83L4 21.41c.39.39.9.59 1.41.59.51 0 1.02-.2 1.41-.59l7.78-7.78 2.81-2.81c.8-.78.8-2.07 0-2.86zM5.41 20L4 18.59l7.72-7.72 1.47 1.35L5.41 20z\"/>\n",
              "  </svg>\n",
              "      </button>\n",
              "      \n",
              "  <style>\n",
              "    .colab-df-container {\n",
              "      display:flex;\n",
              "      flex-wrap:wrap;\n",
              "      gap: 12px;\n",
              "    }\n",
              "\n",
              "    .colab-df-convert {\n",
              "      background-color: #E8F0FE;\n",
              "      border: none;\n",
              "      border-radius: 50%;\n",
              "      cursor: pointer;\n",
              "      display: none;\n",
              "      fill: #1967D2;\n",
              "      height: 32px;\n",
              "      padding: 0 0 0 0;\n",
              "      width: 32px;\n",
              "    }\n",
              "\n",
              "    .colab-df-convert:hover {\n",
              "      background-color: #E2EBFA;\n",
              "      box-shadow: 0px 1px 2px rgba(60, 64, 67, 0.3), 0px 1px 3px 1px rgba(60, 64, 67, 0.15);\n",
              "      fill: #174EA6;\n",
              "    }\n",
              "\n",
              "    [theme=dark] .colab-df-convert {\n",
              "      background-color: #3B4455;\n",
              "      fill: #D2E3FC;\n",
              "    }\n",
              "\n",
              "    [theme=dark] .colab-df-convert:hover {\n",
              "      background-color: #434B5C;\n",
              "      box-shadow: 0px 1px 3px 1px rgba(0, 0, 0, 0.15);\n",
              "      filter: drop-shadow(0px 1px 2px rgba(0, 0, 0, 0.3));\n",
              "      fill: #FFFFFF;\n",
              "    }\n",
              "  </style>\n",
              "\n",
              "      <script>\n",
              "        const buttonEl =\n",
              "          document.querySelector('#df-2d3ab159-3d65-4b26-9602-138173675411 button.colab-df-convert');\n",
              "        buttonEl.style.display =\n",
              "          google.colab.kernel.accessAllowed ? 'block' : 'none';\n",
              "\n",
              "        async function convertToInteractive(key) {\n",
              "          const element = document.querySelector('#df-2d3ab159-3d65-4b26-9602-138173675411');\n",
              "          const dataTable =\n",
              "            await google.colab.kernel.invokeFunction('convertToInteractive',\n",
              "                                                     [key], {});\n",
              "          if (!dataTable) return;\n",
              "\n",
              "          const docLinkHtml = 'Like what you see? Visit the ' +\n",
              "            '<a target=\"_blank\" href=https://colab.research.google.com/notebooks/data_table.ipynb>data table notebook</a>'\n",
              "            + ' to learn more about interactive tables.';\n",
              "          element.innerHTML = '';\n",
              "          dataTable['output_type'] = 'display_data';\n",
              "          await google.colab.output.renderOutput(dataTable, element);\n",
              "          const docLink = document.createElement('div');\n",
              "          docLink.innerHTML = docLinkHtml;\n",
              "          element.appendChild(docLink);\n",
              "        }\n",
              "      </script>\n",
              "    </div>\n",
              "  </div>\n",
              "  "
            ]
          },
          "metadata": {}
        }
      ]
    },
    {
      "cell_type": "markdown",
      "source": [
        "### testing"
      ],
      "metadata": {
        "id": "vxzfEi2L_66P"
      }
    },
    {
      "cell_type": "code",
      "source": [
        "sensitivity = 0.943\n",
        "specificity = 0.957\n",
        "prevalence = np.linspace(0,1.,100)\n",
        "infected_prob_pos = []\n",
        "infected_prob_neg = []\n",
        "for p in prevalence:\n",
        "  test = BayesCalculator(['NI','I'],prior=[1-p,p]) \\\n",
        "          .set_likelihood('-',[specificity,    1.-sensitivity]) \\\n",
        "          .set_likelihood('+',[1.-specificity, sensitivity])\n",
        "  test = test.update('+')\n",
        "  infected_prob_pos.append(test.update('+').posterior()['I'])\n",
        "  infected_prob_neg.append(test.update('-').posterior()['I'])\n"
      ],
      "metadata": {
        "id": "iddS-QkeqjWT"
      },
      "execution_count": 41,
      "outputs": []
    },
    {
      "cell_type": "code",
      "source": [
        "infected_prob = pd.DataFrame({'+ve test':infected_prob_pos, '-ve test':infected_prob_neg},index=prevalence)\n",
        "sns.lineplot(data=infected_prob).set(xlabel='prevalence rate',\n",
        "                                     ylabel='infection probability',\n",
        "                                     title='Covid Test with sensitivity=0.943, specificity=0.975')\n",
        "plt.show()"
      ],
      "metadata": {
        "colab": {
          "base_uri": "https://localhost:8080/",
          "height": 301
        },
        "id": "2TF62h9RwNF5",
        "outputId": "17b4fd06-0fdb-4fc4-d2f3-b0429969c173"
      },
      "execution_count": 42,
      "outputs": [
        {
          "output_type": "display_data",
          "data": {
            "text/plain": [
              "<Figure size 432x288 with 1 Axes>"
            ],
            "image/png": "[encoded data removed]"
          },
          "metadata": {
            "needs_background": "light"
          }
        }
      ]
    },
    {
      "cell_type": "code",
      "source": [
        "### For Figure only\n",
        "infected_prob = pd.DataFrame({'Pr(infected|+ve test)':infected_prob_pos, \n",
        "                              'Pr(infected|-ve test)':infected_prob_neg},index=prevalence)\n",
        "sns.lineplot(data=infected_prob).set(xlabel='prevalence rate, Pr(Infected)',\n",
        "                                     ylabel='infection probability',\n",
        "                                     title='Diagnostic Value of a Covid Test with \\nsensitivity=0.943, specificity=0.975')\n",
        "plt.show()"
      ],
      "metadata": {
        "id": "zO5auAZPM5S_",
        "outputId": "38c3c8fe-3750-4312-df80-2c1858ba4ed6",
        "colab": {
          "base_uri": "https://localhost:8080/",
          "height": 316
        }
      },
      "execution_count": 46,
      "outputs": [
        {
          "output_type": "display_data",
          "data": {
            "text/plain": [
              "<Figure size 432x288 with 1 Axes>"
            ],
            "image/png": "[encoded data removed]"
          },
          "metadata": {
            "needs_background": "light"
          }
        }
      ]
    },
    {
      "cell_type": "code",
      "source": [
        "ss_values = np.linspace(0,1.,100)\n",
        "covid_rate_sens = []\n",
        "ss = np.linspace(0,1.,100)\n",
        "covid_rate_sens = []\n",
        "covid_rate_spec = []\n",
        "\n",
        "for s in ss_values:\n",
        "  specificity = 0.95\n",
        "  sensitivity = s\n",
        "  test = BayesCalculator(['NI','I'],prior=[0.95,0.05]) \\\n",
        "          .set_likelihood('-',[specificity,    1.-sensitivity]) \\\n",
        "          .set_likelihood('+',[1.-specificity, sensitivity])\n",
        "  covid_rate_sens.append(test.update('+').posterior()['I'])\n",
        "\n",
        "for s in ss_values:\n",
        "  specificity = s\n",
        "  sensitivity = 0.95\n",
        "  test = BayesCalculator(['NI','I'],prior=[0.95,0.05]) \\\n",
        "          .set_likelihood('-',[specificity,    1.-sensitivity]) \\\n",
        "          .set_likelihood('+',[1.-specificity, sensitivity])\n",
        "  covid_rate_spec.append(test.update('+').posterior()['I'])"
      ],
      "metadata": {
        "id": "jvHbQ8kn3s7y"
      },
      "execution_count": 48,
      "outputs": []
    },
    {
      "cell_type": "code",
      "source": [
        ""
      ],
      "metadata": {
        "id": "-a2avTGx5f91"
      },
      "execution_count": 48,
      "outputs": []
    },
    {
      "cell_type": "code",
      "source": [
        "infected_prob = pd.DataFrame({'sensitivity, with specificity=0.95':covid_rate_sens, \n",
        "                              'specificity, with sensitivity=0.95':covid_rate_spec},\n",
        "                              index=ss_values)\n",
        "sns.lineplot(data=infected_prob).set(xlabel='sensitivity/sensitivity',\n",
        "                                     ylabel='Prob(infected|+ve test)',\n",
        "                                     title='Diagnostic value for a test with varying \\n sensitivity/specificity, assuming 5% prevalance rate')\n",
        "plt.show()"
      ],
      "metadata": {
        "colab": {
          "base_uri": "https://localhost:8080/",
          "height": 316
        },
        "id": "fcpawkpy3s__",
        "outputId": "31b63a71-edef-43ac-c069-0b156ca75387"
      },
      "execution_count": 49,
      "outputs": [
        {
          "output_type": "display_data",
          "data": {
            "text/plain": [
              "<Figure size 432x288 with 1 Axes>"
            ],
            "image/png": "[encoded data removed]"
          },
          "metadata": {
            "needs_background": "light"
          }
        }
      ]
    },
    {
      "cell_type": "code",
      "source": [
        ""
      ],
      "metadata": {
        "id": "9Nq2Aj3RwNIa"
      },
      "execution_count": null,
      "outputs": []
    },
    {
      "cell_type": "markdown",
      "source": [
        "## Chapter 1. Example 15\n",
        "Monty Hall problem."
      ],
      "metadata": {
        "id": "hfnMQ1olDqYI"
      }
    },
    {
      "cell_type": "code",
      "source": [
        ""
      ],
      "metadata": {
        "id": "OBqz2FHrDuev"
      },
      "execution_count": null,
      "outputs": []
    },
    {
      "cell_type": "code",
      "source": [
        ""
      ],
      "metadata": {
        "id": "HnR8ZKRaq9Rf"
      },
      "execution_count": null,
      "outputs": []
    },
    {
      "cell_type": "markdown",
      "source": [
        ""
      ],
      "metadata": {
        "id": "p3hlsaLIq9r0"
      }
    },
    {
      "cell_type": "markdown",
      "source": [
        "## Chapter 1. Example 19, Naive Bayes\n",
        "Here we load the sklearn Iris dataset, and discretize it. \n",
        "Then we use our `RecursiveBayesCalculator` to perfom classificaiton."
      ],
      "metadata": {
        "id": "IMQJZxiYq93m"
      }
    },
    {
      "cell_type": "code",
      "source": [
        "from sklearn.datasets import load_iris\n",
        "irisdat = load_iris(as_frame=True)"
      ],
      "metadata": {
        "id": "LRcvB98prHvf"
      },
      "execution_count": 1,
      "outputs": []
    },
    {
      "cell_type": "code",
      "source": [
        "## examine few rows\n",
        "display(irisdat['data'].head(5))"
      ],
      "metadata": {
        "id": "O5P4kuCltwzO",
        "outputId": "eb026946-3160-41c9-f4e0-c5d7c1d1061d",
        "colab": {
          "base_uri": "https://localhost:8080/",
          "height": 206
        }
      },
      "execution_count": 30,
      "outputs": [
        {
          "output_type": "display_data",
          "data": {
            "text/plain": [
              "   sepal length (cm)  sepal width (cm)  petal length (cm)  petal width (cm)\n",
              "0              5.100             3.500              1.400             0.200\n",
              "1              4.900             3.000              1.400             0.200\n",
              "2              4.700             3.200              1.300             0.200\n",
              "3              4.600             3.100              1.500             0.200\n",
              "4              5.000             3.600              1.400             0.200"
            ],
            "text/html": [
              "\n",
              "  <div id=\"df-77fd31f1-53dd-49a2-9f99-4552277e219e\">\n",
              "    <div class=\"colab-df-container\">\n",
              "      <div>\n",
              "<style scoped>\n",
              "    .dataframe tbody tr th:only-of-type {\n",
              "        vertical-align: middle;\n",
              "    }\n",
              "\n",
              "    .dataframe tbody tr th {\n",
              "        vertical-align: top;\n",
              "    }\n",
              "\n",
              "    .dataframe thead th {\n",
              "        text-align: right;\n",
              "    }\n",
              "</style>\n",
              "<table border=\"1\" class=\"dataframe\">\n",
              "  <thead>\n",
              "    <tr style=\"text-align: right;\">\n",
              "      <th></th>\n",
              "      <th>sepal length (cm)</th>\n",
              "      <th>sepal width (cm)</th>\n",
              "      <th>petal length (cm)</th>\n",
              "      <th>petal width (cm)</th>\n",
              "    </tr>\n",
              "  </thead>\n",
              "  <tbody>\n",
              "    <tr>\n",
              "      <th>0</th>\n",
              "      <td>5.100</td>\n",
              "      <td>3.500</td>\n",
              "      <td>1.400</td>\n",
              "      <td>0.200</td>\n",
              "    </tr>\n",
              "    <tr>\n",
              "      <th>1</th>\n",
              "      <td>4.900</td>\n",
              "      <td>3.000</td>\n",
              "      <td>1.400</td>\n",
              "      <td>0.200</td>\n",
              "    </tr>\n",
              "    <tr>\n",
              "      <th>2</th>\n",
              "      <td>4.700</td>\n",
              "      <td>3.200</td>\n",
              "      <td>1.300</td>\n",
              "      <td>0.200</td>\n",
              "    </tr>\n",
              "    <tr>\n",
              "      <th>3</th>\n",
              "      <td>4.600</td>\n",
              "      <td>3.100</td>\n",
              "      <td>1.500</td>\n",
              "      <td>0.200</td>\n",
              "    </tr>\n",
              "    <tr>\n",
              "      <th>4</th>\n",
              "      <td>5.000</td>\n",
              "      <td>3.600</td>\n",
              "      <td>1.400</td>\n",
              "      <td>0.200</td>\n",
              "    </tr>\n",
              "  </tbody>\n",
              "</table>\n",
              "</div>\n",
              "      <button class=\"colab-df-convert\" onclick=\"convertToInteractive('df-77fd31f1-53dd-49a2-9f99-4552277e219e')\"\n",
              "              title=\"Convert this dataframe to an interactive table.\"\n",
              "              style=\"display:none;\">\n",
              "        \n",
              "  <svg xmlns=\"http://www.w3.org/2000/svg\" height=\"24px\"viewBox=\"0 0 24 24\"\n",
              "       width=\"24px\">\n",
              "    <path d=\"M0 0h24v24H0V0z\" fill=\"none\"/>\n",
              "    <path d=\"M18.56 5.44l.94 2.06.94-2.06 2.06-.94-2.06-.94-.94-2.06-.94 2.06-2.06.94zm-11 1L8.5 8.5l.94-2.06 2.06-.94-2.06-.94L8.5 2.5l-.94 2.06-2.06.94zm10 10l.94 2.06.94-2.06 2.06-.94-2.06-.94-.94-2.06-.94 2.06-2.06.94z\"/><path d=\"M17.41 7.96l-1.37-1.37c-.4-.4-.92-.59-1.43-.59-.52 0-1.04.2-1.43.59L10.3 9.45l-7.72 7.72c-.78.78-.78 2.05 0 2.83L4 21.41c.39.39.9.59 1.41.59.51 0 1.02-.2 1.41-.59l7.78-7.78 2.81-2.81c.8-.78.8-2.07 0-2.86zM5.41 20L4 18.59l7.72-7.72 1.47 1.35L5.41 20z\"/>\n",
              "  </svg>\n",
              "      </button>\n",
              "      \n",
              "  <style>\n",
              "    .colab-df-container {\n",
              "      display:flex;\n",
              "      flex-wrap:wrap;\n",
              "      gap: 12px;\n",
              "    }\n",
              "\n",
              "    .colab-df-convert {\n",
              "      background-color: #E8F0FE;\n",
              "      border: none;\n",
              "      border-radius: 50%;\n",
              "      cursor: pointer;\n",
              "      display: none;\n",
              "      fill: #1967D2;\n",
              "      height: 32px;\n",
              "      padding: 0 0 0 0;\n",
              "      width: 32px;\n",
              "    }\n",
              "\n",
              "    .colab-df-convert:hover {\n",
              "      background-color: #E2EBFA;\n",
              "      box-shadow: 0px 1px 2px rgba(60, 64, 67, 0.3), 0px 1px 3px 1px rgba(60, 64, 67, 0.15);\n",
              "      fill: #174EA6;\n",
              "    }\n",
              "\n",
              "    [theme=dark] .colab-df-convert {\n",
              "      background-color: #3B4455;\n",
              "      fill: #D2E3FC;\n",
              "    }\n",
              "\n",
              "    [theme=dark] .colab-df-convert:hover {\n",
              "      background-color: #434B5C;\n",
              "      box-shadow: 0px 1px 3px 1px rgba(0, 0, 0, 0.15);\n",
              "      filter: drop-shadow(0px 1px 2px rgba(0, 0, 0, 0.3));\n",
              "      fill: #FFFFFF;\n",
              "    }\n",
              "  </style>\n",
              "\n",
              "      <script>\n",
              "        const buttonEl =\n",
              "          document.querySelector('#df-77fd31f1-53dd-49a2-9f99-4552277e219e button.colab-df-convert');\n",
              "        buttonEl.style.display =\n",
              "          google.colab.kernel.accessAllowed ? 'block' : 'none';\n",
              "\n",
              "        async function convertToInteractive(key) {\n",
              "          const element = document.querySelector('#df-77fd31f1-53dd-49a2-9f99-4552277e219e');\n",
              "          const dataTable =\n",
              "            await google.colab.kernel.invokeFunction('convertToInteractive',\n",
              "                                                     [key], {});\n",
              "          if (!dataTable) return;\n",
              "\n",
              "          const docLinkHtml = 'Like what you see? Visit the ' +\n",
              "            '<a target=\"_blank\" href=https://colab.research.google.com/notebooks/data_table.ipynb>data table notebook</a>'\n",
              "            + ' to learn more about interactive tables.';\n",
              "          element.innerHTML = '';\n",
              "          dataTable['output_type'] = 'display_data';\n",
              "          await google.colab.output.renderOutput(dataTable, element);\n",
              "          const docLink = document.createElement('div');\n",
              "          docLink.innerHTML = docLinkHtml;\n",
              "          element.appendChild(docLink);\n",
              "        }\n",
              "      </script>\n",
              "    </div>\n",
              "  </div>\n",
              "  "
            ]
          },
          "metadata": {}
        }
      ]
    },
    {
      "cell_type": "code",
      "source": [
        "from sklearn.preprocessing import LabelEncoder\n",
        "featenc = LabelEncoder()"
      ],
      "metadata": {
        "id": "AfVagXUIs6AY"
      },
      "execution_count": 3,
      "outputs": []
    },
    {
      "cell_type": "code",
      "source": [
        "def convert_to_categorical(datadf, featname, ncats=5):\n",
        "  return featenc.fit_transform(pd.cut(datadf[featname], ncats, retbins=True)[0])"
      ],
      "metadata": {
        "id": "uHWrZk_mtO5n"
      },
      "execution_count": 4,
      "outputs": []
    },
    {
      "cell_type": "code",
      "source": [
        "iris_df = pd.DataFrame({\n",
        "    'sepal_len' : convert_to_categorical(irisdat['data'], 'sepal length (cm)', 8),\n",
        "    'sepal_wth' : convert_to_categorical(irisdat['data'], 'sepal width (cm)',  4),\n",
        "    'petal_len' : convert_to_categorical(irisdat['data'], 'petal length (cm)', 6),\n",
        "    'petal_wth' : convert_to_categorical(irisdat['data'], 'petal width (cm)',  2),\n",
        "  #  'species'   : list(map(lambda y:irisdat['target_names'][y],irisdat['target']))\n",
        "})"
      ],
      "metadata": {
        "id": "cW-YAsJuthZB"
      },
      "execution_count": 5,
      "outputs": []
    },
    {
      "cell_type": "code",
      "source": [
        "from sklearn.model_selection import train_test_split\n",
        "X_train, X_test, y_train, y_test = train_test_split(iris_df, irisdat.target, random_state=0)\n",
        "X_train_2 = irisdat['data'].loc[X_train.index]\n",
        "X_test_2 = irisdat['data'].loc[X_test.index]"
      ],
      "metadata": {
        "id": "bQFEF7eW-YNs"
      },
      "execution_count": 28,
      "outputs": []
    },
    {
      "cell_type": "code",
      "source": [
        "irisdat['data'].loc[X_train.index]"
      ],
      "metadata": {
        "id": "Qd2mkkSGBPmd",
        "outputId": "beafe3bd-fdee-49ae-f5fb-3f1b0825bce8",
        "colab": {
          "base_uri": "https://localhost:8080/",
          "height": 424
        }
      },
      "execution_count": 20,
      "outputs": [
        {
          "output_type": "execute_result",
          "data": {
            "text/plain": [
              "     sepal length (cm)  sepal width (cm)  petal length (cm)  petal width (cm)\n",
              "61               5.900             3.000              4.200             1.500\n",
              "92               5.800             2.600              4.000             1.200\n",
              "112              6.800             3.000              5.500             2.100\n",
              "2                4.700             3.200              1.300             0.200\n",
              "141              6.900             3.100              5.100             2.300\n",
              "..                 ...               ...                ...               ...\n",
              "9                4.900             3.100              1.500             0.100\n",
              "103              6.300             2.900              5.600             1.800\n",
              "67               5.800             2.700              4.100             1.000\n",
              "117              7.700             3.800              6.700             2.200\n",
              "47               4.600             3.200              1.400             0.200\n",
              "\n",
              "[112 rows x 4 columns]"
            ],
            "text/html": [
              "\n",
              "  <div id=\"df-e1d7cd0a-9a0f-46a3-a2a7-f42c336bdfa2\">\n",
              "    <div class=\"colab-df-container\">\n",
              "      <div>\n",
              "<style scoped>\n",
              "    .dataframe tbody tr th:only-of-type {\n",
              "        vertical-align: middle;\n",
              "    }\n",
              "\n",
              "    .dataframe tbody tr th {\n",
              "        vertical-align: top;\n",
              "    }\n",
              "\n",
              "    .dataframe thead th {\n",
              "        text-align: right;\n",
              "    }\n",
              "</style>\n",
              "<table border=\"1\" class=\"dataframe\">\n",
              "  <thead>\n",
              "    <tr style=\"text-align: right;\">\n",
              "      <th></th>\n",
              "      <th>sepal length (cm)</th>\n",
              "      <th>sepal width (cm)</th>\n",
              "      <th>petal length (cm)</th>\n",
              "      <th>petal width (cm)</th>\n",
              "    </tr>\n",
              "  </thead>\n",
              "  <tbody>\n",
              "    <tr>\n",
              "      <th>61</th>\n",
              "      <td>5.900</td>\n",
              "      <td>3.000</td>\n",
              "      <td>4.200</td>\n",
              "      <td>1.500</td>\n",
              "    </tr>\n",
              "    <tr>\n",
              "      <th>92</th>\n",
              "      <td>5.800</td>\n",
              "      <td>2.600</td>\n",
              "      <td>4.000</td>\n",
              "      <td>1.200</td>\n",
              "    </tr>\n",
              "    <tr>\n",
              "      <th>112</th>\n",
              "      <td>6.800</td>\n",
              "      <td>3.000</td>\n",
              "      <td>5.500</td>\n",
              "      <td>2.100</td>\n",
              "    </tr>\n",
              "    <tr>\n",
              "      <th>2</th>\n",
              "      <td>4.700</td>\n",
              "      <td>3.200</td>\n",
              "      <td>1.300</td>\n",
              "      <td>0.200</td>\n",
              "    </tr>\n",
              "    <tr>\n",
              "      <th>141</th>\n",
              "      <td>6.900</td>\n",
              "      <td>3.100</td>\n",
              "      <td>5.100</td>\n",
              "      <td>2.300</td>\n",
              "    </tr>\n",
              "    <tr>\n",
              "      <th>...</th>\n",
              "      <td>...</td>\n",
              "      <td>...</td>\n",
              "      <td>...</td>\n",
              "      <td>...</td>\n",
              "    </tr>\n",
              "    <tr>\n",
              "      <th>9</th>\n",
              "      <td>4.900</td>\n",
              "      <td>3.100</td>\n",
              "      <td>1.500</td>\n",
              "      <td>0.100</td>\n",
              "    </tr>\n",
              "    <tr>\n",
              "      <th>103</th>\n",
              "      <td>6.300</td>\n",
              "      <td>2.900</td>\n",
              "      <td>5.600</td>\n",
              "      <td>1.800</td>\n",
              "    </tr>\n",
              "    <tr>\n",
              "      <th>67</th>\n",
              "      <td>5.800</td>\n",
              "      <td>2.700</td>\n",
              "      <td>4.100</td>\n",
              "      <td>1.000</td>\n",
              "    </tr>\n",
              "    <tr>\n",
              "      <th>117</th>\n",
              "      <td>7.700</td>\n",
              "      <td>3.800</td>\n",
              "      <td>6.700</td>\n",
              "      <td>2.200</td>\n",
              "    </tr>\n",
              "    <tr>\n",
              "      <th>47</th>\n",
              "      <td>4.600</td>\n",
              "      <td>3.200</td>\n",
              "      <td>1.400</td>\n",
              "      <td>0.200</td>\n",
              "    </tr>\n",
              "  </tbody>\n",
              "</table>\n",
              "<p>112 rows × 4 columns</p>\n",
              "</div>\n",
              "      <button class=\"colab-df-convert\" onclick=\"convertToInteractive('df-e1d7cd0a-9a0f-46a3-a2a7-f42c336bdfa2')\"\n",
              "              title=\"Convert this dataframe to an interactive table.\"\n",
              "              style=\"display:none;\">\n",
              "        \n",
              "  <svg xmlns=\"http://www.w3.org/2000/svg\" height=\"24px\"viewBox=\"0 0 24 24\"\n",
              "       width=\"24px\">\n",
              "    <path d=\"M0 0h24v24H0V0z\" fill=\"none\"/>\n",
              "    <path d=\"M18.56 5.44l.94 2.06.94-2.06 2.06-.94-2.06-.94-.94-2.06-.94 2.06-2.06.94zm-11 1L8.5 8.5l.94-2.06 2.06-.94-2.06-.94L8.5 2.5l-.94 2.06-2.06.94zm10 10l.94 2.06.94-2.06 2.06-.94-2.06-.94-.94-2.06-.94 2.06-2.06.94z\"/><path d=\"M17.41 7.96l-1.37-1.37c-.4-.4-.92-.59-1.43-.59-.52 0-1.04.2-1.43.59L10.3 9.45l-7.72 7.72c-.78.78-.78 2.05 0 2.83L4 21.41c.39.39.9.59 1.41.59.51 0 1.02-.2 1.41-.59l7.78-7.78 2.81-2.81c.8-.78.8-2.07 0-2.86zM5.41 20L4 18.59l7.72-7.72 1.47 1.35L5.41 20z\"/>\n",
              "  </svg>\n",
              "      </button>\n",
              "      \n",
              "  <style>\n",
              "    .colab-df-container {\n",
              "      display:flex;\n",
              "      flex-wrap:wrap;\n",
              "      gap: 12px;\n",
              "    }\n",
              "\n",
              "    .colab-df-convert {\n",
              "      background-color: #E8F0FE;\n",
              "      border: none;\n",
              "      border-radius: 50%;\n",
              "      cursor: pointer;\n",
              "      display: none;\n",
              "      fill: #1967D2;\n",
              "      height: 32px;\n",
              "      padding: 0 0 0 0;\n",
              "      width: 32px;\n",
              "    }\n",
              "\n",
              "    .colab-df-convert:hover {\n",
              "      background-color: #E2EBFA;\n",
              "      box-shadow: 0px 1px 2px rgba(60, 64, 67, 0.3), 0px 1px 3px 1px rgba(60, 64, 67, 0.15);\n",
              "      fill: #174EA6;\n",
              "    }\n",
              "\n",
              "    [theme=dark] .colab-df-convert {\n",
              "      background-color: #3B4455;\n",
              "      fill: #D2E3FC;\n",
              "    }\n",
              "\n",
              "    [theme=dark] .colab-df-convert:hover {\n",
              "      background-color: #434B5C;\n",
              "      box-shadow: 0px 1px 3px 1px rgba(0, 0, 0, 0.15);\n",
              "      filter: drop-shadow(0px 1px 2px rgba(0, 0, 0, 0.3));\n",
              "      fill: #FFFFFF;\n",
              "    }\n",
              "  </style>\n",
              "\n",
              "      <script>\n",
              "        const buttonEl =\n",
              "          document.querySelector('#df-e1d7cd0a-9a0f-46a3-a2a7-f42c336bdfa2 button.colab-df-convert');\n",
              "        buttonEl.style.display =\n",
              "          google.colab.kernel.accessAllowed ? 'block' : 'none';\n",
              "\n",
              "        async function convertToInteractive(key) {\n",
              "          const element = document.querySelector('#df-e1d7cd0a-9a0f-46a3-a2a7-f42c336bdfa2');\n",
              "          const dataTable =\n",
              "            await google.colab.kernel.invokeFunction('convertToInteractive',\n",
              "                                                     [key], {});\n",
              "          if (!dataTable) return;\n",
              "\n",
              "          const docLinkHtml = 'Like what you see? Visit the ' +\n",
              "            '<a target=\"_blank\" href=https://colab.research.google.com/notebooks/data_table.ipynb>data table notebook</a>'\n",
              "            + ' to learn more about interactive tables.';\n",
              "          element.innerHTML = '';\n",
              "          dataTable['output_type'] = 'display_data';\n",
              "          await google.colab.output.renderOutput(dataTable, element);\n",
              "          const docLink = document.createElement('div');\n",
              "          docLink.innerHTML = docLinkHtml;\n",
              "          element.appendChild(docLink);\n",
              "        }\n",
              "      </script>\n",
              "    </div>\n",
              "  </div>\n",
              "  "
            ]
          },
          "metadata": {},
          "execution_count": 20
        }
      ]
    },
    {
      "cell_type": "code",
      "source": [
        "from sklearn.naive_bayes import MultinomialNB\n",
        "model_1 = MultinomialNB().fit(X_train, y_train)\n",
        "from sklearn.naive_bayes import GaussianNB\n",
        "model_2 = GaussianNB(var_smoothing=2e-9).fit(X_train_2, y_train)\n",
        "model_2 = GaussianNB().fit(X_train_2, y_train)"
      ],
      "metadata": {
        "id": "tUvr0Vxi-zMO"
      },
      "execution_count": 29,
      "outputs": []
    },
    {
      "cell_type": "code",
      "source": [
        "y_pred_1 = model_1.predict(X_test)\n",
        "y_pred_2 = model_2.predict(X_test_2)"
      ],
      "metadata": {
        "id": "fIXR5__TBdHC"
      },
      "execution_count": 30,
      "outputs": []
    },
    {
      "cell_type": "code",
      "source": [
        "from sklearn.metrics import confusion_matrix\n",
        "\n",
        "mat = confusion_matrix(y_test, y_pred)"
      ],
      "metadata": {
        "id": "LkjRrqng_VCG"
      },
      "execution_count": 13,
      "outputs": []
    },
    {
      "cell_type": "code",
      "source": [
        "from sklearn.metrics import ConfusionMatrixDisplay\n",
        "ConfusionMatrixDisplay.from_predictions(y_test, y_pred)"
      ],
      "metadata": {
        "id": "xi_oKFGb_fCT",
        "outputId": "deb74fdf-7c42-42ac-9fd2-2bc2af109580",
        "colab": {
          "base_uri": "https://localhost:8080/",
          "height": 303
        }
      },
      "execution_count": 16,
      "outputs": [
        {
          "output_type": "execute_result",
          "data": {
            "text/plain": [
              "<sklearn.metrics._plot.confusion_matrix.ConfusionMatrixDisplay at 0x7fd8796b8110>"
            ]
          },
          "metadata": {},
          "execution_count": 16
        },
        {
          "output_type": "display_data",
          "data": {
            "text/plain": [
              "<Figure size 432x288 with 2 Axes>"
            ],
            "image/png": "[encoded data removed]"
          },
          "metadata": {}
        }
      ]
    },
    {
      "cell_type": "code",
      "source": [
        "from sklearn.metrics import classification_report\n",
        "print(classification_report(y_test, y_pred_1, target_names=irisdat.target_names))\n",
        "print(classification_report(y_test, y_pred_2, target_names=irisdat.target_names))"
      ],
      "metadata": {
        "id": "AXbjLzlmAd-s",
        "outputId": "badf1582-98f0-426e-903d-71c93f8b3ce6",
        "colab": {
          "base_uri": "https://localhost:8080/"
        }
      },
      "execution_count": 31,
      "outputs": [
        {
          "output_type": "stream",
          "name": "stdout",
          "text": [
            "              precision    recall  f1-score   support\n",
            "\n",
            "      setosa       1.00      1.00      1.00        13\n",
            "  versicolor       1.00      0.19      0.32        16\n",
            "   virginica       0.41      1.00      0.58         9\n",
            "\n",
            "    accuracy                           0.66        38\n",
            "   macro avg       0.80      0.73      0.63        38\n",
            "weighted avg       0.86      0.66      0.61        38\n",
            "\n",
            "              precision    recall  f1-score   support\n",
            "\n",
            "      setosa       1.00      1.00      1.00        13\n",
            "  versicolor       1.00      1.00      1.00        16\n",
            "   virginica       1.00      1.00      1.00         9\n",
            "\n",
            "    accuracy                           1.00        38\n",
            "   macro avg       1.00      1.00      1.00        38\n",
            "weighted avg       1.00      1.00      1.00        38\n",
            "\n"
          ]
        }
      ]
    },
    {
      "cell_type": "code",
      "source": [
        "display(iris_df.head())"
      ],
      "metadata": {
        "id": "sK8HBWDDvK4Y",
        "outputId": "68403c69-06e3-4b34-e6cc-b80b7fb94970",
        "colab": {
          "base_uri": "https://localhost:8080/",
          "height": 206
        }
      },
      "execution_count": 43,
      "outputs": [
        {
          "output_type": "display_data",
          "data": {
            "text/plain": [
              "   sepal_len  sepal_wth  petal_len  petal_wth species\n",
              "0          1          2          0          0  setosa\n",
              "1          1          1          0          0  setosa\n",
              "2          0          1          0          0  setosa\n",
              "3          0          1          0          0  setosa\n",
              "4          1          2          0          0  setosa"
            ],
            "text/html": [
              "\n",
              "  <div id=\"df-b5eb034c-a7f7-4886-9fc0-a20eeaedb4da\">\n",
              "    <div class=\"colab-df-container\">\n",
              "      <div>\n",
              "<style scoped>\n",
              "    .dataframe tbody tr th:only-of-type {\n",
              "        vertical-align: middle;\n",
              "    }\n",
              "\n",
              "    .dataframe tbody tr th {\n",
              "        vertical-align: top;\n",
              "    }\n",
              "\n",
              "    .dataframe thead th {\n",
              "        text-align: right;\n",
              "    }\n",
              "</style>\n",
              "<table border=\"1\" class=\"dataframe\">\n",
              "  <thead>\n",
              "    <tr style=\"text-align: right;\">\n",
              "      <th></th>\n",
              "      <th>sepal_len</th>\n",
              "      <th>sepal_wth</th>\n",
              "      <th>petal_len</th>\n",
              "      <th>petal_wth</th>\n",
              "      <th>species</th>\n",
              "    </tr>\n",
              "  </thead>\n",
              "  <tbody>\n",
              "    <tr>\n",
              "      <th>0</th>\n",
              "      <td>1</td>\n",
              "      <td>2</td>\n",
              "      <td>0</td>\n",
              "      <td>0</td>\n",
              "      <td>setosa</td>\n",
              "    </tr>\n",
              "    <tr>\n",
              "      <th>1</th>\n",
              "      <td>1</td>\n",
              "      <td>1</td>\n",
              "      <td>0</td>\n",
              "      <td>0</td>\n",
              "      <td>setosa</td>\n",
              "    </tr>\n",
              "    <tr>\n",
              "      <th>2</th>\n",
              "      <td>0</td>\n",
              "      <td>1</td>\n",
              "      <td>0</td>\n",
              "      <td>0</td>\n",
              "      <td>setosa</td>\n",
              "    </tr>\n",
              "    <tr>\n",
              "      <th>3</th>\n",
              "      <td>0</td>\n",
              "      <td>1</td>\n",
              "      <td>0</td>\n",
              "      <td>0</td>\n",
              "      <td>setosa</td>\n",
              "    </tr>\n",
              "    <tr>\n",
              "      <th>4</th>\n",
              "      <td>1</td>\n",
              "      <td>2</td>\n",
              "      <td>0</td>\n",
              "      <td>0</td>\n",
              "      <td>setosa</td>\n",
              "    </tr>\n",
              "  </tbody>\n",
              "</table>\n",
              "</div>\n",
              "      <button class=\"colab-df-convert\" onclick=\"convertToInteractive('df-b5eb034c-a7f7-4886-9fc0-a20eeaedb4da')\"\n",
              "              title=\"Convert this dataframe to an interactive table.\"\n",
              "              style=\"display:none;\">\n",
              "        \n",
              "  <svg xmlns=\"http://www.w3.org/2000/svg\" height=\"24px\"viewBox=\"0 0 24 24\"\n",
              "       width=\"24px\">\n",
              "    <path d=\"M0 0h24v24H0V0z\" fill=\"none\"/>\n",
              "    <path d=\"M18.56 5.44l.94 2.06.94-2.06 2.06-.94-2.06-.94-.94-2.06-.94 2.06-2.06.94zm-11 1L8.5 8.5l.94-2.06 2.06-.94-2.06-.94L8.5 2.5l-.94 2.06-2.06.94zm10 10l.94 2.06.94-2.06 2.06-.94-2.06-.94-.94-2.06-.94 2.06-2.06.94z\"/><path d=\"M17.41 7.96l-1.37-1.37c-.4-.4-.92-.59-1.43-.59-.52 0-1.04.2-1.43.59L10.3 9.45l-7.72 7.72c-.78.78-.78 2.05 0 2.83L4 21.41c.39.39.9.59 1.41.59.51 0 1.02-.2 1.41-.59l7.78-7.78 2.81-2.81c.8-.78.8-2.07 0-2.86zM5.41 20L4 18.59l7.72-7.72 1.47 1.35L5.41 20z\"/>\n",
              "  </svg>\n",
              "      </button>\n",
              "      \n",
              "  <style>\n",
              "    .colab-df-container {\n",
              "      display:flex;\n",
              "      flex-wrap:wrap;\n",
              "      gap: 12px;\n",
              "    }\n",
              "\n",
              "    .colab-df-convert {\n",
              "      background-color: #E8F0FE;\n",
              "      border: none;\n",
              "      border-radius: 50%;\n",
              "      cursor: pointer;\n",
              "      display: none;\n",
              "      fill: #1967D2;\n",
              "      height: 32px;\n",
              "      padding: 0 0 0 0;\n",
              "      width: 32px;\n",
              "    }\n",
              "\n",
              "    .colab-df-convert:hover {\n",
              "      background-color: #E2EBFA;\n",
              "      box-shadow: 0px 1px 2px rgba(60, 64, 67, 0.3), 0px 1px 3px 1px rgba(60, 64, 67, 0.15);\n",
              "      fill: #174EA6;\n",
              "    }\n",
              "\n",
              "    [theme=dark] .colab-df-convert {\n",
              "      background-color: #3B4455;\n",
              "      fill: #D2E3FC;\n",
              "    }\n",
              "\n",
              "    [theme=dark] .colab-df-convert:hover {\n",
              "      background-color: #434B5C;\n",
              "      box-shadow: 0px 1px 3px 1px rgba(0, 0, 0, 0.15);\n",
              "      filter: drop-shadow(0px 1px 2px rgba(0, 0, 0, 0.3));\n",
              "      fill: #FFFFFF;\n",
              "    }\n",
              "  </style>\n",
              "\n",
              "      <script>\n",
              "        const buttonEl =\n",
              "          document.querySelector('#df-b5eb034c-a7f7-4886-9fc0-a20eeaedb4da button.colab-df-convert');\n",
              "        buttonEl.style.display =\n",
              "          google.colab.kernel.accessAllowed ? 'block' : 'none';\n",
              "\n",
              "        async function convertToInteractive(key) {\n",
              "          const element = document.querySelector('#df-b5eb034c-a7f7-4886-9fc0-a20eeaedb4da');\n",
              "          const dataTable =\n",
              "            await google.colab.kernel.invokeFunction('convertToInteractive',\n",
              "                                                     [key], {});\n",
              "          if (!dataTable) return;\n",
              "\n",
              "          const docLinkHtml = 'Like what you see? Visit the ' +\n",
              "            '<a target=\"_blank\" href=https://colab.research.google.com/notebooks/data_table.ipynb>data table notebook</a>'\n",
              "            + ' to learn more about interactive tables.';\n",
              "          element.innerHTML = '';\n",
              "          dataTable['output_type'] = 'display_data';\n",
              "          await google.colab.output.renderOutput(dataTable, element);\n",
              "          const docLink = document.createElement('div');\n",
              "          docLink.innerHTML = docLinkHtml;\n",
              "          element.appendChild(docLink);\n",
              "        }\n",
              "      </script>\n",
              "    </div>\n",
              "  </div>\n",
              "  "
            ]
          },
          "metadata": {}
        }
      ]
    },
    {
      "cell_type": "code",
      "source": [
        ""
      ],
      "metadata": {
        "id": "8aAQXSZ0rPJY",
        "outputId": "13677b79-6fc9-45f6-bf0c-7834a66e72ae",
        "colab": {
          "base_uri": "https://localhost:8080/",
          "height": 424
        }
      },
      "execution_count": 7,
      "outputs": [
        {
          "output_type": "execute_result",
          "data": {
            "text/plain": [
              "     sepal length (cm)  sepal width (cm)  petal length (cm)  petal width (cm)\n",
              "0                  5.1               3.5                1.4               0.2\n",
              "1                  4.9               3.0                1.4               0.2\n",
              "2                  4.7               3.2                1.3               0.2\n",
              "3                  4.6               3.1                1.5               0.2\n",
              "4                  5.0               3.6                1.4               0.2\n",
              "..                 ...               ...                ...               ...\n",
              "145                6.7               3.0                5.2               2.3\n",
              "146                6.3               2.5                5.0               1.9\n",
              "147                6.5               3.0                5.2               2.0\n",
              "148                6.2               3.4                5.4               2.3\n",
              "149                5.9               3.0                5.1               1.8\n",
              "\n",
              "[150 rows x 4 columns]"
            ],
            "text/html": [
              "\n",
              "  <div id=\"df-ce914ada-f063-41f7-a3c4-40e0415450c3\">\n",
              "    <div class=\"colab-df-container\">\n",
              "      <div>\n",
              "<style scoped>\n",
              "    .dataframe tbody tr th:only-of-type {\n",
              "        vertical-align: middle;\n",
              "    }\n",
              "\n",
              "    .dataframe tbody tr th {\n",
              "        vertical-align: top;\n",
              "    }\n",
              "\n",
              "    .dataframe thead th {\n",
              "        text-align: right;\n",
              "    }\n",
              "</style>\n",
              "<table border=\"1\" class=\"dataframe\">\n",
              "  <thead>\n",
              "    <tr style=\"text-align: right;\">\n",
              "      <th></th>\n",
              "      <th>sepal length (cm)</th>\n",
              "      <th>sepal width (cm)</th>\n",
              "      <th>petal length (cm)</th>\n",
              "      <th>petal width (cm)</th>\n",
              "    </tr>\n",
              "  </thead>\n",
              "  <tbody>\n",
              "    <tr>\n",
              "      <th>0</th>\n",
              "      <td>5.1</td>\n",
              "      <td>3.5</td>\n",
              "      <td>1.4</td>\n",
              "      <td>0.2</td>\n",
              "    </tr>\n",
              "    <tr>\n",
              "      <th>1</th>\n",
              "      <td>4.9</td>\n",
              "      <td>3.0</td>\n",
              "      <td>1.4</td>\n",
              "      <td>0.2</td>\n",
              "    </tr>\n",
              "    <tr>\n",
              "      <th>2</th>\n",
              "      <td>4.7</td>\n",
              "      <td>3.2</td>\n",
              "      <td>1.3</td>\n",
              "      <td>0.2</td>\n",
              "    </tr>\n",
              "    <tr>\n",
              "      <th>3</th>\n",
              "      <td>4.6</td>\n",
              "      <td>3.1</td>\n",
              "      <td>1.5</td>\n",
              "      <td>0.2</td>\n",
              "    </tr>\n",
              "    <tr>\n",
              "      <th>4</th>\n",
              "      <td>5.0</td>\n",
              "      <td>3.6</td>\n",
              "      <td>1.4</td>\n",
              "      <td>0.2</td>\n",
              "    </tr>\n",
              "    <tr>\n",
              "      <th>...</th>\n",
              "      <td>...</td>\n",
              "      <td>...</td>\n",
              "      <td>...</td>\n",
              "      <td>...</td>\n",
              "    </tr>\n",
              "    <tr>\n",
              "      <th>145</th>\n",
              "      <td>6.7</td>\n",
              "      <td>3.0</td>\n",
              "      <td>5.2</td>\n",
              "      <td>2.3</td>\n",
              "    </tr>\n",
              "    <tr>\n",
              "      <th>146</th>\n",
              "      <td>6.3</td>\n",
              "      <td>2.5</td>\n",
              "      <td>5.0</td>\n",
              "      <td>1.9</td>\n",
              "    </tr>\n",
              "    <tr>\n",
              "      <th>147</th>\n",
              "      <td>6.5</td>\n",
              "      <td>3.0</td>\n",
              "      <td>5.2</td>\n",
              "      <td>2.0</td>\n",
              "    </tr>\n",
              "    <tr>\n",
              "      <th>148</th>\n",
              "      <td>6.2</td>\n",
              "      <td>3.4</td>\n",
              "      <td>5.4</td>\n",
              "      <td>2.3</td>\n",
              "    </tr>\n",
              "    <tr>\n",
              "      <th>149</th>\n",
              "      <td>5.9</td>\n",
              "      <td>3.0</td>\n",
              "      <td>5.1</td>\n",
              "      <td>1.8</td>\n",
              "    </tr>\n",
              "  </tbody>\n",
              "</table>\n",
              "<p>150 rows × 4 columns</p>\n",
              "</div>\n",
              "      <button class=\"colab-df-convert\" onclick=\"convertToInteractive('df-ce914ada-f063-41f7-a3c4-40e0415450c3')\"\n",
              "              title=\"Convert this dataframe to an interactive table.\"\n",
              "              style=\"display:none;\">\n",
              "        \n",
              "  <svg xmlns=\"http://www.w3.org/2000/svg\" height=\"24px\"viewBox=\"0 0 24 24\"\n",
              "       width=\"24px\">\n",
              "    <path d=\"M0 0h24v24H0V0z\" fill=\"none\"/>\n",
              "    <path d=\"M18.56 5.44l.94 2.06.94-2.06 2.06-.94-2.06-.94-.94-2.06-.94 2.06-2.06.94zm-11 1L8.5 8.5l.94-2.06 2.06-.94-2.06-.94L8.5 2.5l-.94 2.06-2.06.94zm10 10l.94 2.06.94-2.06 2.06-.94-2.06-.94-.94-2.06-.94 2.06-2.06.94z\"/><path d=\"M17.41 7.96l-1.37-1.37c-.4-.4-.92-.59-1.43-.59-.52 0-1.04.2-1.43.59L10.3 9.45l-7.72 7.72c-.78.78-.78 2.05 0 2.83L4 21.41c.39.39.9.59 1.41.59.51 0 1.02-.2 1.41-.59l7.78-7.78 2.81-2.81c.8-.78.8-2.07 0-2.86zM5.41 20L4 18.59l7.72-7.72 1.47 1.35L5.41 20z\"/>\n",
              "  </svg>\n",
              "      </button>\n",
              "      \n",
              "  <style>\n",
              "    .colab-df-container {\n",
              "      display:flex;\n",
              "      flex-wrap:wrap;\n",
              "      gap: 12px;\n",
              "    }\n",
              "\n",
              "    .colab-df-convert {\n",
              "      background-color: #E8F0FE;\n",
              "      border: none;\n",
              "      border-radius: 50%;\n",
              "      cursor: pointer;\n",
              "      display: none;\n",
              "      fill: #1967D2;\n",
              "      height: 32px;\n",
              "      padding: 0 0 0 0;\n",
              "      width: 32px;\n",
              "    }\n",
              "\n",
              "    .colab-df-convert:hover {\n",
              "      background-color: #E2EBFA;\n",
              "      box-shadow: 0px 1px 2px rgba(60, 64, 67, 0.3), 0px 1px 3px 1px rgba(60, 64, 67, 0.15);\n",
              "      fill: #174EA6;\n",
              "    }\n",
              "\n",
              "    [theme=dark] .colab-df-convert {\n",
              "      background-color: #3B4455;\n",
              "      fill: #D2E3FC;\n",
              "    }\n",
              "\n",
              "    [theme=dark] .colab-df-convert:hover {\n",
              "      background-color: #434B5C;\n",
              "      box-shadow: 0px 1px 3px 1px rgba(0, 0, 0, 0.15);\n",
              "      filter: drop-shadow(0px 1px 2px rgba(0, 0, 0, 0.3));\n",
              "      fill: #FFFFFF;\n",
              "    }\n",
              "  </style>\n",
              "\n",
              "      <script>\n",
              "        const buttonEl =\n",
              "          document.querySelector('#df-ce914ada-f063-41f7-a3c4-40e0415450c3 button.colab-df-convert');\n",
              "        buttonEl.style.display =\n",
              "          google.colab.kernel.accessAllowed ? 'block' : 'none';\n",
              "\n",
              "        async function convertToInteractive(key) {\n",
              "          const element = document.querySelector('#df-ce914ada-f063-41f7-a3c4-40e0415450c3');\n",
              "          const dataTable =\n",
              "            await google.colab.kernel.invokeFunction('convertToInteractive',\n",
              "                                                     [key], {});\n",
              "          if (!dataTable) return;\n",
              "\n",
              "          const docLinkHtml = 'Like what you see? Visit the ' +\n",
              "            '<a target=\"_blank\" href=https://colab.research.google.com/notebooks/data_table.ipynb>data table notebook</a>'\n",
              "            + ' to learn more about interactive tables.';\n",
              "          element.innerHTML = '';\n",
              "          dataTable['output_type'] = 'display_data';\n",
              "          await google.colab.output.renderOutput(dataTable, element);\n",
              "          const docLink = document.createElement('div');\n",
              "          docLink.innerHTML = docLinkHtml;\n",
              "          element.appendChild(docLink);\n",
              "        }\n",
              "      </script>\n",
              "    </div>\n",
              "  </div>\n",
              "  "
            ]
          },
          "metadata": {},
          "execution_count": 7
        }
      ]
    },
    {
      "cell_type": "code",
      "source": [
        ""
      ],
      "metadata": {
        "id": "kb5Uroh6rSJg",
        "outputId": "e542d054-1a6a-451c-e37d-4821eeb1e47b",
        "colab": {
          "base_uri": "https://localhost:8080/"
        }
      },
      "execution_count": 36,
      "outputs": [
        {
          "output_type": "execute_result",
          "data": {
            "text/plain": [
              "['setosa',\n",
              " 'setosa',\n",
              " 'setosa',\n",
              " 'setosa',\n",
              " 'setosa',\n",
              " 'setosa',\n",
              " 'setosa',\n",
              " 'setosa',\n",
              " 'setosa',\n",
              " 'setosa',\n",
              " 'setosa',\n",
              " 'setosa',\n",
              " 'setosa',\n",
              " 'setosa',\n",
              " 'setosa',\n",
              " 'setosa',\n",
              " 'setosa',\n",
              " 'setosa',\n",
              " 'setosa',\n",
              " 'setosa',\n",
              " 'setosa',\n",
              " 'setosa',\n",
              " 'setosa',\n",
              " 'setosa',\n",
              " 'setosa',\n",
              " 'setosa',\n",
              " 'setosa',\n",
              " 'setosa',\n",
              " 'setosa',\n",
              " 'setosa',\n",
              " 'setosa',\n",
              " 'setosa',\n",
              " 'setosa',\n",
              " 'setosa',\n",
              " 'setosa',\n",
              " 'setosa',\n",
              " 'setosa',\n",
              " 'setosa',\n",
              " 'setosa',\n",
              " 'setosa',\n",
              " 'setosa',\n",
              " 'setosa',\n",
              " 'setosa',\n",
              " 'setosa',\n",
              " 'setosa',\n",
              " 'setosa',\n",
              " 'setosa',\n",
              " 'setosa',\n",
              " 'setosa',\n",
              " 'setosa',\n",
              " 'versicolor',\n",
              " 'versicolor',\n",
              " 'versicolor',\n",
              " 'versicolor',\n",
              " 'versicolor',\n",
              " 'versicolor',\n",
              " 'versicolor',\n",
              " 'versicolor',\n",
              " 'versicolor',\n",
              " 'versicolor',\n",
              " 'versicolor',\n",
              " 'versicolor',\n",
              " 'versicolor',\n",
              " 'versicolor',\n",
              " 'versicolor',\n",
              " 'versicolor',\n",
              " 'versicolor',\n",
              " 'versicolor',\n",
              " 'versicolor',\n",
              " 'versicolor',\n",
              " 'versicolor',\n",
              " 'versicolor',\n",
              " 'versicolor',\n",
              " 'versicolor',\n",
              " 'versicolor',\n",
              " 'versicolor',\n",
              " 'versicolor',\n",
              " 'versicolor',\n",
              " 'versicolor',\n",
              " 'versicolor',\n",
              " 'versicolor',\n",
              " 'versicolor',\n",
              " 'versicolor',\n",
              " 'versicolor',\n",
              " 'versicolor',\n",
              " 'versicolor',\n",
              " 'versicolor',\n",
              " 'versicolor',\n",
              " 'versicolor',\n",
              " 'versicolor',\n",
              " 'versicolor',\n",
              " 'versicolor',\n",
              " 'versicolor',\n",
              " 'versicolor',\n",
              " 'versicolor',\n",
              " 'versicolor',\n",
              " 'versicolor',\n",
              " 'versicolor',\n",
              " 'versicolor',\n",
              " 'versicolor',\n",
              " 'virginica',\n",
              " 'virginica',\n",
              " 'virginica',\n",
              " 'virginica',\n",
              " 'virginica',\n",
              " 'virginica',\n",
              " 'virginica',\n",
              " 'virginica',\n",
              " 'virginica',\n",
              " 'virginica',\n",
              " 'virginica',\n",
              " 'virginica',\n",
              " 'virginica',\n",
              " 'virginica',\n",
              " 'virginica',\n",
              " 'virginica',\n",
              " 'virginica',\n",
              " 'virginica',\n",
              " 'virginica',\n",
              " 'virginica',\n",
              " 'virginica',\n",
              " 'virginica',\n",
              " 'virginica',\n",
              " 'virginica',\n",
              " 'virginica',\n",
              " 'virginica',\n",
              " 'virginica',\n",
              " 'virginica',\n",
              " 'virginica',\n",
              " 'virginica',\n",
              " 'virginica',\n",
              " 'virginica',\n",
              " 'virginica',\n",
              " 'virginica',\n",
              " 'virginica',\n",
              " 'virginica',\n",
              " 'virginica',\n",
              " 'virginica',\n",
              " 'virginica',\n",
              " 'virginica',\n",
              " 'virginica',\n",
              " 'virginica',\n",
              " 'virginica',\n",
              " 'virginica',\n",
              " 'virginica',\n",
              " 'virginica',\n",
              " 'virginica',\n",
              " 'virginica',\n",
              " 'virginica',\n",
              " 'virginica']"
            ]
          },
          "metadata": {},
          "execution_count": 36
        }
      ]
    },
    {
      "cell_type": "code",
      "source": [
        "data['target_names'][0]"
      ],
      "metadata": {
        "id": "hPSvPkbNrg4N",
        "outputId": "f3254624-3e71-4a19-91e8-b0ed1fe5e8e3",
        "colab": {
          "base_uri": "https://localhost:8080/",
          "height": 35
        }
      },
      "execution_count": 34,
      "outputs": [
        {
          "output_type": "execute_result",
          "data": {
            "text/plain": [
              "'setosa'"
            ],
            "application/vnd.google.colaboratory.intrinsic+json": {
              "type": "string"
            }
          },
          "metadata": {},
          "execution_count": 34
        }
      ]
    },
    {
      "cell_type": "code",
      "source": [
        "import seaborn as sns\n",
        "data['data'].hist()"
      ],
      "metadata": {
        "id": "jrhChIXtrs_V",
        "outputId": "6e3c28b5-fe43-4dd7-fda4-1fd3373ddd8f",
        "colab": {
          "base_uri": "https://localhost:8080/",
          "height": 373
        }
      },
      "execution_count": 21,
      "outputs": [
        {
          "output_type": "execute_result",
          "data": {
            "text/plain": [
              "array([[<matplotlib.axes._subplots.AxesSubplot object at 0x7f88a9456510>,\n",
              "        <matplotlib.axes._subplots.AxesSubplot object at 0x7f88a99cd950>],\n",
              "       [<matplotlib.axes._subplots.AxesSubplot object at 0x7f88a8ccae90>,\n",
              "        <matplotlib.axes._subplots.AxesSubplot object at 0x7f88a8c8c4d0>]],\n",
              "      dtype=object)"
            ]
          },
          "metadata": {},
          "execution_count": 21
        },
        {
          "output_type": "display_data",
          "data": {
            "text/plain": [
              "<Figure size 432x288 with 4 Axes>"
            ],
            "image/png": "[encoded data removed]"
          },
          "metadata": {}
        }
      ]
    },
    {
      "cell_type": "code",
      "source": [
        "featenc.fit_transform(pd.cut(data['data']['sepal length (cm)'], 5, retbins=True)[0])"
      ],
      "metadata": {
        "id": "AtLr21DYryKQ",
        "outputId": "65abcc03-7e22-440b-db73-d5cecf20b715",
        "colab": {
          "base_uri": "https://localhost:8080/"
        }
      },
      "execution_count": 26,
      "outputs": [
        {
          "output_type": "execute_result",
          "data": {
            "text/plain": [
              "array([1, 0, 0, 0, 0, 1, 0, 0, 0, 0, 1, 0, 0, 0, 2, 1, 1, 1, 1, 1, 1, 1,\n",
              "       0, 1, 0, 0, 0, 1, 1, 0, 0, 1, 1, 1, 0, 0, 1, 0, 0, 1, 0, 0, 0, 0,\n",
              "       1, 0, 1, 0, 1, 0, 3, 2, 3, 1, 3, 1, 2, 0, 3, 1, 0, 2, 2, 2, 1, 3,\n",
              "       1, 2, 2, 1, 2, 2, 2, 2, 2, 3, 3, 3, 2, 1, 1, 1, 2, 2, 1, 2, 3, 2,\n",
              "       1, 1, 1, 2, 2, 0, 1, 1, 1, 2, 1, 1, 2, 2, 3, 2, 3, 4, 0, 4, 3, 4,\n",
              "       3, 2, 3, 1, 2, 2, 3, 4, 4, 2, 3, 1, 4, 2, 3, 4, 2, 2, 2, 4, 4, 4,\n",
              "       2, 2, 2, 4, 2, 2, 2, 3, 3, 3, 2, 3, 3, 3, 2, 3, 2, 2])"
            ]
          },
          "metadata": {},
          "execution_count": 26
        }
      ]
    },
    {
      "cell_type": "code",
      "source": [
        ""
      ],
      "metadata": {
        "id": "n_nzjUlXstpG"
      },
      "execution_count": null,
      "outputs": []
    }
  ]
}