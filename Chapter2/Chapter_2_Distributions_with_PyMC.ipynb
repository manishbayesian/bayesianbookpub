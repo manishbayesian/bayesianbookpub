{
  "cells": [
    {
      "cell_type": "markdown",
      "metadata": {
        "id": "view-in-github",
        "colab_type": "text"
      },
      "source": [
        "<a href=\"https://colab.research.google.com/github/manishbayesian/bayesianbookpub/blob/main/Chapter_2_Distributions_with_PyMC.ipynb\" target=\"_parent\"><img src=\"https://colab.research.google.com/assets/colab-badge.svg\" alt=\"Open In Colab\"/></a>"
      ]
    },
    {
      "cell_type": "markdown",
      "metadata": {
        "id": "q9awV6EdPLzk"
      },
      "source": [
        "# Chapter 2 - Distributions with PyMC"
      ]
    },
    {
      "cell_type": "markdown",
      "metadata": {
        "id": "YB6e3dwvhXpq"
      },
      "source": [
        "## Imports"
      ]
    },
    {
      "cell_type": "code",
      "execution_count": null,
      "metadata": {
        "id": "gwG-p6Etk80u"
      },
      "outputs": [],
      "source": [
        "from IPython.display import HTML, display\n",
        " \n",
        "def set_css():\n",
        "  display(HTML('''\n",
        "  <style>\n",
        "    pre {\n",
        "        white-space: pre-wrap;\n",
        "    }\n",
        "  </style>\n",
        "  '''))\n",
        "get_ipython().events.register('pre_run_cell', set_css)"
      ]
    },
    {
      "cell_type": "code",
      "execution_count": null,
      "metadata": {
        "id": "OTvw9hYuPNNe"
      },
      "outputs": [],
      "source": [
        "from scipy import special\n",
        "import math\n",
        "import pandas as pd\n",
        "import matplotlib.pyplot as plt\n",
        "import seaborn as sns\n",
        "from numpy import random\n",
        "import numpy as np\n",
        "import sys\n",
        "\n",
        "sns.set_theme(style=\"darkgrid\")\n",
        "pd.set_option('display.precision', 3)\n",
        "pd.set_option('display.float_format',  '{:,.3f}'.format)"
      ]
    },
    {
      "cell_type": "markdown",
      "metadata": {
        "id": "-_0loTC2dVEP"
      },
      "source": [
        "## Install and import PyMC packages"
      ]
    },
    {
      "cell_type": "code",
      "execution_count": null,
      "metadata": {
        "id": "wNIj6caUhOFr"
      },
      "outputs": [],
      "source": [
        "! pip install pymc"
      ]
    },
    {
      "cell_type": "code",
      "execution_count": null,
      "metadata": {
        "id": "VyTPoRQOR-ci"
      },
      "outputs": [],
      "source": [
        "%env MKL_THREADING_LAYER=GNU\n",
        "RANDOM_SEED = 8927\n",
        "rng = np.random.default_rng(RANDOM_SEED)\n",
        "import arviz as az\n",
        "import pymc as pm"
      ]
    },
    {
      "cell_type": "code",
      "execution_count": null,
      "metadata": {
        "id": "4OGcpIhhZ0OL"
      },
      "outputs": [],
      "source": [
        "## what version are we using?\n",
        "print('PyMC Version', pm.__version__)"
      ]
    },
    {
      "cell_type": "code",
      "source": [],
      "metadata": {
        "id": "XU5ABfeOus5D"
      },
      "execution_count": null,
      "outputs": []
    },
    {
      "cell_type": "markdown",
      "metadata": {
        "id": "RB6Q5-E1d5aw"
      },
      "source": [
        "## What all Distributions are available in PyMC?"
      ]
    },
    {
      "cell_type": "markdown",
      "metadata": {
        "id": "Au8mXf8Ws3r1"
      },
      "source": [
        "### List all distributions in PyMC"
      ]
    },
    {
      "cell_type": "code",
      "execution_count": null,
      "metadata": {
        "id": "YY8SVbOzs23s"
      },
      "outputs": [],
      "source": [
        "display(pm.distributions.__all__)"
      ]
    },
    {
      "cell_type": "markdown",
      "metadata": {
        "id": "o9N4KcCktDj9"
      },
      "source": [
        "#### Code to display all distributions 'nicely'"
      ]
    },
    {
      "cell_type": "code",
      "execution_count": null,
      "metadata": {
        "id": "EUic2GLGpVxG"
      },
      "outputs": [],
      "source": [
        "distrs = {}\n",
        "for d in pm.distributions.__all__:\n",
        "  cls = getattr(sys.modules[pm.distributions.__name__],d)\n",
        "  cname = str(cls)\n",
        "  if cname.startswith('<class'):\n",
        "    dtyp = cname.split(\"'\")[1].split('.')[-2]\n",
        "    desc = ''\n",
        "    if cls.__doc__:\n",
        "      desc = list(filter(lambda x: len(x) > 0, cls.__doc__.split('\\n')))[0].strip()\n",
        "    distrs[d] = {'type':dtyp,'description':desc}"
      ]
    },
    {
      "cell_type": "code",
      "execution_count": null,
      "metadata": {
        "id": "gJADMiHEmhLH"
      },
      "outputs": [],
      "source": [
        "pd.DataFrame.from_dict(distrs,orient='index')"
      ]
    },
    {
      "cell_type": "markdown",
      "metadata": {
        "id": "6jtPxzsntVtd"
      },
      "source": [
        "## Functions for Plotting Distributions & Likelihoods"
      ]
    },
    {
      "cell_type": "code",
      "execution_count": null,
      "metadata": {
        "id": "oAF9Yu70taos"
      },
      "outputs": [],
      "source": [
        "def plot_disc(rv, dname = '', ax=None):\n",
        "    \"\"\"\n",
        "    Plot discrete distribution\n",
        "    \"\"\"\n",
        "    if ax is None:\n",
        "        _, ax = plt.subplots(figsize=(3,3))\n",
        "    samples = pm.draw(rv,draws=1000)\n",
        "    x = np.unique(samples)\n",
        "    y=np.exp(pm.logp(rv, x)).eval()\n",
        "    ax.stem(x,y,markerfmt='C0o',use_line_collection=True,linefmt='C0-',basefmt=\" \") \n",
        "    ax.set_xlim([min(x)-0.5,max(x)+0.5])\n",
        "    #ax.set_ylim([0,1])\n",
        "    ax.set_xticks(x)\n",
        "   # ax.set_yticklabels(ax.get_yticklabels(),fontsize='small')\n",
        "    ax.tick_params(axis='y', labelsize=11)\n",
        "    ax.tick_params(axis='x', labelsize=11)\n",
        "   # sns.barplot(x=x, , ax=ax)\n",
        "    ax.set_xlabel('x',fontsize='medium')\n",
        "    ax.set_ylabel(r'$f_X(x)$',fontsize='medium')\n",
        "    ax.set_title(r'PMF for $X\\sim ' + '{}'.format(dname) + r'$',fontsize='medium')\n",
        "    return ax\n",
        "\n",
        "\n",
        "def plot_cont(rv, ax=None):\n",
        "    if ax is None:\n",
        "        _, ax = plt.subplots()\n",
        "    samples = pm.draw(rv,draws=1000)\n",
        "    x = np.linspace(np.min(samples), np.max(samples), 1000)\n",
        "    ax.plot(x, np.exp(pm.logp(rv, x)).eval())\n",
        "    return ax"
      ]
    },
    {
      "cell_type": "code",
      "execution_count": null,
      "metadata": {
        "id": "0gw7D9LnrEGS"
      },
      "outputs": [],
      "source": [
        "def plot_lik(rvs, x, prange, pname = r'\\theta', dname='', ax=None, log=False):\n",
        "  xx = x\n",
        "  names = r'$X={}$'.format(x)\n",
        "  if hasattr(x, \"__len__\"):\n",
        "    xx = np.broadcast_to(x, (len(prange),len(x))).T\n",
        "    names = map(lambda z: r'$X={}$'.format(z),x)\n",
        "  loglik = pm.logp(rvs, xx).eval()\n",
        "  lik = np.exp(loglik)\n",
        "  title = r'Likelihoods for {}'.format(dname)\n",
        "  dat = lik.T\n",
        "  if log:\n",
        "    title = 'Log '+ title\n",
        "    dat = loglik.T\n",
        "  if ax is None:\n",
        "        _, ax = plt.subplots()\n",
        "  sns.lineplot(data=pd.DataFrame(dat, index=prange, columns = names), ax=ax)\n",
        "  ax.set(title=title,\n",
        "         xlabel='$'+pname+'$', ylabel='$P(X|'+pname+')$')"
      ]
    },
    {
      "cell_type": "markdown",
      "metadata": {
        "id": "jhaKEhR-gcnx"
      },
      "source": [
        "## Discrete Distributions"
      ]
    },
    {
      "cell_type": "markdown",
      "metadata": {
        "id": "1FJ7yXldgfwe"
      },
      "source": [
        "### Bernoulli Distribution"
      ]
    },
    {
      "cell_type": "code",
      "execution_count": null,
      "metadata": {
        "id": "R4ow5xQL6mfB"
      },
      "outputs": [],
      "source": [
        "\n",
        "fig, ax = plt.subplots(1,3,figsize=(10,3),sharey=True)\n",
        "plot_disc(pm.Bernoulli.dist(p=0.1),dname='Ber(p=0.1)',ax=ax[0])\n",
        "plot_disc(pm.Bernoulli.dist(p=0.5),dname='Ber(p=0.5)',ax=ax[1])\n",
        "plot_disc(pm.Bernoulli.dist(p=0.7),dname='Ber(p=0.7)',ax=ax[2])\n",
        "plt.show()"
      ]
    },
    {
      "cell_type": "code",
      "execution_count": null,
      "metadata": {
        "id": "JoRADM4_rYPf"
      },
      "outputs": [],
      "source": [
        "fig, ax = plt.subplots(1,2,figsize=(10,3),sharey=False)\n",
        "pi = np.linspace(0.001,0.999,100)\n",
        "logiti = np.linspace(-4,4,100)\n",
        "plot_lik(pm.Bernoulli.dist(p=pi), [0,1], pi, dname='Bernoulli', pname='p',ax=ax[0])\n",
        "plot_lik(pm.Bernoulli.dist(logit_p=logiti), [0,1], logiti, dname='Bernoulli', pname='logit(p)',ax=ax[1])\n",
        "\n",
        "\n"
      ]
    },
    {
      "cell_type": "markdown",
      "metadata": {
        "id": "1pKlLzl3gyPm"
      },
      "source": [
        "### Binomial Distribution"
      ]
    },
    {
      "cell_type": "code",
      "execution_count": null,
      "metadata": {
        "id": "h2PAePMO9VQu"
      },
      "outputs": [],
      "source": [
        "fig, ax = plt.subplots(1,3,figsize=(10,3),sharey=True)\n",
        "plot_disc(pm.Binomial.dist(n=6,p=0.5),dname='Bin(n=6,p=0.5)',ax=ax[0])\n",
        "plot_disc(pm.Binomial.dist(n=6,p=0.7),dname='Bin(n=6,p=0.7)',ax=ax[1])\n",
        "plot_disc(pm.Binomial.dist(n=12,p=0.7),dname='Bin(n=12,p=0.7)',ax=ax[2])\n",
        "plt.show()"
      ]
    },
    {
      "cell_type": "code",
      "execution_count": null,
      "metadata": {
        "id": "cfLb76XRnfAk"
      },
      "outputs": [],
      "source": [
        "fig, ax = plt.subplots(1,2,figsize=(10,3),sharey=False)\n",
        "pi = np.linspace(0.001,0.999,100)\n",
        "logiti = np.linspace(-8,8,100)\n",
        "N = 12\n",
        "X = [1,4,6,10]\n",
        "plot_lik(pm.Binomial.dist(n=N,p=pi), X, pi, dname='Binomial', pname='p',ax=ax[0])\n",
        "plot_lik(pm.Binomial.dist(n=N,logit_p=logiti), X, logiti, dname='Binomial', pname='logit(p)',ax=ax[1])\n"
      ]
    },
    {
      "cell_type": "markdown",
      "metadata": {
        "id": "8n-jBhAEjusY"
      },
      "source": [
        "#### Application of Binomial Distribution: 1-D Random Walk"
      ]
    },
    {
      "cell_type": "code",
      "execution_count": null,
      "metadata": {
        "id": "Ci6-j007s8Rv"
      },
      "outputs": [],
      "source": [
        "### TBD: not sure how to do simple transformations in PyMC"
      ]
    },
    {
      "cell_type": "code",
      "execution_count": null,
      "metadata": {
        "id": "X4hH7W40nfRc"
      },
      "outputs": [],
      "source": []
    },
    {
      "cell_type": "code",
      "source": [
        "### switching distributions"
      ],
      "metadata": {
        "id": "ql8-uOpfgfmX"
      },
      "execution_count": null,
      "outputs": []
    },
    {
      "cell_type": "code",
      "source": [
        "eturn switch(alpha > 1e10,\n",
        "                      pois,\n",
        "                      negbinom)"
      ],
      "metadata": {
        "id": "yzGcLS5rghuV"
      },
      "execution_count": null,
      "outputs": []
    },
    {
      "cell_type": "code",
      "source": [
        "def get_switched_dist(tau):\n",
        "  d1 = pm.Uniform(\"d1\", lower = 0, upper = 1.)\n",
        "  d2 = pm.Uniform(\"d2\", lower = 10., upper = 11.)\n",
        "  return pm.math.switch(tau > 1.0, d1, d2)"
      ],
      "metadata": {
        "id": "ZjRyKIJsORFi"
      },
      "execution_count": null,
      "outputs": []
    },
    {
      "cell_type": "code",
      "source": [
        "with pm.Model() as model:\n",
        "  "
      ],
      "metadata": {
        "id": "Tzap6puhghw8"
      },
      "execution_count": null,
      "outputs": []
    },
    {
      "cell_type": "code",
      "source": [
        "\n",
        "alpha = 1.0/count_data.mean()  # Recall count_data is the\n",
        "                               # variable that holds our txt counts\n",
        "lambda_1 = pm.Exponential(\"lambda_1\", alpha)\n",
        "lambda_2 = pm.Exponential(\"lambda_2\", alpha)\n",
        "\n",
        "tau = pm.DiscreteUniform(\"tau\", lower=0, upper=n_count_data - 1)\n",
        "\n",
        "idx = np.arange(n_count_data) # Index\n",
        "lambda_ = pm.math.switch(tau >= idx, lambda_1,lambda_2)\n",
        "\n",
        "observation = pm.Poisson(\"obs\", lambda_, observed=count_data)\n",
        "\n",
        "step = [pm.Metropolis(), pm.NUTS()]\n",
        "trace = pm.sample(10000, tune=5000,step=step)\n",
        "pm.traceplot(trace, ['lambda_1', 'lambda_2', 'tau'])\n",
        "plt.show()"
      ],
      "metadata": {
        "id": "SLw4HEx6ghzY"
      },
      "execution_count": null,
      "outputs": []
    },
    {
      "cell_type": "code",
      "source": [],
      "metadata": {
        "id": "maDDBz3Cgh1t"
      },
      "execution_count": null,
      "outputs": []
    },
    {
      "cell_type": "markdown",
      "metadata": {
        "id": "GQ-EuUfw6gmi"
      },
      "source": [
        "### Categorical Distributions"
      ]
    },
    {
      "cell_type": "markdown",
      "metadata": {
        "id": "FKvGoNFdUSpA"
      },
      "source": [
        "#### Categorical Distributions as a univariate distribution"
      ]
    },
    {
      "cell_type": "code",
      "execution_count": null,
      "metadata": {
        "id": "WPXETLfeR-hu"
      },
      "outputs": [],
      "source": [
        "fig, ax = plt.subplots(1,3,figsize=(10,3),sharey=True)\n",
        "plot_disc(pm.Categorical.dist(p=[0.25,0.25,0.25,0.25]),dname='Ber(p=0.1)',ax=ax[0])\n",
        "plot_disc(pm.Categorical.dist(p=[0.1,0.2,0.3,0.4]),dname='Ber(p=0.5)',ax=ax[1])\n",
        "plot_disc(pm.Categorical.dist(p=[1/3,1/3,1/3]),dname='Ber(p=0.7)',ax=ax[2])\n",
        "plt.show()"
      ]
    },
    {
      "cell_type": "markdown",
      "metadata": {
        "id": "D0v0T4q1UY8u"
      },
      "source": [
        "### Multinomial Distribution - as a Multivariate distribution\n",
        "For K=3 we will use barycentric coordinates (plot using triangular coordinates). In general, the support of a multinomial distributions with $K$ categories and $N$ trials is on the edges of a $K$-simplex. The vertices represent the points $X=(0,0,...,N), (0,...,N,0),...,(N,0,...,0)$. "
      ]
    },
    {
      "cell_type": "code",
      "execution_count": null,
      "metadata": {
        "id": "jjg334aCLyOy"
      },
      "outputs": [],
      "source": [
        "def plot_3d_bar(X,p):\n",
        "  fig = plt.figure()\n",
        "  ax = fig.add_subplot(projection='3d')\n",
        "  zpos = 0\n",
        "  dx = dy = 0.5 * np.ones_like(zpos)\n",
        "  ax.bar3d(X[:,0],X[:,1],zpos,dx,dy,p,zsort='average')"
      ]
    },
    {
      "cell_type": "code",
      "execution_count": null,
      "metadata": {
        "id": "NnNovNh0ZtW6"
      },
      "outputs": [],
      "source": [
        "import plotly.express as px\n",
        "def plot_scatter_ternary(X,p):\n",
        "  df = pd.DataFrame(X,columns=['x','y','z'])\n",
        "  df['P']=p\n",
        "  fig = px.scatter_ternary(df, a=\"x\", b=\"y\", c=\"z\", color='P', hover_data=['x','y','z','P'],size='P',size_max=12)\n",
        "  fig.update_layout({\n",
        "      'ternary': {\n",
        "          'sum': np.max(X),\n",
        "          'aaxis': {'title':'$X_0$','tickmode':'linear','tick0':0,'dtick':1},\n",
        "          'baxis': {'title':'$X_1$','tickmode':'linear','tick0':0,'dtick':1},\n",
        "          'caxis': {'title':'$X_2$','tickmode':'linear','tick0':0,'dtick':1}\n",
        "      },\n",
        "      'height': 400})\n",
        "  fig.show()"
      ]
    },
    {
      "cell_type": "code",
      "execution_count": null,
      "metadata": {
        "id": "okk69rlKjaur"
      },
      "outputs": [],
      "source": [
        "rv = pm.Multinomial.dist(n=10,p=[4/10,1/10,5/10])\n",
        "samples = pm.draw(rv,draws=10000)\n",
        "X = np.unique(samples, axis=0)\n",
        "y=np.exp(pm.logp(rv, X)).eval()"
      ]
    },
    {
      "cell_type": "code",
      "execution_count": null,
      "metadata": {
        "id": "BzJGJ9SuYqZA"
      },
      "outputs": [],
      "source": [
        "plot_scatter_ternary(X,y)"
      ]
    },
    {
      "cell_type": "code",
      "execution_count": null,
      "metadata": {
        "id": "6LVWCMZBjzJM"
      },
      "outputs": [],
      "source": [
        "### We can also plot this multivariate distribution using rectangular coordinates.\n",
        "plot_3d_bar(X,y)"
      ]
    },
    {
      "cell_type": "markdown",
      "metadata": {
        "id": "031stoJYY_uH"
      },
      "source": [
        "#### Likelihoods for Multinomial Distrbution"
      ]
    },
    {
      "cell_type": "code",
      "execution_count": null,
      "metadata": {
        "id": "_NPcCTtQpD8t"
      },
      "outputs": [],
      "source": [
        "import plotly.figure_factory as ff\n",
        "a, b = np.mgrid[0:1:20j, 0:1:20j]\n",
        "mask = a + b <= 1\n",
        "a = a[mask].ravel()\n",
        "b = b[mask].ravel()\n",
        "c = 1 - a - b\n",
        "pi = np.stack((a,b,c))\n"
      ]
    },
    {
      "cell_type": "code",
      "execution_count": null,
      "metadata": {
        "id": "pBj1kZp2qO2B"
      },
      "outputs": [],
      "source": [
        "## get likelihoods\n",
        "def get_multinomial_lik(n,pi,X):\n",
        "  rvs = pm.Multinomial.dist(n=10,p=pi.T)\n",
        "  y=np.exp(pm.logp(rvs, np.asarray(X))).eval()\n",
        "  return y"
      ]
    },
    {
      "cell_type": "code",
      "execution_count": null,
      "metadata": {
        "id": "dFMSZ6DEcdX8"
      },
      "outputs": [],
      "source": [
        "#Xn = X / X.sum(axis=1)[:,np.newaxis]\n",
        "fig = ff.create_ternary_contour(pi, get_multinomial_lik(10,pi,[2,5,3]))\n",
        "fig.show()\n",
        "fig = ff.create_ternary_contour(pi, get_multinomial_lik(10,pi,[1,4,5]))\n",
        "fig.show()\n",
        "fig = ff.create_ternary_contour(pi, get_multinomial_lik(10,pi,[0,0,10]))\n",
        "fig.show()"
      ]
    },
    {
      "cell_type": "code",
      "execution_count": null,
      "metadata": {
        "id": "W91Ffg_jEOpZ"
      },
      "outputs": [],
      "source": []
    },
    {
      "cell_type": "markdown",
      "metadata": {
        "id": "KGg1JqNdC0-0"
      },
      "source": [
        "### Poisson Distribution"
      ]
    },
    {
      "cell_type": "code",
      "execution_count": null,
      "metadata": {
        "id": "Fct0V1MytoqR"
      },
      "outputs": [],
      "source": [
        "fig, ax = plt.subplots(1,3,figsize=(12,3),sharey=True,sharex=True)\n",
        "plot_disc(pm.Poisson.dist(mu=0.1),dname='Pois(\\mu=0.1)',ax=ax[0])\n",
        "plot_disc(pm.Poisson.dist(mu=1),dname='Pois(\\mu=1)',ax=ax[1])\n",
        "plot_disc(pm.Poisson.dist(mu=5),dname='Pois(\\mu=5)',ax=ax[2])\n",
        "ax[0].set(xlim=[-1,11.5])\n",
        "plt.show()"
      ]
    },
    {
      "cell_type": "code",
      "execution_count": null,
      "metadata": {
        "id": "ymt9uE8Otozp"
      },
      "outputs": [],
      "source": [
        "fig, ax = plt.subplots(figsize=(5,3))\n",
        "mi = np.linspace(1,15,100)\n",
        "X = [1,4,6,10,12]\n",
        "plot_lik(pm.Poisson.dist(mu=mi), X, mi, dname='Poisson', pname='\\mu',ax=ax)"
      ]
    },
    {
      "cell_type": "markdown",
      "metadata": {
        "id": "c6urgM6BDIJs"
      },
      "source": [
        "### Geometric Distribution"
      ]
    },
    {
      "cell_type": "code",
      "execution_count": null,
      "metadata": {
        "id": "_wByojA-C-NR"
      },
      "outputs": [],
      "source": [
        "fig, ax = plt.subplots(1,3,figsize=(12,3),sharey=True,sharex=True)\n",
        "plot_disc(pm.Geometric.dist(p=0.1),dname='Geom(p=0.1)',ax=ax[0])\n",
        "plot_disc(pm.Geometric.dist(p=0.5),dname='Geom(p=0.5)',ax=ax[1])\n",
        "plot_disc(pm.Geometric.dist(p=0.7),dname='Geom(p=0.7)',ax=ax[2])\n",
        "for a in ax:\n",
        "  a.set(xlim=[0,10])\n",
        "plt.show()"
      ]
    },
    {
      "cell_type": "code",
      "execution_count": null,
      "metadata": {
        "id": "6eq2vRVhwxFm"
      },
      "outputs": [],
      "source": [
        "fig, ax = plt.subplots(figsize=(5,3),sharey=False)\n",
        "pi = np.linspace(0.001,0.999,100)\n",
        "X = [2,4,8,12]\n",
        "plot_lik(pm.Geometric.dist(p=pi), X, pi, dname='Geometric', pname='p',ax=ax)"
      ]
    },
    {
      "cell_type": "markdown",
      "metadata": {
        "id": "_b0nr7icDLwS"
      },
      "source": [
        "### Negative Binomial Distribution"
      ]
    },
    {
      "cell_type": "code",
      "execution_count": null,
      "metadata": {
        "id": "70AjSfSxwxLZ"
      },
      "outputs": [],
      "source": [
        "fig, ax = plt.subplots(1,3,figsize=(12,3),sharey=True,sharex=True)\n",
        "plot_disc(pm.NegativeBinomial.dist(n=4,p=0.2),dname='NegBin(n=4,p=0.2)',ax=ax[0])\n",
        "plot_disc(pm.NegativeBinomial.dist(n=4,p=0.5),dname='NegBin(n=4,p=0.5)',ax=ax[1])\n",
        "plot_disc(pm.NegativeBinomial.dist(n=8,p=0.5),dname='NegBin(n=8,p=0.5)',ax=ax[2])\n",
        "for a in ax:\n",
        "  a.set(xlim=[-1,30], xticks=range(0,30,4))\n",
        "  a.tick_params(axis='x', rotation=90)\n",
        "plt.show()"
      ]
    },
    {
      "cell_type": "code",
      "execution_count": null,
      "metadata": {
        "id": "uKIf_ifqEfcL"
      },
      "outputs": [],
      "source": [
        "fig, ax = plt.subplots(1,2,figsize=(10,3),sharey=False)\n",
        "pi = np.linspace(0.001,0.999,100)\n",
        "mui = np.linspace(1,20,100)\n",
        "N = 4\n",
        "X = [1,2,5,10]\n",
        "plot_lik(pm.NegativeBinomial.dist(n=N,p=pi), X, pi, dname='Negative Binomial (n=4)', pname='p',ax=ax[0])\n",
        "plot_lik(pm.NegativeBinomial.dist(n=N,mu=mui), X, mui, dname='Negative Binomial (\\alpha=4)', pname='\\mu',ax=ax[1])"
      ]
    },
    {
      "cell_type": "code",
      "execution_count": null,
      "metadata": {
        "id": "Us3Sm1Ksl11J"
      },
      "outputs": [],
      "source": []
    },
    {
      "cell_type": "markdown",
      "metadata": {
        "id": "rJMcn92CgzZm"
      },
      "source": [
        "#### Application: Best of Series. \n",
        "We will take best of series of $2n-1$ games between A and B, where A's winning probability for each game is $p$. \n",
        "Probability of A winning is $Pr(A) = \\sum_{k=0}^{k=n-1}NB(k;n,p)$\n",
        "\n",
        "We will plot the $Pr(A)$ as a function of $p$ for various values of $n$. Note that as $n$ increases, $Pr(A)$ increases for the same value of $p$ if $p > \\frac{1}{2}$ and decreases if $p < \\frac{1}{2}$. This means that with a longer series a 'better' team has an even higher chance of winning the series. "
      ]
    },
    {
      "cell_type": "code",
      "source": [
        "from scipy.stats import nbinom\n",
        "def winning_prob_best_of(nseries, p ):\n",
        "  \"\"\" \n",
        "  Return probability of winning series, best-of-<nseries>\n",
        "  where probability of winning each game is p\n",
        "  \"\"\"    \n",
        "  n = int((nseries+1)/2)\n",
        "  rv = rv = nbinom(n=n, p=p)\n",
        "  y = 0\n",
        "  for x in range(0,n):\n",
        "    y += rv.pmf(x)\n",
        "  return y\n"
      ],
      "metadata": {
        "id": "IK0qKUuO9oNj"
      },
      "execution_count": null,
      "outputs": []
    },
    {
      "cell_type": "code",
      "execution_count": null,
      "metadata": {
        "id": "98HPF5b1l14n"
      },
      "outputs": [],
      "source": [
        "def winning_prob_best_of(nseries, p ):\n",
        "  \"\"\" \n",
        "  Return probability of winning series, best-of-<nseries>\n",
        "  where probability of winning each game is p\n",
        "  \"\"\"    \n",
        "  n = int((nseries+1)/2)\n",
        "  rv = pm.NegativeBinomial.dist(n=n,p=p)\n",
        "  y = 0\n",
        "  for x in range(0,n):\n",
        "    y += np.exp(pm.logp(rv, x)).eval()\n",
        "  return y"
      ]
    },
    {
      "cell_type": "code",
      "execution_count": null,
      "metadata": {
        "id": "wYpOXE-6l1_Z"
      },
      "outputs": [],
      "source": [
        "for N in [1,3,7,11,15,19]:\n",
        "  print('p=0.52, N={}, winning prob={:.03f}'.format(N,winning_prob_best_of(N,0.52)))"
      ]
    },
    {
      "cell_type": "code",
      "execution_count": null,
      "metadata": {
        "id": "VFWKOFDQl2CM"
      },
      "outputs": [],
      "source": [
        "winprob = pd.DataFrame(index=np.arange(0.1,0.9,0.01))\n",
        "for N in [3,7,15,27,41,77]:\n",
        "  pA = map(lambda x: winning_prob_best_of(N,x), winprob.index)\n",
        "  winprob['N={}'.format(N)] = list(pA)"
      ]
    },
    {
      "cell_type": "code",
      "source": [
        "winprob.plot(figsize=(8,6))"
      ],
      "metadata": {
        "id": "wtLNEeKA2zXG"
      },
      "execution_count": null,
      "outputs": []
    },
    {
      "cell_type": "code",
      "execution_count": null,
      "metadata": {
        "id": "ZWuxIenMl2UT"
      },
      "outputs": [],
      "source": []
    },
    {
      "cell_type": "markdown",
      "metadata": {
        "id": "_PkROeMsspvT"
      },
      "source": [
        "\n",
        "\n",
        "\n",
        "### Hypergeometric Distribution\n",
        "We notice the PMF is unimodal, and symmetric but as $N$ increases relative to $n$, it starts looking more like a binomial distribution."
      ]
    },
    {
      "cell_type": "code",
      "execution_count": null,
      "metadata": {
        "id": "e1CcbAzRspvc"
      },
      "outputs": [],
      "source": [
        "fig, ax = plt.subplots(1,3,figsize=(12,3),sharey=True,sharex=True)\n",
        "plot_disc(pm.HyperGeometric.dist(N=50,k=10,n=20),dname='HG(N=50,K=10,n=20)',ax=ax[0])\n",
        "plot_disc(pm.HyperGeometric.dist(N=50,k=25,n=20),dname='HG(N=50,K=25,n=20)',ax=ax[1])\n",
        "plot_disc(pm.HyperGeometric.dist(N=50,k=25,n=5),dname='HG(N=50,K=25,n=5)',ax=ax[2])\n",
        "for a in ax:\n",
        "  a.set(xlim=[-1,16], xticks=range(0,16,2))\n",
        "  a.tick_params(axis='x', rotation=90)\n",
        "plt.show()"
      ]
    },
    {
      "cell_type": "code",
      "execution_count": null,
      "metadata": {
        "id": "9d4iXylLspvc"
      },
      "outputs": [],
      "source": [
        "fig, ax = plt.subplots(1,2,figsize=(10,3),sharey=False)\n",
        "pi = np.linspace(0.001,0.999,100)\n",
        "ni = np.linspace(1,50,50)\n",
        "N = 50\n",
        "ki = pi*N\n",
        "X = [1,2,5,10]\n",
        "plot_lik(pm.HyperGeometric.dist(N=N,k=ki,n=10), X, ki, dname='HypGeom(N=50,n=10)', pname='K',ax=ax[0])\n",
        "plot_lik(pm.HyperGeometric.dist(N=N,k=25,n=ni), X, ni, dname='HypGeom(N=50,K=25)', pname='n',ax=ax[1])\n",
        "#plot_lik(pm.NegativeBinomial.dist(n=N,mu=mui), X, mui, dname='Negative Binomial (alpha=4)', pname='\\mu',ax=ax[1])"
      ]
    },
    {
      "cell_type": "code",
      "execution_count": null,
      "metadata": {
        "id": "wFHpn460l2ew"
      },
      "outputs": [],
      "source": []
    },
    {
      "cell_type": "markdown",
      "metadata": {
        "id": "zwrNrTOsDJUh"
      },
      "source": [
        "### Extraneous"
      ]
    },
    {
      "cell_type": "code",
      "execution_count": null,
      "metadata": {
        "id": "fBTYagaKfPii"
      },
      "outputs": [],
      "source": [
        "plot_cont(n)"
      ]
    },
    {
      "cell_type": "code",
      "execution_count": null,
      "metadata": {
        "id": "U4FjifUWfAXz"
      },
      "outputs": [],
      "source": [
        "samples = pm.draw(n,draws=10000)\n",
        "sns.distplot(samples)"
      ]
    },
    {
      "cell_type": "code",
      "execution_count": null,
      "metadata": {
        "id": "LdUPbecKfAbc"
      },
      "outputs": [],
      "source": [
        "with pm.Model() as nnmodel:\n",
        "  n1 =  pm.Normal('n1',mu=0, sigma = 1)\n",
        "  n2 =  pm.Normal('n2',mu=0, sigma = 0.5)\n",
        "  ss =  pm.Deterministic('quot',n1 / (1+n2))\n",
        "  ss2 =  pm.Deterministic('sq',n1*n1)\n",
        "  ssn = n1 + n2\n",
        "  trace = pm.sample()"
      ]
    },
    {
      "cell_type": "code",
      "execution_count": null,
      "metadata": {
        "id": "5XJPPzeCkDp8"
      },
      "outputs": [],
      "source": [
        "pm.plot_trace(trace)"
      ]
    },
    {
      "cell_type": "code",
      "execution_count": null,
      "metadata": {
        "id": "dqeBrbPHfAee"
      },
      "outputs": [],
      "source": []
    },
    {
      "cell_type": "code",
      "execution_count": null,
      "metadata": {
        "id": "sVrEqGRwkmql"
      },
      "outputs": [],
      "source": [
        "samples = pm.draw(nnmodel.sq, draws=1000)\n",
        "sns.distplot(samples)"
      ]
    },
    {
      "cell_type": "code",
      "execution_count": null,
      "metadata": {
        "id": "VijfbUrphFrm"
      },
      "outputs": [],
      "source": [
        "pm.summary(trace)"
      ]
    },
    {
      "cell_type": "code",
      "execution_count": null,
      "metadata": {
        "id": "v4DV_sJghIo1"
      },
      "outputs": [],
      "source": [
        "with pm.Model():\n",
        "  nn = pm.Normal('x',mu=0, sigma=1)"
      ]
    },
    {
      "cell_type": "code",
      "execution_count": null,
      "metadata": {
        "id": "F11zDs5QhUJG"
      },
      "outputs": [],
      "source": [
        "nn.eval()"
      ]
    },
    {
      "cell_type": "code",
      "execution_count": null,
      "metadata": {
        "id": "QGrDd_hheQMO"
      },
      "outputs": [],
      "source": [
        "import aesara.tensor as at\n",
        "ss = [at.clip(nn,0,np.inf).eval() for _ in range(1000)]\n",
        "sns.distplot(np.asarray(ss))"
      ]
    },
    {
      "cell_type": "code",
      "execution_count": null,
      "metadata": {
        "id": "LPij_-H_R-kh"
      },
      "outputs": [],
      "source": [
        "pm.logp(n,4).eval()"
      ]
    },
    {
      "cell_type": "code",
      "execution_count": null,
      "metadata": {
        "id": "qxwsMIqTeLzw"
      },
      "outputs": [],
      "source": [
        "pm.draw(n, draws=10)"
      ]
    },
    {
      "cell_type": "code",
      "execution_count": null,
      "metadata": {
        "id": "wO2sxwFEh4wj"
      },
      "outputs": [],
      "source": []
    },
    {
      "cell_type": "code",
      "execution_count": null,
      "metadata": {
        "id": "BRXHz7PFoL6T"
      },
      "outputs": [],
      "source": []
    },
    {
      "cell_type": "code",
      "execution_count": null,
      "metadata": {
        "id": "bOPM_StnoMC9"
      },
      "outputs": [],
      "source": [
        "%env MKL_THREADING_LAYER=GNU\n",
        "RANDOM_SEED = 8927\n",
        "rng = np.random.default_rng(RANDOM_SEED)\n",
        "import pymc3 as pm3"
      ]
    },
    {
      "cell_type": "code",
      "execution_count": null,
      "metadata": {
        "id": "sKQzt1Hlh40s"
      },
      "outputs": [],
      "source": [
        "n = pm3.Normal.dist(mu=0, sigma=0.5)"
      ]
    },
    {
      "cell_type": "code",
      "execution_count": null,
      "metadata": {
        "id": "BDzyfCznjaoG"
      },
      "outputs": [],
      "source": [
        "n.random(size=[10,1])"
      ]
    },
    {
      "cell_type": "code",
      "execution_count": null,
      "metadata": {
        "id": "7_r4cLVwjoC2"
      },
      "outputs": [],
      "source": [
        "with pm3.Model() as nnmodel:\n",
        "  n1 =  pm3.Normal('n1',mu=0, sd = 1)\n",
        "  n2 =  pm3.Normal('n2',mu=0, sd = 0.5)\n",
        "  ss =  pm3.Deterministic('sum',n1 + n2)\n",
        "  ssn = n1 + n2\n",
        "  trace = pm3.sample(10)"
      ]
    },
    {
      "cell_type": "code",
      "execution_count": null,
      "metadata": {
        "id": "A3kbnRIqlJqp"
      },
      "outputs": [],
      "source": []
    },
    {
      "cell_type": "code",
      "execution_count": null,
      "metadata": {
        "id": "tQGqrdjJjoHX"
      },
      "outputs": [],
      "source": [
        "sn = n + n2"
      ]
    }
  ],
  "metadata": {
    "colab": {
      "provenance": [],
      "private_outputs": true,
      "authorship_tag": "ABX9TyN4ZQqIa6jFVi7sh+Cy1ssg",
      "include_colab_link": true
    },
    "kernelspec": {
      "display_name": "Python 3",
      "name": "python3"
    },
    "language_info": {
      "name": "python"
    }
  },
  "nbformat": 4,
  "nbformat_minor": 0
}