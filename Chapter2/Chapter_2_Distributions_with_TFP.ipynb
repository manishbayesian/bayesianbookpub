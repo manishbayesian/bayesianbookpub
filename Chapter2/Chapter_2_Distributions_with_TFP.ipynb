{
  "nbformat": 4,
  "nbformat_minor": 0,
  "metadata": {
    "colab": {
      "provenance": [],
      "authorship_tag": "ABX9TyPZo21S1GNQ7u/w7iatMFmJ",
      "include_colab_link": true
    },
    "kernelspec": {
      "name": "python3",
      "display_name": "Python 3"
    },
    "language_info": {
      "name": "python"
    }
  },
  "cells": [
    {
      "cell_type": "markdown",
      "metadata": {
        "id": "view-in-github",
        "colab_type": "text"
      },
      "source": [
        "<a href=\"https://colab.research.google.com/github/manishbayesian/bayesianbookpub/blob/main/Chapter_2_Distributions_with_TFP.ipynb\" target=\"_parent\"><img src=\"https://colab.research.google.com/assets/colab-badge.svg\" alt=\"Open In Colab\"/></a>"
      ]
    },
    {
      "cell_type": "markdown",
      "source": [
        "# Chapter 2 - Distributions with TensorFlow Probability"
      ],
      "metadata": {
        "id": "q9awV6EdPLzk"
      }
    },
    {
      "cell_type": "markdown",
      "source": [
        "## Imports"
      ],
      "metadata": {
        "id": "1yeJEBiDvKCk"
      }
    },
    {
      "cell_type": "code",
      "source": [
        "from IPython.display import HTML, display\n",
        " \n",
        "def set_css():\n",
        "  display(HTML('''\n",
        "  <style>\n",
        "    pre {\n",
        "        white-space: pre-wrap;\n",
        "    }\n",
        "  </style>\n",
        "  '''))\n",
        "get_ipython().events.register('pre_run_cell', set_css)"
      ],
      "metadata": {
        "id": "gwG-p6Etk80u"
      },
      "execution_count": null,
      "outputs": []
    },
    {
      "cell_type": "code",
      "source": [
        "from scipy import special\n",
        "import math\n",
        "import pandas as pd\n",
        "import matplotlib.pyplot as plt\n",
        "import seaborn as sns\n",
        "from numpy import random\n",
        "import numpy as np\n",
        "import sys\n",
        "\n",
        "sns.set_theme(style=\"darkgrid\")\n",
        "pd.set_option('display.precision', 3)\n",
        "pd.set_option('display.float_format',  '{:,.3f}'.format)"
      ],
      "metadata": {
        "id": "OTvw9hYuPNNe",
        "colab": {
          "base_uri": "https://localhost:8080/"
        },
        "outputId": "987b90e0-68ad-4970-82c9-aec346be4112"
      },
      "execution_count": null,
      "outputs": [
        {
          "output_type": "display_data",
          "data": {
            "text/plain": [
              "<IPython.core.display.HTML object>"
            ],
            "text/html": [
              "\n",
              "  <style>\n",
              "    pre {\n",
              "        white-space: pre-wrap;\n",
              "    }\n",
              "  </style>\n",
              "  "
            ]
          },
          "metadata": {}
        }
      ]
    },
    {
      "cell_type": "markdown",
      "source": [
        "## Install and import TFP packages"
      ],
      "metadata": {
        "id": "-_0loTC2dVEP"
      }
    },
    {
      "cell_type": "code",
      "source": [
        "import tensorflow as tf\n",
        "import tensorflow_probability as tfp\n",
        "try:\n",
        "  tf.compat.v1.enable_eager_execution()\n",
        "except ValueError:\n",
        "  pass\n"
      ],
      "metadata": {
        "colab": {
          "base_uri": "https://localhost:8080/",
          "height": 17
        },
        "id": "1tNKPChFEc-K",
        "outputId": "ed95ba0b-1fe9-420b-a722-3f5b200550e5"
      },
      "execution_count": null,
      "outputs": [
        {
          "output_type": "display_data",
          "data": {
            "text/plain": [
              "<IPython.core.display.HTML object>"
            ],
            "text/html": [
              "\n",
              "  <style>\n",
              "    pre {\n",
              "        white-space: pre-wrap;\n",
              "    }\n",
              "  </style>\n",
              "  "
            ]
          },
          "metadata": {}
        }
      ]
    },
    {
      "cell_type": "code",
      "source": [
        "## what version are we using?\n",
        "print('TFP Version', tfp.__version__)"
      ],
      "metadata": {
        "colab": {
          "base_uri": "https://localhost:8080/",
          "height": 35
        },
        "id": "4OGcpIhhZ0OL",
        "outputId": "4393d0df-eba4-4173-cc9c-6599d25c676d"
      },
      "execution_count": null,
      "outputs": [
        {
          "output_type": "display_data",
          "data": {
            "text/plain": [
              "<IPython.core.display.HTML object>"
            ],
            "text/html": [
              "\n",
              "  <style>\n",
              "    pre {\n",
              "        white-space: pre-wrap;\n",
              "    }\n",
              "  </style>\n",
              "  "
            ]
          },
          "metadata": {}
        },
        {
          "output_type": "stream",
          "name": "stdout",
          "text": [
            "TFP Version 0.16.0\n"
          ]
        }
      ]
    },
    {
      "cell_type": "markdown",
      "source": [
        "## What all Distributions are available in TFP?"
      ],
      "metadata": {
        "id": "RB6Q5-E1d5aw"
      }
    },
    {
      "cell_type": "markdown",
      "source": [
        "### List all distributions in PyMC"
      ],
      "metadata": {
        "id": "Au8mXf8Ws3r1"
      }
    },
    {
      "cell_type": "code",
      "source": [
        "display(tfp.distributions.__all__)"
      ],
      "metadata": {
        "colab": {
          "base_uri": "https://localhost:8080/",
          "height": 1000
        },
        "id": "YY8SVbOzs23s",
        "outputId": "1902acab-bace-40d0-a9fd-71eba0bc8c51"
      },
      "execution_count": null,
      "outputs": [
        {
          "output_type": "display_data",
          "data": {
            "text/plain": [
              "<IPython.core.display.HTML object>"
            ],
            "text/html": [
              "\n",
              "  <style>\n",
              "    pre {\n",
              "        white-space: pre-wrap;\n",
              "    }\n",
              "  </style>\n",
              "  "
            ]
          },
          "metadata": {}
        },
        {
          "output_type": "display_data",
          "data": {
            "text/plain": [
              "['Autoregressive',\n",
              " 'BatchBroadcast',\n",
              " 'BatchReshape',\n",
              " 'Bates',\n",
              " 'Bernoulli',\n",
              " 'Beta',\n",
              " 'BetaBinomial',\n",
              " 'BetaQuotient',\n",
              " 'Binomial',\n",
              " 'Blockwise',\n",
              " 'Categorical',\n",
              " 'Cauchy',\n",
              " 'Chi',\n",
              " 'Chi2',\n",
              " 'CholeskyLKJ',\n",
              " 'DeterminantalPointProcess',\n",
              " 'Deterministic',\n",
              " 'Dirichlet',\n",
              " 'DirichletMultinomial',\n",
              " 'Distribution',\n",
              " 'DoublesidedMaxwell',\n",
              " 'Empirical',\n",
              " 'ExpGamma',\n",
              " 'ExpInverseGamma',\n",
              " 'Exponential',\n",
              " 'ExponentiallyModifiedGaussian',\n",
              " 'ExpRelaxedOneHotCategorical',\n",
              " 'FiniteDiscrete',\n",
              " 'FULLY_REPARAMETERIZED',\n",
              " 'Gamma',\n",
              " 'GammaGamma',\n",
              " 'GaussianProcess',\n",
              " 'GaussianProcessRegressionModel',\n",
              " 'GeneralizedExtremeValue',\n",
              " 'GeneralizedNormal',\n",
              " 'GeneralizedPareto',\n",
              " 'Geometric',\n",
              " 'Gumbel',\n",
              " 'HalfCauchy',\n",
              " 'HalfNormal',\n",
              " 'HalfStudentT',\n",
              " 'HiddenMarkovModel',\n",
              " 'Horseshoe',\n",
              " 'Independent',\n",
              " 'independent_joint_distribution_from_structure',\n",
              " 'InverseGamma',\n",
              " 'InverseGaussian',\n",
              " 'JohnsonSU',\n",
              " 'JointDistribution',\n",
              " 'JointDistributionCoroutine',\n",
              " 'JointDistributionCoroutineAutoBatched',\n",
              " 'JointDistributionNamed',\n",
              " 'JointDistributionNamedAutoBatched',\n",
              " 'JointDistributionSequential',\n",
              " 'JointDistributionSequentialAutoBatched',\n",
              " 'kl_divergence',\n",
              " 'Kumaraswamy',\n",
              " 'LambertWDistribution',\n",
              " 'LambertWNormal',\n",
              " 'Laplace',\n",
              " 'LinearGaussianStateSpaceModel',\n",
              " 'LKJ',\n",
              " 'Logistic',\n",
              " 'LogitNormal',\n",
              " 'LogLogistic',\n",
              " 'LogNormal',\n",
              " 'MarkovChain',\n",
              " 'Masked',\n",
              " 'MatrixNormalLinearOperator',\n",
              " 'MatrixTLinearOperator',\n",
              " 'Mixture',\n",
              " 'MixtureSameFamily',\n",
              " 'Moyal',\n",
              " 'Multinomial',\n",
              " 'MultivariateNormalDiag',\n",
              " 'MultivariateNormalDiagPlusLowRank',\n",
              " 'MultivariateNormalFullCovariance',\n",
              " 'MultivariateNormalLinearOperator',\n",
              " 'MultivariateNormalTriL',\n",
              " 'MultivariateStudentTLinearOperator',\n",
              " 'mvn_conjugate_linear_update',\n",
              " 'NegativeBinomial',\n",
              " 'Normal',\n",
              " 'normal_conjugates_known_scale_posterior',\n",
              " 'normal_conjugates_known_scale_predictive',\n",
              " 'NormalInverseGaussian',\n",
              " 'NOT_REPARAMETERIZED',\n",
              " 'OneHotCategorical',\n",
              " 'OrderedLogistic',\n",
              " 'Pareto',\n",
              " 'PERT',\n",
              " 'PixelCNN',\n",
              " 'PlackettLuce',\n",
              " 'Poisson',\n",
              " 'PoissonLogNormalQuadratureCompound',\n",
              " 'PowerSpherical',\n",
              " 'ProbitBernoulli',\n",
              " 'quadrature_scheme_lognormal_gauss_hermite',\n",
              " 'quadrature_scheme_lognormal_quantiles',\n",
              " 'QuantizedDistribution',\n",
              " 'RegisterKL',\n",
              " 'RelaxedBernoulli',\n",
              " 'RelaxedOneHotCategorical',\n",
              " 'ReparameterizationType',\n",
              " 'Sample',\n",
              " 'SigmoidBeta',\n",
              " 'SinhArcsinh',\n",
              " 'Skellam',\n",
              " 'SphericalUniform',\n",
              " 'StoppingRatioLogistic',\n",
              " 'StudentT',\n",
              " 'StudentTProcess',\n",
              " 'StudentTProcessRegressionModel',\n",
              " 'TransformedDistribution',\n",
              " 'Triangular',\n",
              " 'TruncatedCauchy',\n",
              " 'TruncatedNormal',\n",
              " 'Uniform',\n",
              " 'VariationalGaussianProcess',\n",
              " 'VectorDeterministic',\n",
              " 'VonMises',\n",
              " 'VonMisesFisher',\n",
              " 'Weibull',\n",
              " 'WishartLinearOperator',\n",
              " 'WishartTriL',\n",
              " 'Zipf']"
            ]
          },
          "metadata": {}
        }
      ]
    },
    {
      "cell_type": "markdown",
      "source": [
        "#### Code to display all distributions 'nicely'"
      ],
      "metadata": {
        "id": "o9N4KcCktDj9"
      }
    },
    {
      "cell_type": "code",
      "source": [
        "distrs = {}\n",
        "for d in tfp.distributions.__all__:\n",
        "  cls = getattr(sys.modules[tfp.distributions.__name__],d)\n",
        "  cname = str(cls)\n",
        "  if cname.startswith('<class'):\n",
        "   # dtyp = cname.split(\"'\")[1].split('.')[-2]\n",
        "    desc = ''\n",
        "    if cls.__doc__:\n",
        "      desc = list(filter(lambda x: len(x) > 0, cls.__doc__.split('\\n')))[0].strip()\n",
        "    distrs[d] = {'description':desc}"
      ],
      "metadata": {
        "colab": {
          "base_uri": "https://localhost:8080/",
          "height": 17
        },
        "id": "EUic2GLGpVxG",
        "outputId": "31bfbad9-dfa5-4bcc-eea6-3317ccea5331"
      },
      "execution_count": null,
      "outputs": [
        {
          "output_type": "display_data",
          "data": {
            "text/plain": [
              "<IPython.core.display.HTML object>"
            ],
            "text/html": [
              "\n",
              "  <style>\n",
              "    pre {\n",
              "        white-space: pre-wrap;\n",
              "    }\n",
              "  </style>\n",
              "  "
            ]
          },
          "metadata": {}
        }
      ]
    },
    {
      "cell_type": "code",
      "source": [
        "pd.DataFrame.from_dict(distrs,orient='index')"
      ],
      "metadata": {
        "colab": {
          "base_uri": "https://localhost:8080/",
          "height": 2270
        },
        "id": "gJADMiHEmhLH",
        "outputId": "9150be5a-d621-4e53-866d-96044a6ed90d"
      },
      "execution_count": null,
      "outputs": [
        {
          "output_type": "display_data",
          "data": {
            "text/plain": [
              "<IPython.core.display.HTML object>"
            ],
            "text/html": [
              "\n",
              "  <style>\n",
              "    pre {\n",
              "        white-space: pre-wrap;\n",
              "    }\n",
              "  </style>\n",
              "  "
            ]
          },
          "metadata": {}
        },
        {
          "output_type": "execute_result",
          "data": {
            "text/plain": [
              "                                                             description\n",
              "Autoregressive                             Autoregressive distributions.\n",
              "BatchBroadcast         A distribution that broadcasts an underlying d...\n",
              "BatchReshape                           The Batch-Reshaping distribution.\n",
              "Bates                                                Bates distribution.\n",
              "Bernoulli                                        Bernoulli distribution.\n",
              "...                                                                  ...\n",
              "VonMisesFisher         The von Mises-Fisher distribution over unit ve...\n",
              "Weibull                The Weibull distribution with 'concentration' ...\n",
              "WishartLinearOperator  The matrix Wishart distribution on positive de...\n",
              "WishartTriL            The matrix Wishart distribution parameterized ...\n",
              "Zipf                                                  Zipf distribution.\n",
              "\n",
              "[117 rows x 1 columns]"
            ],
            "text/html": [
              "\n",
              "  <div id=\"df-e5e85f67-2c99-44d2-bd52-9fe68b4c94c3\">\n",
              "    <div class=\"colab-df-container\">\n",
              "      <div>\n",
              "<style scoped>\n",
              "    .dataframe tbody tr th:only-of-type {\n",
              "        vertical-align: middle;\n",
              "    }\n",
              "\n",
              "    .dataframe tbody tr th {\n",
              "        vertical-align: top;\n",
              "    }\n",
              "\n",
              "    .dataframe thead th {\n",
              "        text-align: right;\n",
              "    }\n",
              "</style>\n",
              "<table border=\"1\" class=\"dataframe\">\n",
              "  <thead>\n",
              "    <tr style=\"text-align: right;\">\n",
              "      <th></th>\n",
              "      <th>description</th>\n",
              "    </tr>\n",
              "  </thead>\n",
              "  <tbody>\n",
              "    <tr>\n",
              "      <th>Autoregressive</th>\n",
              "      <td>Autoregressive distributions.</td>\n",
              "    </tr>\n",
              "    <tr>\n",
              "      <th>BatchBroadcast</th>\n",
              "      <td>A distribution that broadcasts an underlying d...</td>\n",
              "    </tr>\n",
              "    <tr>\n",
              "      <th>BatchReshape</th>\n",
              "      <td>The Batch-Reshaping distribution.</td>\n",
              "    </tr>\n",
              "    <tr>\n",
              "      <th>Bates</th>\n",
              "      <td>Bates distribution.</td>\n",
              "    </tr>\n",
              "    <tr>\n",
              "      <th>Bernoulli</th>\n",
              "      <td>Bernoulli distribution.</td>\n",
              "    </tr>\n",
              "    <tr>\n",
              "      <th>...</th>\n",
              "      <td>...</td>\n",
              "    </tr>\n",
              "    <tr>\n",
              "      <th>VonMisesFisher</th>\n",
              "      <td>The von Mises-Fisher distribution over unit ve...</td>\n",
              "    </tr>\n",
              "    <tr>\n",
              "      <th>Weibull</th>\n",
              "      <td>The Weibull distribution with 'concentration' ...</td>\n",
              "    </tr>\n",
              "    <tr>\n",
              "      <th>WishartLinearOperator</th>\n",
              "      <td>The matrix Wishart distribution on positive de...</td>\n",
              "    </tr>\n",
              "    <tr>\n",
              "      <th>WishartTriL</th>\n",
              "      <td>The matrix Wishart distribution parameterized ...</td>\n",
              "    </tr>\n",
              "    <tr>\n",
              "      <th>Zipf</th>\n",
              "      <td>Zipf distribution.</td>\n",
              "    </tr>\n",
              "  </tbody>\n",
              "</table>\n",
              "<p>117 rows × 1 columns</p>\n",
              "</div>\n",
              "      <button class=\"colab-df-convert\" onclick=\"convertToInteractive('df-e5e85f67-2c99-44d2-bd52-9fe68b4c94c3')\"\n",
              "              title=\"Convert this dataframe to an interactive table.\"\n",
              "              style=\"display:none;\">\n",
              "        \n",
              "  <svg xmlns=\"http://www.w3.org/2000/svg\" height=\"24px\"viewBox=\"0 0 24 24\"\n",
              "       width=\"24px\">\n",
              "    <path d=\"M0 0h24v24H0V0z\" fill=\"none\"/>\n",
              "    <path d=\"M18.56 5.44l.94 2.06.94-2.06 2.06-.94-2.06-.94-.94-2.06-.94 2.06-2.06.94zm-11 1L8.5 8.5l.94-2.06 2.06-.94-2.06-.94L8.5 2.5l-.94 2.06-2.06.94zm10 10l.94 2.06.94-2.06 2.06-.94-2.06-.94-.94-2.06-.94 2.06-2.06.94z\"/><path d=\"M17.41 7.96l-1.37-1.37c-.4-.4-.92-.59-1.43-.59-.52 0-1.04.2-1.43.59L10.3 9.45l-7.72 7.72c-.78.78-.78 2.05 0 2.83L4 21.41c.39.39.9.59 1.41.59.51 0 1.02-.2 1.41-.59l7.78-7.78 2.81-2.81c.8-.78.8-2.07 0-2.86zM5.41 20L4 18.59l7.72-7.72 1.47 1.35L5.41 20z\"/>\n",
              "  </svg>\n",
              "      </button>\n",
              "      \n",
              "  <style>\n",
              "    .colab-df-container {\n",
              "      display:flex;\n",
              "      flex-wrap:wrap;\n",
              "      gap: 12px;\n",
              "    }\n",
              "\n",
              "    .colab-df-convert {\n",
              "      background-color: #E8F0FE;\n",
              "      border: none;\n",
              "      border-radius: 50%;\n",
              "      cursor: pointer;\n",
              "      display: none;\n",
              "      fill: #1967D2;\n",
              "      height: 32px;\n",
              "      padding: 0 0 0 0;\n",
              "      width: 32px;\n",
              "    }\n",
              "\n",
              "    .colab-df-convert:hover {\n",
              "      background-color: #E2EBFA;\n",
              "      box-shadow: 0px 1px 2px rgba(60, 64, 67, 0.3), 0px 1px 3px 1px rgba(60, 64, 67, 0.15);\n",
              "      fill: #174EA6;\n",
              "    }\n",
              "\n",
              "    [theme=dark] .colab-df-convert {\n",
              "      background-color: #3B4455;\n",
              "      fill: #D2E3FC;\n",
              "    }\n",
              "\n",
              "    [theme=dark] .colab-df-convert:hover {\n",
              "      background-color: #434B5C;\n",
              "      box-shadow: 0px 1px 3px 1px rgba(0, 0, 0, 0.15);\n",
              "      filter: drop-shadow(0px 1px 2px rgba(0, 0, 0, 0.3));\n",
              "      fill: #FFFFFF;\n",
              "    }\n",
              "  </style>\n",
              "\n",
              "      <script>\n",
              "        const buttonEl =\n",
              "          document.querySelector('#df-e5e85f67-2c99-44d2-bd52-9fe68b4c94c3 button.colab-df-convert');\n",
              "        buttonEl.style.display =\n",
              "          google.colab.kernel.accessAllowed ? 'block' : 'none';\n",
              "\n",
              "        async function convertToInteractive(key) {\n",
              "          const element = document.querySelector('#df-e5e85f67-2c99-44d2-bd52-9fe68b4c94c3');\n",
              "          const dataTable =\n",
              "            await google.colab.kernel.invokeFunction('convertToInteractive',\n",
              "                                                     [key], {});\n",
              "          if (!dataTable) return;\n",
              "\n",
              "          const docLinkHtml = 'Like what you see? Visit the ' +\n",
              "            '<a target=\"_blank\" href=https://colab.research.google.com/notebooks/data_table.ipynb>data table notebook</a>'\n",
              "            + ' to learn more about interactive tables.';\n",
              "          element.innerHTML = '';\n",
              "          dataTable['output_type'] = 'display_data';\n",
              "          await google.colab.output.renderOutput(dataTable, element);\n",
              "          const docLink = document.createElement('div');\n",
              "          docLink.innerHTML = docLinkHtml;\n",
              "          element.appendChild(docLink);\n",
              "        }\n",
              "      </script>\n",
              "    </div>\n",
              "  </div>\n",
              "  "
            ]
          },
          "metadata": {},
          "execution_count": 14
        }
      ]
    },
    {
      "cell_type": "markdown",
      "source": [
        "## Functions for Plotting Distributions & Likelihoods"
      ],
      "metadata": {
        "id": "6jtPxzsntVtd"
      }
    },
    {
      "cell_type": "code",
      "source": [
        "def plot_disc(rv, dname = '', ax=None):\n",
        "    \"\"\"\n",
        "    Plot discrete distribution\n",
        "    \"\"\"\n",
        "    if ax is None:\n",
        "        _, ax = plt.subplots(figsize=(3,3))\n",
        "    samples = rv.sample(1000)\n",
        "    x = np.unique(samples)\n",
        "    y=np.exp(rv.log_prob(x))\n",
        "    ax.stem(x,y,markerfmt='C0o',use_line_collection=True,linefmt='C0-',basefmt=\" \") \n",
        "    ax.set_xlim([min(x)-0.5,max(x)+0.5])\n",
        "    #ax.set_ylim([0,1])\n",
        "    ax.set_xticks(x)\n",
        "   # ax.set_yticklabels(ax.get_yticklabels(),fontsize='small')\n",
        "    ax.tick_params(axis='y', labelsize=11)\n",
        "    ax.tick_params(axis='x', labelsize=11)\n",
        "   # sns.barplot(x=x, , ax=ax)\n",
        "    ax.set_xlabel('x',fontsize='medium')\n",
        "    ax.set_ylabel(r'$f_X(x)$',fontsize='medium')\n",
        "    ax.set_title(r'PMF for $X\\sim ' + '{}'.format(dname) + r'$',fontsize='medium')\n",
        "    return ax\n",
        "\n",
        "def plot_cont(rv, ax=None):\n",
        "    if ax is None:\n",
        "        _, ax = plt.subplots()\n",
        "    samples = pm.draw(rv,draws=1000)\n",
        "    x = np.linspace(np.min(samples), np.max(samples), 1000)\n",
        "    ax.plot(x, np.exp(pm.logp(rv, x)).eval())\n",
        "    return ax\n"
      ],
      "metadata": {
        "colab": {
          "base_uri": "https://localhost:8080/",
          "height": 17
        },
        "id": "oAF9Yu70taos",
        "outputId": "2b4b78f7-4a21-4c75-b6ed-4df10299a7ee"
      },
      "execution_count": null,
      "outputs": [
        {
          "output_type": "display_data",
          "data": {
            "text/plain": [
              "<IPython.core.display.HTML object>"
            ],
            "text/html": [
              "\n",
              "  <style>\n",
              "    pre {\n",
              "        white-space: pre-wrap;\n",
              "    }\n",
              "  </style>\n",
              "  "
            ]
          },
          "metadata": {}
        }
      ]
    },
    {
      "cell_type": "code",
      "source": [
        "def plot_lik(rvs, x, prange, pname = r'\\theta', dname='', ax=None, log=False):\n",
        "  xx = x\n",
        "  names = r'$X={}$'.format(x)\n",
        "  if hasattr(x, \"__len__\"):\n",
        "    xx = np.broadcast_to(x, (len(prange),len(x))).T\n",
        "    names = map(lambda z: r'$X={}$'.format(z),x)\n",
        "  loglik = rvs.log_prob(xx).numpy()\n",
        "  lik = np.exp(loglik)\n",
        "  title = r'Likelihoods for {}'.format(dname)\n",
        "  dat = lik.T\n",
        "  if log:\n",
        "    title = 'Log '+ title\n",
        "    dat = loglik.T\n",
        "  if ax is None:\n",
        "        _, ax = plt.subplots()\n",
        "  sns.lineplot(data=pd.DataFrame(dat, index=prange, columns = names), ax=ax)\n",
        "  ax.set(title=title,\n",
        "         xlabel='$'+pname+'$', ylabel='$P(X|'+pname+')$')"
      ],
      "metadata": {
        "colab": {
          "base_uri": "https://localhost:8080/",
          "height": 17
        },
        "id": "X4wg64scUQft",
        "outputId": "9c994fbc-4763-476b-af01-f1b616be9c59"
      },
      "execution_count": null,
      "outputs": [
        {
          "output_type": "display_data",
          "data": {
            "text/plain": [
              "<IPython.core.display.HTML object>"
            ],
            "text/html": [
              "\n",
              "  <style>\n",
              "    pre {\n",
              "        white-space: pre-wrap;\n",
              "    }\n",
              "  </style>\n",
              "  "
            ]
          },
          "metadata": {}
        }
      ]
    },
    {
      "cell_type": "code",
      "source": [
        "def show_stats(rv,name=''):\n",
        "  print('E['+name+']={:.02f}'.format(rv.mean().numpy()))\n",
        "  print('V['+name+']={:.02f}'.format(rv.variance().numpy()))\n",
        "  print('s['+name+']={:.02f}'.format(rv.stddev().numpy()))"
      ],
      "metadata": {
        "colab": {
          "base_uri": "https://localhost:8080/",
          "height": 17
        },
        "id": "I9SnRNUuxLHI",
        "outputId": "53ac0b7a-5c0f-4be9-fce2-9e7aaf2c52cc"
      },
      "execution_count": null,
      "outputs": [
        {
          "output_type": "display_data",
          "data": {
            "text/plain": [
              "<IPython.core.display.HTML object>"
            ],
            "text/html": [
              "\n",
              "  <style>\n",
              "    pre {\n",
              "        white-space: pre-wrap;\n",
              "    }\n",
              "  </style>\n",
              "  "
            ]
          },
          "metadata": {}
        }
      ]
    },
    {
      "cell_type": "markdown",
      "source": [
        "# Plot Some Distributions "
      ],
      "metadata": {
        "id": "VODHUXI-wniN"
      }
    },
    {
      "cell_type": "code",
      "source": [
        "tfd = tfp.distributions\n",
        "tfb = tfp.bijectors\n"
      ],
      "metadata": {
        "colab": {
          "base_uri": "https://localhost:8080/",
          "height": 17
        },
        "id": "v3NS0I6hGmDK",
        "outputId": "ae7e47f4-d8ce-492f-86a7-8303ebc30a78"
      },
      "execution_count": null,
      "outputs": [
        {
          "output_type": "display_data",
          "data": {
            "text/plain": [
              "<IPython.core.display.HTML object>"
            ],
            "text/html": [
              "\n",
              "  <style>\n",
              "    pre {\n",
              "        white-space: pre-wrap;\n",
              "    }\n",
              "  </style>\n",
              "  "
            ]
          },
          "metadata": {}
        }
      ]
    },
    {
      "cell_type": "markdown",
      "source": [
        "## Discrete Distributions"
      ],
      "metadata": {
        "id": "aFZf2YpmwqGk"
      }
    },
    {
      "cell_type": "markdown",
      "source": [
        "### Bernoulli Distribution"
      ],
      "metadata": {
        "id": "RK3a2s90wsH8"
      }
    },
    {
      "cell_type": "code",
      "source": [
        "\n",
        "fig, ax = plt.subplots(1,3,figsize=(10,3),sharey=True)\n",
        "plot_disc(tfd.Bernoulli(probs=0.1),dname='Ber(p=0.1)',ax=ax[0])\n",
        "plot_disc(tfd.Bernoulli(probs=0.5),dname='Ber(p=0.5)',ax=ax[1])\n",
        "plot_disc(tfd.Bernoulli(probs=0.7),dname='Ber(p=0.7)',ax=ax[2])\n",
        "plt.show()"
      ],
      "metadata": {
        "colab": {
          "base_uri": "https://localhost:8080/",
          "height": 248
        },
        "id": "R4ow5xQL6mfB",
        "outputId": "6477e729-a088-4154-a747-4b3c3c3ed786"
      },
      "execution_count": null,
      "outputs": [
        {
          "output_type": "display_data",
          "data": {
            "text/plain": [
              "<IPython.core.display.HTML object>"
            ],
            "text/html": [
              "\n",
              "  <style>\n",
              "    pre {\n",
              "        white-space: pre-wrap;\n",
              "    }\n",
              "  </style>\n",
              "  "
            ]
          },
          "metadata": {}
        },
        {
          "output_type": "display_data",
          "data": {
            "text/plain": [
              "<Figure size 720x216 with 3 Axes>"
            ],
            "image/png": "[encoded data removed]"
          },
          "metadata": {}
        }
      ]
    },
    {
      "cell_type": "code",
      "source": [
        "fig, ax = plt.subplots(1,2,figsize=(10,3),sharey=False)\n",
        "pi = np.linspace(0.001,0.999,100)\n",
        "logiti = np.linspace(-4,4,100)\n",
        "plot_lik(tfd.Bernoulli(probs=pi), [0,1], pi, dname='Bernoulli', pname='p',ax=ax[0])\n",
        "plot_lik(tfd.Bernoulli(logits=logiti), [0,1], logiti, dname='Bernoulli', pname='logit(p)',ax=ax[1])\n",
        "\n"
      ],
      "metadata": {
        "colab": {
          "base_uri": "https://localhost:8080/",
          "height": 250
        },
        "id": "SZX6RMeUwVKC",
        "outputId": "d4035a58-4af3-4237-8393-734673a25096"
      },
      "execution_count": null,
      "outputs": [
        {
          "output_type": "display_data",
          "data": {
            "text/plain": [
              "<IPython.core.display.HTML object>"
            ],
            "text/html": [
              "\n",
              "  <style>\n",
              "    pre {\n",
              "        white-space: pre-wrap;\n",
              "    }\n",
              "  </style>\n",
              "  "
            ]
          },
          "metadata": {}
        },
        {
          "output_type": "display_data",
          "data": {
            "text/plain": [
              "<Figure size 720x216 with 2 Axes>"
            ],
            "image/png": "[encoded data removed]"
          },
          "metadata": {}
        }
      ]
    },
    {
      "cell_type": "markdown",
      "source": [
        "### Binomial Distribution"
      ],
      "metadata": {
        "id": "K2jlf7jpwviv"
      }
    },
    {
      "cell_type": "code",
      "source": [
        "fig, ax = plt.subplots(1,3,figsize=(10,3),sharey=True)\n",
        "plot_disc(tfd.Binomial(6,probs=0.5),dname='Bin(n=6,p=0.5)',ax=ax[0])\n",
        "plot_disc(tfd.Binomial(6,probs=0.7),dname='Bin(n=6,p=0.7)',ax=ax[1])\n",
        "plot_disc(tfd.Binomial(12,probs=0.7),dname='Bin(n=12,p=0.7)',ax=ax[2])\n",
        "plt.show()"
      ],
      "metadata": {
        "colab": {
          "base_uri": "https://localhost:8080/",
          "height": 319
        },
        "id": "h2PAePMO9VQu",
        "outputId": "ebcd986c-dffe-40ed-f7da-7dc55284bc61"
      },
      "execution_count": null,
      "outputs": [
        {
          "output_type": "display_data",
          "data": {
            "text/plain": [
              "<IPython.core.display.HTML object>"
            ],
            "text/html": [
              "\n",
              "  <style>\n",
              "    pre {\n",
              "        white-space: pre-wrap;\n",
              "    }\n",
              "  </style>\n",
              "  "
            ]
          },
          "metadata": {}
        },
        {
          "output_type": "stream",
          "name": "stdout",
          "text": [
            "WARNING:tensorflow:@custom_gradient grad_fn has 'variables' in signature, but no ResourceVariables were used on the forward pass.\n"
          ]
        },
        {
          "output_type": "stream",
          "name": "stderr",
          "text": [
            "WARNING:tensorflow:@custom_gradient grad_fn has 'variables' in signature, but no ResourceVariables were used on the forward pass.\n"
          ]
        },
        {
          "output_type": "stream",
          "name": "stdout",
          "text": [
            "WARNING:tensorflow:@custom_gradient grad_fn has 'variables' in signature, but no ResourceVariables were used on the forward pass.\n"
          ]
        },
        {
          "output_type": "stream",
          "name": "stderr",
          "text": [
            "WARNING:tensorflow:@custom_gradient grad_fn has 'variables' in signature, but no ResourceVariables were used on the forward pass.\n"
          ]
        },
        {
          "output_type": "display_data",
          "data": {
            "text/plain": [
              "<Figure size 720x216 with 3 Axes>"
            ],
            "image/png": "[encoded data removed]"
          },
          "metadata": {}
        }
      ]
    },
    {
      "cell_type": "code",
      "source": [
        "fig, ax = plt.subplots(1,2,figsize=(10,3),sharey=False)\n",
        "pi = np.linspace(0.001,0.999,100)\n",
        "logiti = np.linspace(-8,8,100)\n",
        "N = 12\n",
        "X = [1,4,6,10]\n",
        "plot_lik(tfd.Binomial(N,probs=pi), X, pi, dname='Binomial', pname='p',ax=ax[0])\n",
        "plot_lik(tfd.Binomial(N,logits=logiti), X, logiti, dname='Binomial', pname='logit(p)',ax=ax[1])\n"
      ],
      "metadata": {
        "colab": {
          "base_uri": "https://localhost:8080/",
          "height": 286
        },
        "id": "YvHr09eKw9cv",
        "outputId": "95d270b4-2007-4ede-ff4c-628c979a0a38"
      },
      "execution_count": null,
      "outputs": [
        {
          "output_type": "display_data",
          "data": {
            "text/plain": [
              "<IPython.core.display.HTML object>"
            ],
            "text/html": [
              "\n",
              "  <style>\n",
              "    pre {\n",
              "        white-space: pre-wrap;\n",
              "    }\n",
              "  </style>\n",
              "  "
            ]
          },
          "metadata": {}
        },
        {
          "output_type": "stream",
          "name": "stdout",
          "text": [
            "WARNING:tensorflow:@custom_gradient grad_fn has 'variables' in signature, but no ResourceVariables were used on the forward pass.\n"
          ]
        },
        {
          "output_type": "stream",
          "name": "stderr",
          "text": [
            "WARNING:tensorflow:@custom_gradient grad_fn has 'variables' in signature, but no ResourceVariables were used on the forward pass.\n"
          ]
        },
        {
          "output_type": "display_data",
          "data": {
            "text/plain": [
              "<Figure size 720x216 with 2 Axes>"
            ],
            "image/png": "[encoded data removed]"
          },
          "metadata": {}
        }
      ]
    },
    {
      "cell_type": "code",
      "source": [
        "### plot Mean & Variance of a Binomial as a function of n\n",
        "n_vals = list(range(1,51))\n",
        "rvs = tfd.Binomial(n_vals, probs=0.7)\n",
        "mu = rvs.mean().numpy()\n",
        "sig = rvs.stddev().numpy()\n",
        "stats = pd.DataFrame({'mu':mu,'sigma':sig},index=n_vals)\n",
        "\n",
        "ax = sns.lineplot(data=stats)\n",
        "ax.set(title='Stats for Binomial Distribution (p=0.7)', xlabel='n')\n",
        "plt.show()"
      ],
      "metadata": {
        "colab": {
          "base_uri": "https://localhost:8080/",
          "height": 301
        },
        "id": "l1OmSOPUJNcr",
        "outputId": "e516e52b-c3c2-499b-d191-dc0a82344f45"
      },
      "execution_count": null,
      "outputs": [
        {
          "output_type": "display_data",
          "data": {
            "text/plain": [
              "<IPython.core.display.HTML object>"
            ],
            "text/html": [
              "\n",
              "  <style>\n",
              "    pre {\n",
              "        white-space: pre-wrap;\n",
              "    }\n",
              "  </style>\n",
              "  "
            ]
          },
          "metadata": {}
        },
        {
          "output_type": "display_data",
          "data": {
            "text/plain": [
              "<Figure size 432x288 with 1 Axes>"
            ],
            "image/png": "[encoded data removed]"
          },
          "metadata": {}
        }
      ]
    },
    {
      "cell_type": "code",
      "source": [],
      "metadata": {
        "id": "EtFyJFyUy4YB"
      },
      "execution_count": null,
      "outputs": []
    },
    {
      "cell_type": "markdown",
      "source": [
        "#### Application of Binomial Distribution: 1-D Random Walk\n",
        "We use the following transformation: \n",
        "$S_n = 2 Y_n -n $\n",
        "where $Y_n \\sim Bin(n,p)$ and $S_n$ is the position of a random walk after $n$ steps "
      ],
      "metadata": {
        "id": "nN2qtx0Ky8O0"
      }
    },
    {
      "cell_type": "code",
      "source": [
        "def rw_1d_rv(n, probs):\n",
        "    rw_1d = tfd.TransformedDistribution(\n",
        "      distribution=tfd.Binomial(n,probs=probs),\n",
        "      bijector=tfb.Chain([tfb.Shift(-n), tfb.Scale(2.)]),\n",
        "      name='DiscreteRandomWalk1D')\n",
        "    return rw_1d"
      ],
      "metadata": {
        "colab": {
          "base_uri": "https://localhost:8080/",
          "height": 17
        },
        "id": "B3m9cGWDLIOZ",
        "outputId": "bc9abfd7-cbaf-495c-c03e-5952375fa5ad"
      },
      "execution_count": null,
      "outputs": [
        {
          "output_type": "display_data",
          "data": {
            "text/plain": [
              "<IPython.core.display.HTML object>"
            ],
            "text/html": [
              "\n",
              "  <style>\n",
              "    pre {\n",
              "        white-space: pre-wrap;\n",
              "    }\n",
              "  </style>\n",
              "  "
            ]
          },
          "metadata": {}
        }
      ]
    },
    {
      "cell_type": "code",
      "source": [
        "## 1D Random Walk using Transformations.\n",
        "fig, ax = plt.subplots( 1,4,figsize=(16,3),sharey=True,sharex=True)\n",
        "for i,n in enumerate([4,12,20,28]):\n",
        "  plot_disc(rw_1d_rv(n,probs=0.5),dname='RW(n={},p=0.5)'.format(n),ax=ax[i])\n",
        "  ax[i].tick_params(axis='x', rotation=90)\n",
        "plt.show()"
      ],
      "metadata": {
        "colab": {
          "base_uri": "https://localhost:8080/",
          "height": 262
        },
        "id": "eM-6_rk4JsAj",
        "outputId": "45a954d0-099e-4ec0-8377-96be8c3856a6"
      },
      "execution_count": null,
      "outputs": [
        {
          "output_type": "display_data",
          "data": {
            "text/plain": [
              "<IPython.core.display.HTML object>"
            ],
            "text/html": [
              "\n",
              "  <style>\n",
              "    pre {\n",
              "        white-space: pre-wrap;\n",
              "    }\n",
              "  </style>\n",
              "  "
            ]
          },
          "metadata": {}
        },
        {
          "output_type": "display_data",
          "data": {
            "text/plain": [
              "<Figure size 1152x216 with 4 Axes>"
            ],
            "image/png": "[encoded data removed]"
          },
          "metadata": {}
        }
      ]
    },
    {
      "cell_type": "markdown",
      "source": [
        "##### What is the \"spread\" of the random walk with $n$ ?"
      ],
      "metadata": {
        "id": "w_mXnfrg07at"
      }
    },
    {
      "cell_type": "code",
      "source": [
        "n_vals = list(range(1,500,10))\n",
        "sig=[]\n",
        "for n in n_vals:\n",
        "  rv = rw_1d_rv(n, probs=0.5)\n",
        "  sig.append(rv.stddev().numpy())\n",
        "stats = pd.DataFrame({'spread':sig},index=n_vals)\n",
        "ax = sns.lineplot(data=stats)\n",
        "ax.set(title='Spread of Symmetric RW', xlabel='$n$',ylabel='$\\sigma$')\n",
        "plt.show()"
      ],
      "metadata": {
        "colab": {
          "base_uri": "https://localhost:8080/",
          "height": 301
        },
        "id": "rp9rCkHT06jh",
        "outputId": "ab75b66b-6e05-4b48-e307-7b8a1ca4a62a"
      },
      "execution_count": null,
      "outputs": [
        {
          "output_type": "display_data",
          "data": {
            "text/plain": [
              "<IPython.core.display.HTML object>"
            ],
            "text/html": [
              "\n",
              "  <style>\n",
              "    pre {\n",
              "        white-space: pre-wrap;\n",
              "    }\n",
              "  </style>\n",
              "  "
            ]
          },
          "metadata": {}
        },
        {
          "output_type": "display_data",
          "data": {
            "text/plain": [
              "<Figure size 432x288 with 1 Axes>"
            ],
            "image/png": "[encoded data removed]"
          },
          "metadata": {}
        }
      ]
    },
    {
      "cell_type": "code",
      "source": [],
      "metadata": {
        "id": "_ZlCNg8U1_zj"
      },
      "execution_count": null,
      "outputs": []
    },
    {
      "cell_type": "code",
      "source": [],
      "metadata": {
        "id": "obSysOVH1_2-"
      },
      "execution_count": null,
      "outputs": []
    },
    {
      "cell_type": "code",
      "source": [],
      "metadata": {
        "id": "6oG6bP8I1_5k"
      },
      "execution_count": null,
      "outputs": []
    },
    {
      "cell_type": "code",
      "source": [],
      "metadata": {
        "id": "Ogsdjepi1_7z"
      },
      "execution_count": null,
      "outputs": []
    },
    {
      "cell_type": "code",
      "source": [],
      "metadata": {
        "id": "G4KPxla91_-j"
      },
      "execution_count": null,
      "outputs": []
    },
    {
      "cell_type": "code",
      "source": [
        "n = pm.Normal.dist(mu=0, sigma=0.5)\n"
      ],
      "metadata": {
        "id": "WPXETLfeR-hu"
      },
      "execution_count": null,
      "outputs": []
    },
    {
      "cell_type": "code",
      "source": [],
      "metadata": {
        "id": "ZPnwIeLPJ56D"
      },
      "execution_count": null,
      "outputs": []
    },
    {
      "cell_type": "code",
      "source": [
        "plot_cont(n)"
      ],
      "metadata": {
        "colab": {
          "base_uri": "https://localhost:8080/",
          "height": 285
        },
        "id": "fBTYagaKfPii",
        "outputId": "726f1e0d-1a96-4514-8882-068c9056b491"
      },
      "execution_count": null,
      "outputs": [
        {
          "output_type": "execute_result",
          "data": {
            "text/plain": [
              "<matplotlib.axes._subplots.AxesSubplot at 0x7f1a91a3e110>"
            ]
          },
          "metadata": {},
          "execution_count": 8
        },
        {
          "output_type": "display_data",
          "data": {
            "text/plain": [
              "<Figure size 432x288 with 1 Axes>"
            ],
            "image/png": "[encoded data removed]"
          },
          "metadata": {
            "needs_background": "light"
          }
        }
      ]
    },
    {
      "cell_type": "code",
      "source": [
        "samples = pm.draw(n,draws=10000)\n",
        "sns.distplot(samples)"
      ],
      "metadata": {
        "colab": {
          "base_uri": "https://localhost:8080/",
          "height": 340
        },
        "id": "U4FjifUWfAXz",
        "outputId": "0f36d5e3-2581-440d-ac9e-e4248c3ebe8e"
      },
      "execution_count": null,
      "outputs": [
        {
          "output_type": "stream",
          "name": "stderr",
          "text": [
            "/usr/local/lib/python3.7/dist-packages/seaborn/distributions.py:2619: FutureWarning: `distplot` is a deprecated function and will be removed in a future version. Please adapt your code to use either `displot` (a figure-level function with similar flexibility) or `histplot` (an axes-level function for histograms).\n",
            "  warnings.warn(msg, FutureWarning)\n"
          ]
        },
        {
          "output_type": "execute_result",
          "data": {
            "text/plain": [
              "<matplotlib.axes._subplots.AxesSubplot at 0x7f1a8f3cfd10>"
            ]
          },
          "metadata": {},
          "execution_count": 12
        },
        {
          "output_type": "display_data",
          "data": {
            "text/plain": [
              "<Figure size 432x288 with 1 Axes>"
            ],
            "image/png": "[encoded data removed]"
          },
          "metadata": {
            "needs_background": "light"
          }
        }
      ]
    },
    {
      "cell_type": "code",
      "source": [
        "with pm.Model() as nnmodel:\n",
        "  n1 =  pm.Normal('n1',mu=0, sigma = 1)\n",
        "  n2 =  pm.Normal('n2',mu=0, sigma = 0.5)\n",
        "  ss =  pm.Deterministic('quot',n1 / (1+n2))\n",
        "  ss2 =  pm.Deterministic('sq',n1*n1)\n",
        "  ssn = n1 + n2\n",
        "  trace = pm.sample()"
      ],
      "metadata": {
        "colab": {
          "base_uri": "https://localhost:8080/",
          "height": 231
        },
        "id": "LdUPbecKfAbc",
        "outputId": "abe2dbea-8285-461e-9d98-b9efbd8bd6df"
      },
      "execution_count": null,
      "outputs": [
        {
          "output_type": "stream",
          "name": "stderr",
          "text": [
            "Auto-assigning NUTS sampler...\n",
            "INFO:pymc:Auto-assigning NUTS sampler...\n",
            "Initializing NUTS using jitter+adapt_diag...\n",
            "INFO:pymc:Initializing NUTS using jitter+adapt_diag...\n",
            "Sequential sampling (2 chains in 1 job)\n",
            "INFO:pymc:Sequential sampling (2 chains in 1 job)\n",
            "NUTS: [n1, n2]\n",
            "INFO:pymc:NUTS: [n1, n2]\n"
          ]
        },
        {
          "output_type": "display_data",
          "data": {
            "text/plain": [
              "<IPython.core.display.HTML object>"
            ],
            "text/html": [
              "\n",
              "<style>\n",
              "    /* Turns off some styling */\n",
              "    progress {\n",
              "        /* gets rid of default border in Firefox and Opera. */\n",
              "        border: none;\n",
              "        /* Needs to be in here for Safari polyfill so background images work as expected. */\n",
              "        background-size: auto;\n",
              "    }\n",
              "    .progress-bar-interrupted, .progress-bar-interrupted::-webkit-progress-bar {\n",
              "        background: #F44336;\n",
              "    }\n",
              "</style>\n"
            ]
          },
          "metadata": {}
        },
        {
          "output_type": "display_data",
          "data": {
            "text/plain": [
              "<IPython.core.display.HTML object>"
            ],
            "text/html": [
              "\n",
              "    <div>\n",
              "      <progress value='2000' class='' max='2000' style='width:300px; height:20px; vertical-align: middle;'></progress>\n",
              "      100.00% [2000/2000 00:05<00:00 Sampling chain 0, 0 divergences]\n",
              "    </div>\n",
              "    "
            ]
          },
          "metadata": {}
        },
        {
          "output_type": "display_data",
          "data": {
            "text/plain": [
              "<IPython.core.display.HTML object>"
            ],
            "text/html": [
              "\n",
              "<style>\n",
              "    /* Turns off some styling */\n",
              "    progress {\n",
              "        /* gets rid of default border in Firefox and Opera. */\n",
              "        border: none;\n",
              "        /* Needs to be in here for Safari polyfill so background images work as expected. */\n",
              "        background-size: auto;\n",
              "    }\n",
              "    .progress-bar-interrupted, .progress-bar-interrupted::-webkit-progress-bar {\n",
              "        background: #F44336;\n",
              "    }\n",
              "</style>\n"
            ]
          },
          "metadata": {}
        },
        {
          "output_type": "display_data",
          "data": {
            "text/plain": [
              "<IPython.core.display.HTML object>"
            ],
            "text/html": [
              "\n",
              "    <div>\n",
              "      <progress value='2000' class='' max='2000' style='width:300px; height:20px; vertical-align: middle;'></progress>\n",
              "      100.00% [2000/2000 00:01<00:00 Sampling chain 1, 0 divergences]\n",
              "    </div>\n",
              "    "
            ]
          },
          "metadata": {}
        },
        {
          "output_type": "stream",
          "name": "stderr",
          "text": [
            "Sampling 2 chains for 1_000 tune and 1_000 draw iterations (2_000 + 2_000 draws total) took 7 seconds.\n",
            "INFO:pymc:Sampling 2 chains for 1_000 tune and 1_000 draw iterations (2_000 + 2_000 draws total) took 7 seconds.\n"
          ]
        }
      ]
    },
    {
      "cell_type": "code",
      "source": [
        "pm.plot_trace(trace)"
      ],
      "metadata": {
        "colab": {
          "base_uri": "https://localhost:8080/",
          "height": 655
        },
        "id": "5XJPPzeCkDp8",
        "outputId": "9ace63f0-f696-4fe9-a63a-6c7ca3b3af86"
      },
      "execution_count": null,
      "outputs": [
        {
          "output_type": "execute_result",
          "data": {
            "text/plain": [
              "array([[<matplotlib.axes._subplots.AxesSubplot object at 0x7f1a875c8ad0>,\n",
              "        <matplotlib.axes._subplots.AxesSubplot object at 0x7f1a87560150>],\n",
              "       [<matplotlib.axes._subplots.AxesSubplot object at 0x7f1a8a83a250>,\n",
              "        <matplotlib.axes._subplots.AxesSubplot object at 0x7f1a86f2ad50>],\n",
              "       [<matplotlib.axes._subplots.AxesSubplot object at 0x7f1a86efadd0>,\n",
              "        <matplotlib.axes._subplots.AxesSubplot object at 0x7f1a86ea2150>],\n",
              "       [<matplotlib.axes._subplots.AxesSubplot object at 0x7f1a86ee9e10>,\n",
              "        <matplotlib.axes._subplots.AxesSubplot object at 0x7f1a86e0ef90>]],\n",
              "      dtype=object)"
            ]
          },
          "metadata": {},
          "execution_count": 46
        },
        {
          "output_type": "display_data",
          "data": {
            "text/plain": [
              "<Figure size 864x576 with 8 Axes>"
            ],
            "image/png": "[encoded data removed]"
          },
          "metadata": {
            "needs_background": "light"
          }
        }
      ]
    },
    {
      "cell_type": "code",
      "source": [],
      "metadata": {
        "id": "dqeBrbPHfAee"
      },
      "execution_count": null,
      "outputs": []
    },
    {
      "cell_type": "code",
      "source": [
        "samples = pm.draw(nnmodel.sq, draws=1000)\n",
        "sns.distplot(samples)"
      ],
      "metadata": {
        "colab": {
          "base_uri": "https://localhost:8080/",
          "height": 340
        },
        "id": "sVrEqGRwkmql",
        "outputId": "4cf65f14-461d-4f5a-c4ff-61e2ca32139d"
      },
      "execution_count": null,
      "outputs": [
        {
          "output_type": "stream",
          "name": "stderr",
          "text": [
            "/usr/local/lib/python3.7/dist-packages/seaborn/distributions.py:2619: FutureWarning: `distplot` is a deprecated function and will be removed in a future version. Please adapt your code to use either `displot` (a figure-level function with similar flexibility) or `histplot` (an axes-level function for histograms).\n",
            "  warnings.warn(msg, FutureWarning)\n"
          ]
        },
        {
          "output_type": "execute_result",
          "data": {
            "text/plain": [
              "<matplotlib.axes._subplots.AxesSubplot at 0x7f1a86cc9710>"
            ]
          },
          "metadata": {},
          "execution_count": 47
        },
        {
          "output_type": "display_data",
          "data": {
            "text/plain": [
              "<Figure size 432x288 with 1 Axes>"
            ],
            "image/png": "[encoded data removed]"
          },
          "metadata": {
            "needs_background": "light"
          }
        }
      ]
    },
    {
      "cell_type": "code",
      "source": [
        "pm.summary(trace)"
      ],
      "metadata": {
        "colab": {
          "base_uri": "https://localhost:8080/",
          "height": 175
        },
        "id": "VijfbUrphFrm",
        "outputId": "10685875-e939-401e-fcac-672c70646a00"
      },
      "execution_count": null,
      "outputs": [
        {
          "output_type": "execute_result",
          "data": {
            "text/plain": [
              "       mean     sd  hdi_3%  hdi_97%  mcse_mean  mcse_sd  ess_bulk  ess_tail  \\\n",
              "n1   -0.019  0.981  -1.799    1.835      0.023    0.021 1,890.000 1,511.000   \n",
              "n2   -0.008  0.505  -0.998    0.908      0.011    0.012 1,954.000 1,343.000   \n",
              "quot -0.489 14.177  -3.689    3.966      0.314    0.224 1,809.000 1,446.000   \n",
              "sq    0.962  1.368   0.000    3.339      0.042    0.029 1,112.000 1,188.000   \n",
              "\n",
              "      r_hat  \n",
              "n1    1.000  \n",
              "n2    1.000  \n",
              "quot  1.000  \n",
              "sq    1.000  "
            ],
            "text/html": [
              "\n",
              "  <div id=\"df-1ded0f20-9df8-4d3b-8c72-8624738d7e00\">\n",
              "    <div class=\"colab-df-container\">\n",
              "      <div>\n",
              "<style scoped>\n",
              "    .dataframe tbody tr th:only-of-type {\n",
              "        vertical-align: middle;\n",
              "    }\n",
              "\n",
              "    .dataframe tbody tr th {\n",
              "        vertical-align: top;\n",
              "    }\n",
              "\n",
              "    .dataframe thead th {\n",
              "        text-align: right;\n",
              "    }\n",
              "</style>\n",
              "<table border=\"1\" class=\"dataframe\">\n",
              "  <thead>\n",
              "    <tr style=\"text-align: right;\">\n",
              "      <th></th>\n",
              "      <th>mean</th>\n",
              "      <th>sd</th>\n",
              "      <th>hdi_3%</th>\n",
              "      <th>hdi_97%</th>\n",
              "      <th>mcse_mean</th>\n",
              "      <th>mcse_sd</th>\n",
              "      <th>ess_bulk</th>\n",
              "      <th>ess_tail</th>\n",
              "      <th>r_hat</th>\n",
              "    </tr>\n",
              "  </thead>\n",
              "  <tbody>\n",
              "    <tr>\n",
              "      <th>n1</th>\n",
              "      <td>-0.019</td>\n",
              "      <td>0.981</td>\n",
              "      <td>-1.799</td>\n",
              "      <td>1.835</td>\n",
              "      <td>0.023</td>\n",
              "      <td>0.021</td>\n",
              "      <td>1,890.000</td>\n",
              "      <td>1,511.000</td>\n",
              "      <td>1.000</td>\n",
              "    </tr>\n",
              "    <tr>\n",
              "      <th>n2</th>\n",
              "      <td>-0.008</td>\n",
              "      <td>0.505</td>\n",
              "      <td>-0.998</td>\n",
              "      <td>0.908</td>\n",
              "      <td>0.011</td>\n",
              "      <td>0.012</td>\n",
              "      <td>1,954.000</td>\n",
              "      <td>1,343.000</td>\n",
              "      <td>1.000</td>\n",
              "    </tr>\n",
              "    <tr>\n",
              "      <th>quot</th>\n",
              "      <td>-0.489</td>\n",
              "      <td>14.177</td>\n",
              "      <td>-3.689</td>\n",
              "      <td>3.966</td>\n",
              "      <td>0.314</td>\n",
              "      <td>0.224</td>\n",
              "      <td>1,809.000</td>\n",
              "      <td>1,446.000</td>\n",
              "      <td>1.000</td>\n",
              "    </tr>\n",
              "    <tr>\n",
              "      <th>sq</th>\n",
              "      <td>0.962</td>\n",
              "      <td>1.368</td>\n",
              "      <td>0.000</td>\n",
              "      <td>3.339</td>\n",
              "      <td>0.042</td>\n",
              "      <td>0.029</td>\n",
              "      <td>1,112.000</td>\n",
              "      <td>1,188.000</td>\n",
              "      <td>1.000</td>\n",
              "    </tr>\n",
              "  </tbody>\n",
              "</table>\n",
              "</div>\n",
              "      <button class=\"colab-df-convert\" onclick=\"convertToInteractive('df-1ded0f20-9df8-4d3b-8c72-8624738d7e00')\"\n",
              "              title=\"Convert this dataframe to an interactive table.\"\n",
              "              style=\"display:none;\">\n",
              "        \n",
              "  <svg xmlns=\"http://www.w3.org/2000/svg\" height=\"24px\"viewBox=\"0 0 24 24\"\n",
              "       width=\"24px\">\n",
              "    <path d=\"M0 0h24v24H0V0z\" fill=\"none\"/>\n",
              "    <path d=\"M18.56 5.44l.94 2.06.94-2.06 2.06-.94-2.06-.94-.94-2.06-.94 2.06-2.06.94zm-11 1L8.5 8.5l.94-2.06 2.06-.94-2.06-.94L8.5 2.5l-.94 2.06-2.06.94zm10 10l.94 2.06.94-2.06 2.06-.94-2.06-.94-.94-2.06-.94 2.06-2.06.94z\"/><path d=\"M17.41 7.96l-1.37-1.37c-.4-.4-.92-.59-1.43-.59-.52 0-1.04.2-1.43.59L10.3 9.45l-7.72 7.72c-.78.78-.78 2.05 0 2.83L4 21.41c.39.39.9.59 1.41.59.51 0 1.02-.2 1.41-.59l7.78-7.78 2.81-2.81c.8-.78.8-2.07 0-2.86zM5.41 20L4 18.59l7.72-7.72 1.47 1.35L5.41 20z\"/>\n",
              "  </svg>\n",
              "      </button>\n",
              "      \n",
              "  <style>\n",
              "    .colab-df-container {\n",
              "      display:flex;\n",
              "      flex-wrap:wrap;\n",
              "      gap: 12px;\n",
              "    }\n",
              "\n",
              "    .colab-df-convert {\n",
              "      background-color: #E8F0FE;\n",
              "      border: none;\n",
              "      border-radius: 50%;\n",
              "      cursor: pointer;\n",
              "      display: none;\n",
              "      fill: #1967D2;\n",
              "      height: 32px;\n",
              "      padding: 0 0 0 0;\n",
              "      width: 32px;\n",
              "    }\n",
              "\n",
              "    .colab-df-convert:hover {\n",
              "      background-color: #E2EBFA;\n",
              "      box-shadow: 0px 1px 2px rgba(60, 64, 67, 0.3), 0px 1px 3px 1px rgba(60, 64, 67, 0.15);\n",
              "      fill: #174EA6;\n",
              "    }\n",
              "\n",
              "    [theme=dark] .colab-df-convert {\n",
              "      background-color: #3B4455;\n",
              "      fill: #D2E3FC;\n",
              "    }\n",
              "\n",
              "    [theme=dark] .colab-df-convert:hover {\n",
              "      background-color: #434B5C;\n",
              "      box-shadow: 0px 1px 3px 1px rgba(0, 0, 0, 0.15);\n",
              "      filter: drop-shadow(0px 1px 2px rgba(0, 0, 0, 0.3));\n",
              "      fill: #FFFFFF;\n",
              "    }\n",
              "  </style>\n",
              "\n",
              "      <script>\n",
              "        const buttonEl =\n",
              "          document.querySelector('#df-1ded0f20-9df8-4d3b-8c72-8624738d7e00 button.colab-df-convert');\n",
              "        buttonEl.style.display =\n",
              "          google.colab.kernel.accessAllowed ? 'block' : 'none';\n",
              "\n",
              "        async function convertToInteractive(key) {\n",
              "          const element = document.querySelector('#df-1ded0f20-9df8-4d3b-8c72-8624738d7e00');\n",
              "          const dataTable =\n",
              "            await google.colab.kernel.invokeFunction('convertToInteractive',\n",
              "                                                     [key], {});\n",
              "          if (!dataTable) return;\n",
              "\n",
              "          const docLinkHtml = 'Like what you see? Visit the ' +\n",
              "            '<a target=\"_blank\" href=https://colab.research.google.com/notebooks/data_table.ipynb>data table notebook</a>'\n",
              "            + ' to learn more about interactive tables.';\n",
              "          element.innerHTML = '';\n",
              "          dataTable['output_type'] = 'display_data';\n",
              "          await google.colab.output.renderOutput(dataTable, element);\n",
              "          const docLink = document.createElement('div');\n",
              "          docLink.innerHTML = docLinkHtml;\n",
              "          element.appendChild(docLink);\n",
              "        }\n",
              "      </script>\n",
              "    </div>\n",
              "  </div>\n",
              "  "
            ]
          },
          "metadata": {},
          "execution_count": 48
        }
      ]
    },
    {
      "cell_type": "code",
      "source": [],
      "metadata": {
        "id": "Us3Sm1Ksl11J"
      },
      "execution_count": null,
      "outputs": []
    },
    {
      "cell_type": "code",
      "source": [],
      "metadata": {
        "id": "98HPF5b1l14n"
      },
      "execution_count": null,
      "outputs": []
    },
    {
      "cell_type": "code",
      "source": [],
      "metadata": {
        "id": "wYpOXE-6l1_Z"
      },
      "execution_count": null,
      "outputs": []
    },
    {
      "cell_type": "code",
      "source": [],
      "metadata": {
        "id": "VFWKOFDQl2CM"
      },
      "execution_count": null,
      "outputs": []
    },
    {
      "cell_type": "code",
      "source": [],
      "metadata": {
        "id": "xyXYjhPgl2EX"
      },
      "execution_count": null,
      "outputs": []
    },
    {
      "cell_type": "code",
      "source": [],
      "metadata": {
        "id": "_7vpFubMl2Hu"
      },
      "execution_count": null,
      "outputs": []
    },
    {
      "cell_type": "code",
      "source": [],
      "metadata": {
        "id": "WYPud11xl2K3"
      },
      "execution_count": null,
      "outputs": []
    },
    {
      "cell_type": "code",
      "source": [],
      "metadata": {
        "id": "ZWuxIenMl2UT"
      },
      "execution_count": null,
      "outputs": []
    },
    {
      "cell_type": "code",
      "source": [],
      "metadata": {
        "id": "wFHpn460l2ew"
      },
      "execution_count": null,
      "outputs": []
    },
    {
      "cell_type": "code",
      "source": [
        "with pm.Model():\n",
        "  nn = pm.Normal('x',mu=0, sigma=1)"
      ],
      "metadata": {
        "id": "v4DV_sJghIo1"
      },
      "execution_count": null,
      "outputs": []
    },
    {
      "cell_type": "code",
      "source": [
        "nn.eval()"
      ],
      "metadata": {
        "colab": {
          "base_uri": "https://localhost:8080/"
        },
        "id": "F11zDs5QhUJG",
        "outputId": "06939ebc-5b71-4ab6-add8-e10d07ff51a0"
      },
      "execution_count": null,
      "outputs": [
        {
          "output_type": "execute_result",
          "data": {
            "text/plain": [
              "array(-1.34162535)"
            ]
          },
          "metadata": {},
          "execution_count": 8
        }
      ]
    },
    {
      "cell_type": "code",
      "source": [
        "import aesara.tensor as at\n",
        "ss = [at.clip(nn,0,np.inf).eval() for _ in range(1000)]\n",
        "sns.distplot(np.asarray(ss))"
      ],
      "metadata": {
        "colab": {
          "base_uri": "https://localhost:8080/",
          "height": 375
        },
        "id": "QGrDd_hheQMO",
        "outputId": "3360b77e-fd93-46e4-88fb-37056bbb1066"
      },
      "execution_count": null,
      "outputs": [
        {
          "output_type": "stream",
          "name": "stderr",
          "text": [
            "/usr/local/lib/python3.7/dist-packages/seaborn/distributions.py:2619: FutureWarning: `distplot` is a deprecated function and will be removed in a future version. Please adapt your code to use either `displot` (a figure-level function with similar flexibility) or `histplot` (an axes-level function for histograms).\n",
            "  warnings.warn(msg, FutureWarning)\n",
            "/usr/local/lib/python3.7/dist-packages/seaborn/distributions.py:316: UserWarning: Dataset has 0 variance; skipping density estimate. Pass `warn_singular=False` to disable this warning.\n",
            "  warnings.warn(msg, UserWarning)\n"
          ]
        },
        {
          "output_type": "execute_result",
          "data": {
            "text/plain": [
              "<matplotlib.axes._subplots.AxesSubplot at 0x7f1fc9c5ae90>"
            ]
          },
          "metadata": {},
          "execution_count": 9
        },
        {
          "output_type": "display_data",
          "data": {
            "text/plain": [
              "<Figure size 432x288 with 1 Axes>"
            ],
            "image/png": "[encoded data removed]"
          },
          "metadata": {}
        }
      ]
    },
    {
      "cell_type": "code",
      "source": [
        "pm.logp(n,4).eval()"
      ],
      "metadata": {
        "colab": {
          "base_uri": "https://localhost:8080/"
        },
        "id": "LPij_-H_R-kh",
        "outputId": "d4137cd7-69b3-4a4f-85f2-e41030328751"
      },
      "execution_count": null,
      "outputs": [
        {
          "output_type": "execute_result",
          "data": {
            "text/plain": [
              "array(-8.91893853)"
            ]
          },
          "metadata": {},
          "execution_count": 35
        }
      ]
    },
    {
      "cell_type": "code",
      "source": [
        "pm.draw(n, draws=10)"
      ],
      "metadata": {
        "colab": {
          "base_uri": "https://localhost:8080/"
        },
        "id": "qxwsMIqTeLzw",
        "outputId": "e307c51f-9ee6-4061-9e96-57c58ed1982d"
      },
      "execution_count": null,
      "outputs": [
        {
          "output_type": "execute_result",
          "data": {
            "text/plain": [
              "array([ 0.29862221,  0.22625645, -1.24188568, -1.16451608,  0.42023464,\n",
              "       -0.65957527, -1.42638634, -3.06755187,  0.73050851,  0.02138875])"
            ]
          },
          "metadata": {},
          "execution_count": 38
        }
      ]
    },
    {
      "cell_type": "code",
      "source": [],
      "metadata": {
        "colab": {
          "base_uri": "https://localhost:8080/"
        },
        "id": "wO2sxwFEh4wj",
        "outputId": "12b192e5-4fdc-4f31-d3c5-29a05e9ae660"
      },
      "execution_count": null,
      "outputs": [
        {
          "output_type": "stream",
          "name": "stdout",
          "text": [
            "Value of z = [-1.95062383 -0.78221638 -1.75114165]\n",
            "Value of z = [-1.95062383 -0.78221638 -1.75114165]\n",
            "Value of z = [-1.95062383 -0.78221638 -1.75114165]\n",
            "Value of z = [-1.95062383 -0.78221638 -1.75114165]\n",
            "Value of z = [-1.95062383 -0.78221638 -1.75114165]\n"
          ]
        }
      ]
    },
    {
      "cell_type": "code",
      "source": [],
      "metadata": {
        "id": "BRXHz7PFoL6T"
      },
      "execution_count": null,
      "outputs": []
    },
    {
      "cell_type": "code",
      "source": [
        "%env MKL_THREADING_LAYER=GNU\n",
        "RANDOM_SEED = 8927\n",
        "rng = np.random.default_rng(RANDOM_SEED)\n",
        "import pymc3 as pm3"
      ],
      "metadata": {
        "colab": {
          "base_uri": "https://localhost:8080/"
        },
        "id": "bOPM_StnoMC9",
        "outputId": "ee6b9982-7ec6-45bc-cc3d-511a34212e36"
      },
      "execution_count": null,
      "outputs": [
        {
          "output_type": "stream",
          "name": "stdout",
          "text": [
            "env: MKL_THREADING_LAYER=GNU\n"
          ]
        }
      ]
    },
    {
      "cell_type": "code",
      "source": [
        "n = pm3.Normal.dist(mu=0, sigma=0.5)"
      ],
      "metadata": {
        "id": "sKQzt1Hlh40s"
      },
      "execution_count": null,
      "outputs": []
    },
    {
      "cell_type": "code",
      "source": [
        "n.random(size=[10,1])"
      ],
      "metadata": {
        "colab": {
          "base_uri": "https://localhost:8080/"
        },
        "id": "BDzyfCznjaoG",
        "outputId": "1f9f2a4c-f8c0-4627-c87f-f4c3132e351e"
      },
      "execution_count": null,
      "outputs": [
        {
          "output_type": "execute_result",
          "data": {
            "text/plain": [
              "array([[ 0.24452977],\n",
              "       [ 0.40180255],\n",
              "       [-0.22303993],\n",
              "       [-0.47563036],\n",
              "       [-0.46105032],\n",
              "       [ 0.6189624 ],\n",
              "       [-0.63817855],\n",
              "       [-0.07051711],\n",
              "       [-0.12005459],\n",
              "       [-0.10143964]])"
            ]
          },
          "metadata": {},
          "execution_count": 17
        }
      ]
    },
    {
      "cell_type": "code",
      "source": [
        "with pm3.Model() as nnmodel:\n",
        "  n1 =  pm3.Normal('n1',mu=0, sd = 1)\n",
        "  n2 =  pm3.Normal('n2',mu=0, sd = 0.5)\n",
        "  ss =  pm3.Deterministic('sum',n1 + n2)\n",
        "  ssn = n1 + n2\n",
        "  trace = pm3.sample(10)"
      ],
      "metadata": {
        "colab": {
          "base_uri": "https://localhost:8080/",
          "height": 649
        },
        "id": "7_r4cLVwjoC2",
        "outputId": "992cf11a-69e4-49df-fafe-4ad2f4c7f90d"
      },
      "execution_count": null,
      "outputs": [
        {
          "output_type": "stream",
          "name": "stderr",
          "text": [
            "/usr/local/lib/python3.7/dist-packages/deprecat/classic.py:215: FutureWarning: In v4.0, pm.sample will return an `arviz.InferenceData` object instead of a `MultiTrace` by default. You can pass return_inferencedata=True or return_inferencedata=False to be safe and silence this warning.\n",
            "  return wrapped_(*args_, **kwargs_)\n",
            "Only 10 samples in chain.\n",
            "WARNING:pymc3:Only 10 samples in chain.\n",
            "Auto-assigning NUTS sampler...\n",
            "INFO:pymc3:Auto-assigning NUTS sampler...\n",
            "Initializing NUTS using jitter+adapt_diag...\n",
            "INFO:pymc3:Initializing NUTS using jitter+adapt_diag...\n",
            "Sequential sampling (2 chains in 1 job)\n",
            "INFO:pymc3:Sequential sampling (2 chains in 1 job)\n",
            "NUTS: [n2, n1]\n",
            "INFO:pymc3:NUTS: [n2, n1]\n"
          ]
        },
        {
          "output_type": "display_data",
          "data": {
            "text/plain": [
              "<IPython.core.display.HTML object>"
            ],
            "text/html": [
              "\n",
              "<style>\n",
              "    /* Turns off some styling */\n",
              "    progress {\n",
              "        /* gets rid of default border in Firefox and Opera. */\n",
              "        border: none;\n",
              "        /* Needs to be in here for Safari polyfill so background images work as expected. */\n",
              "        background-size: auto;\n",
              "    }\n",
              "    .progress-bar-interrupted, .progress-bar-interrupted::-webkit-progress-bar {\n",
              "        background: #F44336;\n",
              "    }\n",
              "</style>\n"
            ]
          },
          "metadata": {}
        },
        {
          "output_type": "display_data",
          "data": {
            "text/plain": [
              "<IPython.core.display.HTML object>"
            ],
            "text/html": [
              "\n",
              "    <div>\n",
              "      <progress value='1010' class='' max='1010' style='width:300px; height:20px; vertical-align: middle;'></progress>\n",
              "      100.00% [1010/1010 00:01<00:00 Sampling chain 0, 0 divergences]\n",
              "    </div>\n",
              "    "
            ]
          },
          "metadata": {}
        },
        {
          "output_type": "display_data",
          "data": {
            "text/plain": [
              "<IPython.core.display.HTML object>"
            ],
            "text/html": [
              "\n",
              "<style>\n",
              "    /* Turns off some styling */\n",
              "    progress {\n",
              "        /* gets rid of default border in Firefox and Opera. */\n",
              "        border: none;\n",
              "        /* Needs to be in here for Safari polyfill so background images work as expected. */\n",
              "        background-size: auto;\n",
              "    }\n",
              "    .progress-bar-interrupted, .progress-bar-interrupted::-webkit-progress-bar {\n",
              "        background: #F44336;\n",
              "    }\n",
              "</style>\n"
            ]
          },
          "metadata": {}
        },
        {
          "output_type": "display_data",
          "data": {
            "text/plain": [
              "<IPython.core.display.HTML object>"
            ],
            "text/html": [
              "\n",
              "    <div>\n",
              "      <progress value='1010' class='' max='1010' style='width:300px; height:20px; vertical-align: middle;'></progress>\n",
              "      100.00% [1010/1010 00:00<00:00 Sampling chain 1, 0 divergences]\n",
              "    </div>\n",
              "    "
            ]
          },
          "metadata": {}
        },
        {
          "output_type": "stream",
          "name": "stderr",
          "text": [
            "Sampling 2 chains for 1_000 tune and 10 draw iterations (2_000 + 20 draws total) took 2 seconds.\n",
            "INFO:pymc3:Sampling 2 chains for 1_000 tune and 10 draw iterations (2_000 + 20 draws total) took 2 seconds.\n"
          ]
        },
        {
          "output_type": "error",
          "ename": "ValueError",
          "evalue": "ignored",
          "traceback": [
            "\u001b[0;31m---------------------------------------------------------------------------\u001b[0m",
            "\u001b[0;31mValueError\u001b[0m                                Traceback (most recent call last)",
            "\u001b[0;32m<ipython-input-9-07a2aa05a6ed>\u001b[0m in \u001b[0;36m<module>\u001b[0;34m()\u001b[0m\n\u001b[1;32m      4\u001b[0m   \u001b[0mss\u001b[0m \u001b[0;34m=\u001b[0m  \u001b[0mpm3\u001b[0m\u001b[0;34m.\u001b[0m\u001b[0mDeterministic\u001b[0m\u001b[0;34m(\u001b[0m\u001b[0;34m'sum'\u001b[0m\u001b[0;34m,\u001b[0m\u001b[0mn1\u001b[0m \u001b[0;34m+\u001b[0m \u001b[0mn2\u001b[0m\u001b[0;34m)\u001b[0m\u001b[0;34m\u001b[0m\u001b[0;34m\u001b[0m\u001b[0m\n\u001b[1;32m      5\u001b[0m   \u001b[0mssn\u001b[0m \u001b[0;34m=\u001b[0m \u001b[0mn1\u001b[0m \u001b[0;34m+\u001b[0m \u001b[0mn2\u001b[0m\u001b[0;34m\u001b[0m\u001b[0;34m\u001b[0m\u001b[0m\n\u001b[0;32m----> 6\u001b[0;31m   \u001b[0mtrace\u001b[0m \u001b[0;34m=\u001b[0m \u001b[0mpm3\u001b[0m\u001b[0;34m.\u001b[0m\u001b[0msample\u001b[0m\u001b[0;34m(\u001b[0m\u001b[0;36m10\u001b[0m\u001b[0;34m)\u001b[0m\u001b[0;34m\u001b[0m\u001b[0;34m\u001b[0m\u001b[0m\n\u001b[0m",
            "\u001b[0;32m/usr/local/lib/python3.7/dist-packages/deprecat/classic.py\u001b[0m in \u001b[0;36mwrapper_function\u001b[0;34m(wrapped_, instance_, args_, kwargs_)\u001b[0m\n\u001b[1;32m    213\u001b[0m                         \u001b[0;32melse\u001b[0m\u001b[0;34m:\u001b[0m\u001b[0;34m\u001b[0m\u001b[0;34m\u001b[0m\u001b[0m\n\u001b[1;32m    214\u001b[0m                             \u001b[0mwarnings\u001b[0m\u001b[0;34m.\u001b[0m\u001b[0mwarn\u001b[0m\u001b[0;34m(\u001b[0m\u001b[0mmessage\u001b[0m\u001b[0;34m,\u001b[0m \u001b[0mcategory\u001b[0m\u001b[0;34m=\u001b[0m\u001b[0mcategory\u001b[0m\u001b[0;34m,\u001b[0m \u001b[0mstacklevel\u001b[0m\u001b[0;34m=\u001b[0m\u001b[0m_routine_stacklevel\u001b[0m\u001b[0;34m)\u001b[0m\u001b[0;34m\u001b[0m\u001b[0;34m\u001b[0m\u001b[0m\n\u001b[0;32m--> 215\u001b[0;31m                 \u001b[0;32mreturn\u001b[0m \u001b[0mwrapped_\u001b[0m\u001b[0;34m(\u001b[0m\u001b[0;34m*\u001b[0m\u001b[0margs_\u001b[0m\u001b[0;34m,\u001b[0m \u001b[0;34m**\u001b[0m\u001b[0mkwargs_\u001b[0m\u001b[0;34m)\u001b[0m\u001b[0;34m\u001b[0m\u001b[0;34m\u001b[0m\u001b[0m\n\u001b[0m\u001b[1;32m    216\u001b[0m \u001b[0;34m\u001b[0m\u001b[0m\n\u001b[1;32m    217\u001b[0m             \u001b[0;32mreturn\u001b[0m \u001b[0mwrapper_function\u001b[0m\u001b[0;34m(\u001b[0m\u001b[0mwrapped\u001b[0m\u001b[0;34m)\u001b[0m\u001b[0;34m\u001b[0m\u001b[0;34m\u001b[0m\u001b[0m\n",
            "\u001b[0;32m/usr/local/lib/python3.7/dist-packages/pymc3/sampling.py\u001b[0m in \u001b[0;36msample\u001b[0;34m(draws, step, init, n_init, initvals, trace, chain_idx, chains, cores, tune, progressbar, model, random_seed, discard_tuned_samples, compute_convergence_checks, callback, jitter_max_retries, start, return_inferencedata, idata_kwargs, mp_ctx, pickle_backend, **kwargs)\u001b[0m\n\u001b[1;32m    653\u001b[0m         \u001b[0;32mif\u001b[0m \u001b[0midata_kwargs\u001b[0m\u001b[0;34m:\u001b[0m\u001b[0;34m\u001b[0m\u001b[0;34m\u001b[0m\u001b[0m\n\u001b[1;32m    654\u001b[0m             \u001b[0mikwargs\u001b[0m\u001b[0;34m.\u001b[0m\u001b[0mupdate\u001b[0m\u001b[0;34m(\u001b[0m\u001b[0midata_kwargs\u001b[0m\u001b[0;34m)\u001b[0m\u001b[0;34m\u001b[0m\u001b[0;34m\u001b[0m\u001b[0m\n\u001b[0;32m--> 655\u001b[0;31m         \u001b[0midata\u001b[0m \u001b[0;34m=\u001b[0m \u001b[0marviz\u001b[0m\u001b[0;34m.\u001b[0m\u001b[0mfrom_pymc3\u001b[0m\u001b[0;34m(\u001b[0m\u001b[0mtrace\u001b[0m\u001b[0;34m,\u001b[0m \u001b[0;34m**\u001b[0m\u001b[0mikwargs\u001b[0m\u001b[0;34m)\u001b[0m\u001b[0;34m\u001b[0m\u001b[0;34m\u001b[0m\u001b[0m\n\u001b[0m\u001b[1;32m    656\u001b[0m \u001b[0;34m\u001b[0m\u001b[0m\n\u001b[1;32m    657\u001b[0m     \u001b[0;32mif\u001b[0m \u001b[0mcompute_convergence_checks\u001b[0m\u001b[0;34m:\u001b[0m\u001b[0;34m\u001b[0m\u001b[0;34m\u001b[0m\u001b[0m\n",
            "\u001b[0;32m/usr/local/lib/python3.7/dist-packages/arviz/data/io_pymc3_3x.py\u001b[0m in \u001b[0;36mfrom_pymc3\u001b[0;34m(trace, prior, posterior_predictive, log_likelihood, coords, dims, model, save_warmup, density_dist_obs)\u001b[0m\n\u001b[1;32m    587\u001b[0m         \u001b[0mmodel\u001b[0m\u001b[0;34m=\u001b[0m\u001b[0mmodel\u001b[0m\u001b[0;34m,\u001b[0m\u001b[0;34m\u001b[0m\u001b[0;34m\u001b[0m\u001b[0m\n\u001b[1;32m    588\u001b[0m         \u001b[0msave_warmup\u001b[0m\u001b[0;34m=\u001b[0m\u001b[0msave_warmup\u001b[0m\u001b[0;34m,\u001b[0m\u001b[0;34m\u001b[0m\u001b[0;34m\u001b[0m\u001b[0m\n\u001b[0;32m--> 589\u001b[0;31m         \u001b[0mdensity_dist_obs\u001b[0m\u001b[0;34m=\u001b[0m\u001b[0mdensity_dist_obs\u001b[0m\u001b[0;34m,\u001b[0m\u001b[0;34m\u001b[0m\u001b[0;34m\u001b[0m\u001b[0m\n\u001b[0m\u001b[1;32m    590\u001b[0m     ).to_inference_data()\n\u001b[1;32m    591\u001b[0m \u001b[0;34m\u001b[0m\u001b[0m\n",
            "\u001b[0;32m/usr/local/lib/python3.7/dist-packages/arviz/data/io_pymc3_3x.py\u001b[0m in \u001b[0;36m__init__\u001b[0;34m(self, trace, prior, posterior_predictive, log_likelihood, predictions, coords, dims, model, save_warmup, density_dist_obs)\u001b[0m\n\u001b[1;32m     76\u001b[0m \u001b[0;34m\u001b[0m\u001b[0m\n\u001b[1;32m     77\u001b[0m         \u001b[0;32mtry\u001b[0m\u001b[0;34m:\u001b[0m\u001b[0;34m\u001b[0m\u001b[0;34m\u001b[0m\u001b[0m\n\u001b[0;32m---> 78\u001b[0;31m             \u001b[0;32mimport\u001b[0m \u001b[0maesara\u001b[0m  \u001b[0;31m# pylint: disable=redefined-outer-name\u001b[0m\u001b[0;34m\u001b[0m\u001b[0;34m\u001b[0m\u001b[0m\n\u001b[0m\u001b[1;32m     79\u001b[0m         \u001b[0;32mexcept\u001b[0m \u001b[0mImportError\u001b[0m\u001b[0;34m:\u001b[0m\u001b[0;34m\u001b[0m\u001b[0;34m\u001b[0m\u001b[0m\n\u001b[1;32m     80\u001b[0m             \u001b[0;32mimport\u001b[0m \u001b[0mtheano\u001b[0m \u001b[0;32mas\u001b[0m \u001b[0maesara\u001b[0m\u001b[0;34m\u001b[0m\u001b[0;34m\u001b[0m\u001b[0m\n",
            "\u001b[0;32m/usr/local/lib/python3.7/dist-packages/aesara/__init__.py\u001b[0m in \u001b[0;36m<module>\u001b[0;34m()\u001b[0m\n\u001b[1;32m    124\u001b[0m \u001b[0;34m\u001b[0m\u001b[0m\n\u001b[1;32m    125\u001b[0m \u001b[0;31m# isort: off\u001b[0m\u001b[0;34m\u001b[0m\u001b[0;34m\u001b[0m\u001b[0;34m\u001b[0m\u001b[0m\n\u001b[0;32m--> 126\u001b[0;31m \u001b[0;32mfrom\u001b[0m \u001b[0maesara\u001b[0m \u001b[0;32mimport\u001b[0m \u001b[0mscalar\u001b[0m\u001b[0;34m,\u001b[0m \u001b[0mtensor\u001b[0m\u001b[0;34m\u001b[0m\u001b[0;34m\u001b[0m\u001b[0m\n\u001b[0m\u001b[1;32m    127\u001b[0m from aesara.compile import (\n\u001b[1;32m    128\u001b[0m     \u001b[0mIn\u001b[0m\u001b[0;34m,\u001b[0m\u001b[0;34m\u001b[0m\u001b[0;34m\u001b[0m\u001b[0m\n",
            "\u001b[0;32m/usr/local/lib/python3.7/dist-packages/aesara/tensor/__init__.py\u001b[0m in \u001b[0;36m<module>\u001b[0;34m()\u001b[0m\n\u001b[1;32m     96\u001b[0m \u001b[0;31m# adds shared-variable constructors\u001b[0m\u001b[0;34m\u001b[0m\u001b[0;34m\u001b[0m\u001b[0;34m\u001b[0m\u001b[0m\n\u001b[1;32m     97\u001b[0m \u001b[0;32mfrom\u001b[0m \u001b[0maesara\u001b[0m\u001b[0;34m.\u001b[0m\u001b[0mtensor\u001b[0m \u001b[0;32mimport\u001b[0m \u001b[0msharedvar\u001b[0m  \u001b[0;31m# noqa\u001b[0m\u001b[0;34m\u001b[0m\u001b[0;34m\u001b[0m\u001b[0m\n\u001b[0;32m---> 98\u001b[0;31m from aesara.tensor import (  # noqa\n\u001b[0m\u001b[1;32m     99\u001b[0m     \u001b[0mbasic_opt\u001b[0m\u001b[0;34m,\u001b[0m\u001b[0;34m\u001b[0m\u001b[0;34m\u001b[0m\u001b[0m\n\u001b[1;32m    100\u001b[0m     \u001b[0mblas\u001b[0m\u001b[0;34m,\u001b[0m\u001b[0;34m\u001b[0m\u001b[0;34m\u001b[0m\u001b[0m\n",
            "\u001b[0;32m/usr/local/lib/python3.7/dist-packages/aesara/tensor/nnet/__init__.py\u001b[0m in \u001b[0;36m<module>\u001b[0;34m()\u001b[0m\n\u001b[1;32m      1\u001b[0m \u001b[0;32mimport\u001b[0m \u001b[0mwarnings\u001b[0m\u001b[0;34m\u001b[0m\u001b[0;34m\u001b[0m\u001b[0m\n\u001b[1;32m      2\u001b[0m \u001b[0;34m\u001b[0m\u001b[0m\n\u001b[0;32m----> 3\u001b[0;31m \u001b[0;32mimport\u001b[0m \u001b[0maesara\u001b[0m\u001b[0;34m.\u001b[0m\u001b[0mtensor\u001b[0m\u001b[0;34m.\u001b[0m\u001b[0mnnet\u001b[0m\u001b[0;34m.\u001b[0m\u001b[0mopt\u001b[0m\u001b[0;34m\u001b[0m\u001b[0;34m\u001b[0m\u001b[0m\n\u001b[0m\u001b[1;32m      4\u001b[0m from aesara.tensor.nnet.abstract_conv import (\n\u001b[1;32m      5\u001b[0m     \u001b[0mabstract_conv2d\u001b[0m\u001b[0;34m,\u001b[0m\u001b[0;34m\u001b[0m\u001b[0;34m\u001b[0m\u001b[0m\n",
            "\u001b[0;32m/usr/local/lib/python3.7/dist-packages/aesara/tensor/nnet/opt.py\u001b[0m in \u001b[0;36m<module>\u001b[0;34m()\u001b[0m\n\u001b[1;32m     57\u001b[0m     \u001b[0;34m\"fast_run\"\u001b[0m\u001b[0;34m,\u001b[0m\u001b[0;34m\u001b[0m\u001b[0;34m\u001b[0m\u001b[0m\n\u001b[1;32m     58\u001b[0m     \u001b[0;34m\"inplace\"\u001b[0m\u001b[0;34m,\u001b[0m\u001b[0;34m\u001b[0m\u001b[0;34m\u001b[0m\u001b[0m\n\u001b[0;32m---> 59\u001b[0;31m     \u001b[0mposition\u001b[0m\u001b[0;34m=\u001b[0m\u001b[0;36m60\u001b[0m\u001b[0;34m,\u001b[0m\u001b[0;34m\u001b[0m\u001b[0;34m\u001b[0m\u001b[0m\n\u001b[0m\u001b[1;32m     60\u001b[0m )  # DEBUG\n\u001b[1;32m     61\u001b[0m \u001b[0;34m\u001b[0m\u001b[0m\n",
            "\u001b[0;32m/usr/local/lib/python3.7/dist-packages/aesara/graph/optdb.py\u001b[0m in \u001b[0;36mregister\u001b[0;34m(self, name, obj, *tags, **kwargs)\u001b[0m\n\u001b[1;32m    398\u001b[0m \u001b[0;34m\u001b[0m\u001b[0m\n\u001b[1;32m    399\u001b[0m     \u001b[0;32mdef\u001b[0m \u001b[0mregister\u001b[0m\u001b[0;34m(\u001b[0m\u001b[0mself\u001b[0m\u001b[0;34m,\u001b[0m \u001b[0mname\u001b[0m\u001b[0;34m,\u001b[0m \u001b[0mobj\u001b[0m\u001b[0;34m,\u001b[0m \u001b[0;34m*\u001b[0m\u001b[0mtags\u001b[0m\u001b[0;34m,\u001b[0m \u001b[0;34m**\u001b[0m\u001b[0mkwargs\u001b[0m\u001b[0;34m)\u001b[0m\u001b[0;34m:\u001b[0m\u001b[0;34m\u001b[0m\u001b[0;34m\u001b[0m\u001b[0m\n\u001b[0;32m--> 400\u001b[0;31m         \u001b[0msuper\u001b[0m\u001b[0;34m(\u001b[0m\u001b[0;34m)\u001b[0m\u001b[0;34m.\u001b[0m\u001b[0mregister\u001b[0m\u001b[0;34m(\u001b[0m\u001b[0mname\u001b[0m\u001b[0;34m,\u001b[0m \u001b[0mobj\u001b[0m\u001b[0;34m,\u001b[0m \u001b[0;34m*\u001b[0m\u001b[0mtags\u001b[0m\u001b[0;34m,\u001b[0m \u001b[0;34m**\u001b[0m\u001b[0mkwargs\u001b[0m\u001b[0;34m)\u001b[0m\u001b[0;34m\u001b[0m\u001b[0;34m\u001b[0m\u001b[0m\n\u001b[0m\u001b[1;32m    401\u001b[0m         \u001b[0mposition\u001b[0m \u001b[0;34m=\u001b[0m \u001b[0mkwargs\u001b[0m\u001b[0;34m.\u001b[0m\u001b[0mpop\u001b[0m\u001b[0;34m(\u001b[0m\u001b[0;34m\"position\"\u001b[0m\u001b[0;34m,\u001b[0m \u001b[0;34m\"last\"\u001b[0m\u001b[0;34m)\u001b[0m\u001b[0;34m\u001b[0m\u001b[0;34m\u001b[0m\u001b[0m\n\u001b[1;32m    402\u001b[0m         \u001b[0;32mif\u001b[0m \u001b[0mposition\u001b[0m \u001b[0;34m==\u001b[0m \u001b[0;34m\"last\"\u001b[0m\u001b[0;34m:\u001b[0m\u001b[0;34m\u001b[0m\u001b[0;34m\u001b[0m\u001b[0m\n",
            "\u001b[0;32m/usr/local/lib/python3.7/dist-packages/aesara/graph/optdb.py\u001b[0m in \u001b[0;36mregister\u001b[0;34m(self, name, optimizer, use_db_name_as_tag, *tags, **kwargs)\u001b[0m\n\u001b[1;32m     69\u001b[0m \u001b[0;34m\u001b[0m\u001b[0m\n\u001b[1;32m     70\u001b[0m         \u001b[0;32mif\u001b[0m \u001b[0mname\u001b[0m \u001b[0;32min\u001b[0m \u001b[0mself\u001b[0m\u001b[0;34m.\u001b[0m\u001b[0m__db__\u001b[0m\u001b[0;34m:\u001b[0m\u001b[0;34m\u001b[0m\u001b[0;34m\u001b[0m\u001b[0m\n\u001b[0;32m---> 71\u001b[0;31m             \u001b[0;32mraise\u001b[0m \u001b[0mValueError\u001b[0m\u001b[0;34m(\u001b[0m\u001b[0;34mf\"The tag '{name}' is already present in the database.\"\u001b[0m\u001b[0;34m)\u001b[0m\u001b[0;34m\u001b[0m\u001b[0;34m\u001b[0m\u001b[0m\n\u001b[0m\u001b[1;32m     72\u001b[0m \u001b[0;34m\u001b[0m\u001b[0m\n\u001b[1;32m     73\u001b[0m         \u001b[0;32mif\u001b[0m \u001b[0muse_db_name_as_tag\u001b[0m\u001b[0;34m:\u001b[0m\u001b[0;34m\u001b[0m\u001b[0;34m\u001b[0m\u001b[0m\n",
            "\u001b[0;31mValueError\u001b[0m: The tag 'local_inplace_sparse_block_gemv' is already present in the database."
          ]
        }
      ]
    },
    {
      "cell_type": "code",
      "source": [],
      "metadata": {
        "colab": {
          "base_uri": "https://localhost:8080/",
          "height": 166
        },
        "id": "A3kbnRIqlJqp",
        "outputId": "ff5f6622-aab3-4401-d198-07093925ddf3"
      },
      "execution_count": null,
      "outputs": [
        {
          "output_type": "error",
          "ename": "AttributeError",
          "evalue": "ignored",
          "traceback": [
            "\u001b[0;31m---------------------------------------------------------------------------\u001b[0m",
            "\u001b[0;31mAttributeError\u001b[0m                            Traceback (most recent call last)",
            "\u001b[0;32m<ipython-input-30-bbf2871deeef>\u001b[0m in \u001b[0;36m<module>\u001b[0;34m()\u001b[0m\n\u001b[0;32m----> 1\u001b[0;31m \u001b[0mssn\u001b[0m\u001b[0;34m.\u001b[0m\u001b[0mrandom\u001b[0m\u001b[0;34m(\u001b[0m\u001b[0;34m)\u001b[0m\u001b[0;34m\u001b[0m\u001b[0;34m\u001b[0m\u001b[0m\n\u001b[0m",
            "\u001b[0;31mAttributeError\u001b[0m: 'TensorVariable' object has no attribute 'random'"
          ]
        }
      ]
    },
    {
      "cell_type": "code",
      "source": [
        "sn = n + n2"
      ],
      "metadata": {
        "colab": {
          "base_uri": "https://localhost:8080/",
          "height": 166
        },
        "id": "tQGqrdjJjoHX",
        "outputId": "88ea9eed-301c-4d97-9e32-ea7a798004b1"
      },
      "execution_count": null,
      "outputs": [
        {
          "output_type": "error",
          "ename": "TypeError",
          "evalue": "ignored",
          "traceback": [
            "\u001b[0;31m---------------------------------------------------------------------------\u001b[0m",
            "\u001b[0;31mTypeError\u001b[0m                                 Traceback (most recent call last)",
            "\u001b[0;32m<ipython-input-19-d82c503cd1f4>\u001b[0m in \u001b[0;36m<module>\u001b[0;34m()\u001b[0m\n\u001b[0;32m----> 1\u001b[0;31m \u001b[0msn\u001b[0m \u001b[0;34m=\u001b[0m \u001b[0mn\u001b[0m \u001b[0;34m+\u001b[0m \u001b[0mn2\u001b[0m\u001b[0;34m\u001b[0m\u001b[0;34m\u001b[0m\u001b[0m\n\u001b[0m",
            "\u001b[0;31mTypeError\u001b[0m: unsupported operand type(s) for +: 'Normal' and 'Normal'"
          ]
        }
      ]
    },
    {
      "cell_type": "markdown",
      "source": [
        "### Example - Distribution of Sum of n Dice\n",
        "Let $X_n$ be the sum of $n$ six-faced symmetric dice rolls. If $f_{X_n}$ is the PMF of $X_n$ we use the recursion relation:\n",
        "\n",
        "$f_{X_n}(x) = \\frac{1}{6}\\sum_{k=1}^{6}f_{X_{n-1}}(x-k)$\n",
        "\n",
        "where $f_{X_n}(x) = 0$ for $x < n$ and $x > 6n$."
      ],
      "metadata": {
        "id": "AxWzbk-OPN3p"
      }
    },
    {
      "cell_type": "code",
      "source": [
        "from functools import lru_cache\n",
        "@lru_cache(maxsize = 100)\n",
        "def f_DiceSum(n, x):\n",
        "\n",
        "  if x < n or x > 6*n:\n",
        "    return 0\n",
        "  if n == 1:\n",
        "    return 1./6\n",
        "  return (1./6)*sum([f_DiceSum(n-1,x-k) for k in range(1,7)])"
      ],
      "metadata": {
        "id": "S2M133HdPQhQ"
      },
      "execution_count": null,
      "outputs": []
    },
    {
      "cell_type": "code",
      "source": [
        "def compute_and_plot_dice_sum(n):\n",
        "  distro = [(k,f_DiceSum(n,k)) for k in range(n,6*n+1)]\n",
        "  df = pd.DataFrame(distro,columns=['x','$f_X(x)$'])\n",
        "  sns.barplot(x='x',y='$f_X(x)$',data=df).set_title('Distribution $f_{X_n}$ of sum $X_n$ of $n$ Dice, for n='+str(n))\n",
        "  plt.show()\n",
        "  return distro\n",
        "\n",
        "\n",
        "def compute_and_plot_cumulative_dice_sum(n):\n",
        "  distro = [(k,f_DiceSum(n,k)) for k in range(n,6*n+1)]\n",
        "  x, pmf = list(zip(*distro))\n",
        "  cumdistro  = zip(x,[sum(pmf[:(j+1)]) for j in range(len(pmf))])\n",
        "  df = pd.DataFrame(cumdistro,columns=['x','$F_X(x)$'])\n",
        "  sns.barplot(x='x',y='$F_X(x)$',data=df).set_title('Cumulative $F_{X_n}$ of sum $X_n$ of $n$ Dice, for n='+str(n))\n",
        "  plt.show()\n",
        "\n",
        "def compute_summary_stats(distro):\n",
        "  stats = {}\n",
        "  x, pmf = list(zip(*distro))\n",
        " # cumdistro  = zip(x,[sum(pmf[:(j+1)]) for j in range(len(pmf))])\n",
        "  x = np.asarray(x)\n",
        "  pmf = np.asarray(pmf)\n",
        "  stats['mean'] = round(sum(x*pmf),3)\n",
        "  stats['mode'] = [round(v,3) for v in x[np.where(pmf == np.max(pmf))[0]].tolist()]\n",
        "  stats['median'] = round(x[np.where(np.cumsum(pmf)>=0.5)[0][0]],3)\n",
        "  p25 = x[np.where(np.cumsum(pmf)>=0.25)[0][0]]\n",
        "  p50 = x[np.where(np.cumsum(pmf)>=0.75)[0][0]]\n",
        "  stats['var'] = round(sum(((x-stats['mean'])**2)*pmf),3)\n",
        "  stats['std'] = round(np.sqrt(stats['var']),3)\n",
        "  stats['IQR'] = round(p50 - p25,3)\n",
        "  stats['MAD'] = round(sum(np.abs(x-stats['median'])*pmf),3)\n",
        "  return pd.DataFrame.from_dict(stats, orient='index')\n",
        "\n"
      ],
      "metadata": {
        "id": "g2aXZeGUReyc"
      },
      "execution_count": null,
      "outputs": []
    },
    {
      "cell_type": "code",
      "source": [
        "s_2 = compute_and_plot_dice_sum(2)\n",
        "compute_and_plot_cumulative_dice_sum(2)"
      ],
      "metadata": {
        "colab": {
          "base_uri": "https://localhost:8080/",
          "height": 589
        },
        "id": "m1eTuJiHRfxB",
        "outputId": "7e1931a3-0d3b-412d-96cc-3a31fc816bf7"
      },
      "execution_count": null,
      "outputs": [
        {
          "output_type": "display_data",
          "data": {
            "text/plain": [
              "<Figure size 432x288 with 1 Axes>"
            ],
            "image/png": "[encoded data removed]"
          },
          "metadata": {}
        },
        {
          "output_type": "display_data",
          "data": {
            "text/plain": [
              "<Figure size 432x288 with 1 Axes>"
            ],
            "image/png": "[encoded data removed]"
          },
          "metadata": {}
        }
      ]
    },
    {
      "cell_type": "code",
      "source": [
        "s_3 = compute_and_plot_dice_sum(3)\n",
        "compute_and_plot_cumulative_dice_sum(3)"
      ],
      "metadata": {
        "colab": {
          "base_uri": "https://localhost:8080/",
          "height": 589
        },
        "id": "5vYu5VHiSNMe",
        "outputId": "42b72ec7-bd37-4b22-fefa-4a05fd35458c"
      },
      "execution_count": null,
      "outputs": [
        {
          "output_type": "display_data",
          "data": {
            "text/plain": [
              "<Figure size 432x288 with 1 Axes>"
            ],
            "image/png": "[encoded data removed]"
          },
          "metadata": {}
        },
        {
          "output_type": "display_data",
          "data": {
            "text/plain": [
              "<Figure size 432x288 with 1 Axes>"
            ],
            "image/png": "[encoded data removed]"
          },
          "metadata": {}
        }
      ]
    },
    {
      "cell_type": "code",
      "source": [
        "plt.figure(figsize=(12,4))\n",
        "s_8 = compute_and_plot_dice_sum(8)\n",
        "plt.figure(figsize=(12,4))\n",
        "compute_and_plot_cumulative_dice_sum(8)"
      ],
      "metadata": {
        "colab": {
          "base_uri": "https://localhost:8080/",
          "height": 589
        },
        "id": "ke4SIGCvTs1R",
        "outputId": "165ec037-fa24-4ef0-d92b-6d5ba4274798"
      },
      "execution_count": null,
      "outputs": [
        {
          "output_type": "display_data",
          "data": {
            "text/plain": [
              "<Figure size 864x288 with 1 Axes>"
            ],
            "image/png": "[encoded data removed]"
          },
          "metadata": {}
        },
        {
          "output_type": "display_data",
          "data": {
            "text/plain": [
              "<Figure size 864x288 with 1 Axes>"
            ],
            "image/png": "[encoded data removed]"
          },
          "metadata": {}
        }
      ]
    },
    {
      "cell_type": "code",
      "source": [
        "### Show stats\n",
        "stats = pd.concat((compute_summary_stats(s_2),\n",
        "                   compute_summary_stats(s_3),\n",
        "                   compute_summary_stats(s_8)), axis=1)\n",
        "stats.columns=['n=2','n=2','n=8']\n",
        "display(stats)"
      ],
      "metadata": {
        "colab": {
          "base_uri": "https://localhost:8080/",
          "height": 269
        },
        "id": "pksO6oavwb4P",
        "outputId": "df943a07-f3bd-4057-899f-0757b6c95582"
      },
      "execution_count": null,
      "outputs": [
        {
          "output_type": "display_data",
          "data": {
            "text/plain": [
              "         n=2    n=2    n=8\n",
              "mean   7.000 10.500 28.000\n",
              "mode     [7]   [10]   [28]\n",
              "median     7     11     28\n",
              "var    5.833  8.750 23.333\n",
              "std    2.415  2.958  4.830\n",
              "IQR        4      5      6\n",
              "MAD    1.944  2.417  3.867"
            ],
            "text/html": [
              "\n",
              "  <div id=\"df-7a008068-86fc-4e80-bca7-2e10e37a0193\">\n",
              "    <div class=\"colab-df-container\">\n",
              "      <div>\n",
              "<style scoped>\n",
              "    .dataframe tbody tr th:only-of-type {\n",
              "        vertical-align: middle;\n",
              "    }\n",
              "\n",
              "    .dataframe tbody tr th {\n",
              "        vertical-align: top;\n",
              "    }\n",
              "\n",
              "    .dataframe thead th {\n",
              "        text-align: right;\n",
              "    }\n",
              "</style>\n",
              "<table border=\"1\" class=\"dataframe\">\n",
              "  <thead>\n",
              "    <tr style=\"text-align: right;\">\n",
              "      <th></th>\n",
              "      <th>n=2</th>\n",
              "      <th>n=2</th>\n",
              "      <th>n=8</th>\n",
              "    </tr>\n",
              "  </thead>\n",
              "  <tbody>\n",
              "    <tr>\n",
              "      <th>mean</th>\n",
              "      <td>7.000</td>\n",
              "      <td>10.500</td>\n",
              "      <td>28.000</td>\n",
              "    </tr>\n",
              "    <tr>\n",
              "      <th>mode</th>\n",
              "      <td>[7]</td>\n",
              "      <td>[10]</td>\n",
              "      <td>[28]</td>\n",
              "    </tr>\n",
              "    <tr>\n",
              "      <th>median</th>\n",
              "      <td>7</td>\n",
              "      <td>11</td>\n",
              "      <td>28</td>\n",
              "    </tr>\n",
              "    <tr>\n",
              "      <th>var</th>\n",
              "      <td>5.833</td>\n",
              "      <td>8.750</td>\n",
              "      <td>23.333</td>\n",
              "    </tr>\n",
              "    <tr>\n",
              "      <th>std</th>\n",
              "      <td>2.415</td>\n",
              "      <td>2.958</td>\n",
              "      <td>4.830</td>\n",
              "    </tr>\n",
              "    <tr>\n",
              "      <th>IQR</th>\n",
              "      <td>4</td>\n",
              "      <td>5</td>\n",
              "      <td>6</td>\n",
              "    </tr>\n",
              "    <tr>\n",
              "      <th>MAD</th>\n",
              "      <td>1.944</td>\n",
              "      <td>2.417</td>\n",
              "      <td>3.867</td>\n",
              "    </tr>\n",
              "  </tbody>\n",
              "</table>\n",
              "</div>\n",
              "      <button class=\"colab-df-convert\" onclick=\"convertToInteractive('df-7a008068-86fc-4e80-bca7-2e10e37a0193')\"\n",
              "              title=\"Convert this dataframe to an interactive table.\"\n",
              "              style=\"display:none;\">\n",
              "        \n",
              "  <svg xmlns=\"http://www.w3.org/2000/svg\" height=\"24px\"viewBox=\"0 0 24 24\"\n",
              "       width=\"24px\">\n",
              "    <path d=\"M0 0h24v24H0V0z\" fill=\"none\"/>\n",
              "    <path d=\"M18.56 5.44l.94 2.06.94-2.06 2.06-.94-2.06-.94-.94-2.06-.94 2.06-2.06.94zm-11 1L8.5 8.5l.94-2.06 2.06-.94-2.06-.94L8.5 2.5l-.94 2.06-2.06.94zm10 10l.94 2.06.94-2.06 2.06-.94-2.06-.94-.94-2.06-.94 2.06-2.06.94z\"/><path d=\"M17.41 7.96l-1.37-1.37c-.4-.4-.92-.59-1.43-.59-.52 0-1.04.2-1.43.59L10.3 9.45l-7.72 7.72c-.78.78-.78 2.05 0 2.83L4 21.41c.39.39.9.59 1.41.59.51 0 1.02-.2 1.41-.59l7.78-7.78 2.81-2.81c.8-.78.8-2.07 0-2.86zM5.41 20L4 18.59l7.72-7.72 1.47 1.35L5.41 20z\"/>\n",
              "  </svg>\n",
              "      </button>\n",
              "      \n",
              "  <style>\n",
              "    .colab-df-container {\n",
              "      display:flex;\n",
              "      flex-wrap:wrap;\n",
              "      gap: 12px;\n",
              "    }\n",
              "\n",
              "    .colab-df-convert {\n",
              "      background-color: #E8F0FE;\n",
              "      border: none;\n",
              "      border-radius: 50%;\n",
              "      cursor: pointer;\n",
              "      display: none;\n",
              "      fill: #1967D2;\n",
              "      height: 32px;\n",
              "      padding: 0 0 0 0;\n",
              "      width: 32px;\n",
              "    }\n",
              "\n",
              "    .colab-df-convert:hover {\n",
              "      background-color: #E2EBFA;\n",
              "      box-shadow: 0px 1px 2px rgba(60, 64, 67, 0.3), 0px 1px 3px 1px rgba(60, 64, 67, 0.15);\n",
              "      fill: #174EA6;\n",
              "    }\n",
              "\n",
              "    [theme=dark] .colab-df-convert {\n",
              "      background-color: #3B4455;\n",
              "      fill: #D2E3FC;\n",
              "    }\n",
              "\n",
              "    [theme=dark] .colab-df-convert:hover {\n",
              "      background-color: #434B5C;\n",
              "      box-shadow: 0px 1px 3px 1px rgba(0, 0, 0, 0.15);\n",
              "      filter: drop-shadow(0px 1px 2px rgba(0, 0, 0, 0.3));\n",
              "      fill: #FFFFFF;\n",
              "    }\n",
              "  </style>\n",
              "\n",
              "      <script>\n",
              "        const buttonEl =\n",
              "          document.querySelector('#df-7a008068-86fc-4e80-bca7-2e10e37a0193 button.colab-df-convert');\n",
              "        buttonEl.style.display =\n",
              "          google.colab.kernel.accessAllowed ? 'block' : 'none';\n",
              "\n",
              "        async function convertToInteractive(key) {\n",
              "          const element = document.querySelector('#df-7a008068-86fc-4e80-bca7-2e10e37a0193');\n",
              "          const dataTable =\n",
              "            await google.colab.kernel.invokeFunction('convertToInteractive',\n",
              "                                                     [key], {});\n",
              "          if (!dataTable) return;\n",
              "\n",
              "          const docLinkHtml = 'Like what you see? Visit the ' +\n",
              "            '<a target=\"_blank\" href=https://colab.research.google.com/notebooks/data_table.ipynb>data table notebook</a>'\n",
              "            + ' to learn more about interactive tables.';\n",
              "          element.innerHTML = '';\n",
              "          dataTable['output_type'] = 'display_data';\n",
              "          await google.colab.output.renderOutput(dataTable, element);\n",
              "          const docLink = document.createElement('div');\n",
              "          docLink.innerHTML = docLinkHtml;\n",
              "          element.appendChild(docLink);\n",
              "        }\n",
              "      </script>\n",
              "    </div>\n",
              "  </div>\n",
              "  "
            ]
          },
          "metadata": {}
        }
      ]
    },
    {
      "cell_type": "markdown",
      "source": [
        "#### Average of digits in the n-Dice throw example.\n",
        "Instead of sum, Let $Y_n$ be the average of $n$ six-faced symmetric dice rolls. Then $Y_n = \\frac{1}{n} X_n$. Lets compute and plot the distribution of $Y_n$ for various values of $n$, and this time also compute the mean, median, mode, variance and standard deviations."
      ],
      "metadata": {
        "id": "KLOhkPDqUH02"
      }
    },
    {
      "cell_type": "code",
      "source": [
        "def compute_and_plot_dice_average(n):\n",
        "  distro = [(k/n,f_DiceSum(n,k)) for k in range(n,6*n+1)]\n",
        "  df = pd.DataFrame(distro,columns=['y','$f_Y(y)$'])\n",
        "  ax = sns.barplot(x='y',y='$f_Y(y)$',data=df)\n",
        "  ax.set_title('Distribution $f_{Y_n}$ of average of digits, $Y_n$ of $n$ Dice, for n='+str(n))\n",
        "  t = ax.get_xticks()\n",
        "  l = ax.get_xticklabels()\n",
        "  ax.set_xticks([0,int(len(t)/2),len(t)-1])\n",
        "  ax.set_xticklabels([l[0],l[int(len(t)/2)],l[-1]])\n",
        "  plt.tight_layout()\n",
        "  plt.show()\n",
        "  return distro\n",
        "\n",
        "\n",
        "\n",
        "  "
      ],
      "metadata": {
        "id": "TzwqM5gHUGbn"
      },
      "execution_count": null,
      "outputs": []
    },
    {
      "cell_type": "code",
      "source": [
        "d_2 = compute_and_plot_dice_average(2)\n",
        "d_6 = compute_and_plot_dice_average(6)\n",
        "d_12 = compute_and_plot_dice_average(12)\n",
        "\n",
        "print('--------------------')\n",
        "print('    Stats for Y_n')\n",
        "print('--------------------')\n",
        "stats = pd.concat((compute_summary_stats(d_2),\n",
        "                   compute_summary_stats(d_6),\n",
        "                   compute_summary_stats(d_12)), axis=1)\n",
        "stats.columns=['n=2','n=6','n=12']\n",
        "display(stats)"
      ],
      "metadata": {
        "colab": {
          "base_uri": "https://localhost:8080/",
          "height": 1000
        },
        "id": "tN6ayhTkUGhT",
        "outputId": "7a7f7a1a-2ce4-45cc-f45a-7d4297925d91"
      },
      "execution_count": null,
      "outputs": [
        {
          "output_type": "display_data",
          "data": {
            "text/plain": [
              "<Figure size 432x288 with 1 Axes>"
            ],
            "image/png": "[encoded data removed]"
          },
          "metadata": {}
        },
        {
          "output_type": "display_data",
          "data": {
            "text/plain": [
              "<Figure size 432x288 with 1 Axes>"
            ],
            "image/png": "[encoded data removed]"
          },
          "metadata": {}
        },
        {
          "output_type": "display_data",
          "data": {
            "text/plain": [
              "<Figure size 432x288 with 1 Axes>"
            ],
            "image/png": "[encoded data removed]"
          },
          "metadata": {}
        },
        {
          "output_type": "stream",
          "name": "stdout",
          "text": [
            "--------------------\n",
            "    Stats for Y_n\n",
            "--------------------\n"
          ]
        },
        {
          "output_type": "display_data",
          "data": {
            "text/plain": [
              "          n=2    n=6   n=12\n",
              "mean    3.500  3.500  3.500\n",
              "mode    [3.5]  [3.5]  [3.5]\n",
              "median  3.500  3.500  3.500\n",
              "var     1.458  0.486  0.243\n",
              "std     1.207  0.697  0.493\n",
              "IQR     2.000  1.000  0.667\n",
              "MAD     0.972  0.559  0.394"
            ],
            "text/html": [
              "\n",
              "  <div id=\"df-aef1fc80-9be3-495a-b35c-a9f631c01222\">\n",
              "    <div class=\"colab-df-container\">\n",
              "      <div>\n",
              "<style scoped>\n",
              "    .dataframe tbody tr th:only-of-type {\n",
              "        vertical-align: middle;\n",
              "    }\n",
              "\n",
              "    .dataframe tbody tr th {\n",
              "        vertical-align: top;\n",
              "    }\n",
              "\n",
              "    .dataframe thead th {\n",
              "        text-align: right;\n",
              "    }\n",
              "</style>\n",
              "<table border=\"1\" class=\"dataframe\">\n",
              "  <thead>\n",
              "    <tr style=\"text-align: right;\">\n",
              "      <th></th>\n",
              "      <th>n=2</th>\n",
              "      <th>n=6</th>\n",
              "      <th>n=12</th>\n",
              "    </tr>\n",
              "  </thead>\n",
              "  <tbody>\n",
              "    <tr>\n",
              "      <th>mean</th>\n",
              "      <td>3.500</td>\n",
              "      <td>3.500</td>\n",
              "      <td>3.500</td>\n",
              "    </tr>\n",
              "    <tr>\n",
              "      <th>mode</th>\n",
              "      <td>[3.5]</td>\n",
              "      <td>[3.5]</td>\n",
              "      <td>[3.5]</td>\n",
              "    </tr>\n",
              "    <tr>\n",
              "      <th>median</th>\n",
              "      <td>3.500</td>\n",
              "      <td>3.500</td>\n",
              "      <td>3.500</td>\n",
              "    </tr>\n",
              "    <tr>\n",
              "      <th>var</th>\n",
              "      <td>1.458</td>\n",
              "      <td>0.486</td>\n",
              "      <td>0.243</td>\n",
              "    </tr>\n",
              "    <tr>\n",
              "      <th>std</th>\n",
              "      <td>1.207</td>\n",
              "      <td>0.697</td>\n",
              "      <td>0.493</td>\n",
              "    </tr>\n",
              "    <tr>\n",
              "      <th>IQR</th>\n",
              "      <td>2.000</td>\n",
              "      <td>1.000</td>\n",
              "      <td>0.667</td>\n",
              "    </tr>\n",
              "    <tr>\n",
              "      <th>MAD</th>\n",
              "      <td>0.972</td>\n",
              "      <td>0.559</td>\n",
              "      <td>0.394</td>\n",
              "    </tr>\n",
              "  </tbody>\n",
              "</table>\n",
              "</div>\n",
              "      <button class=\"colab-df-convert\" onclick=\"convertToInteractive('df-aef1fc80-9be3-495a-b35c-a9f631c01222')\"\n",
              "              title=\"Convert this dataframe to an interactive table.\"\n",
              "              style=\"display:none;\">\n",
              "        \n",
              "  <svg xmlns=\"http://www.w3.org/2000/svg\" height=\"24px\"viewBox=\"0 0 24 24\"\n",
              "       width=\"24px\">\n",
              "    <path d=\"M0 0h24v24H0V0z\" fill=\"none\"/>\n",
              "    <path d=\"M18.56 5.44l.94 2.06.94-2.06 2.06-.94-2.06-.94-.94-2.06-.94 2.06-2.06.94zm-11 1L8.5 8.5l.94-2.06 2.06-.94-2.06-.94L8.5 2.5l-.94 2.06-2.06.94zm10 10l.94 2.06.94-2.06 2.06-.94-2.06-.94-.94-2.06-.94 2.06-2.06.94z\"/><path d=\"M17.41 7.96l-1.37-1.37c-.4-.4-.92-.59-1.43-.59-.52 0-1.04.2-1.43.59L10.3 9.45l-7.72 7.72c-.78.78-.78 2.05 0 2.83L4 21.41c.39.39.9.59 1.41.59.51 0 1.02-.2 1.41-.59l7.78-7.78 2.81-2.81c.8-.78.8-2.07 0-2.86zM5.41 20L4 18.59l7.72-7.72 1.47 1.35L5.41 20z\"/>\n",
              "  </svg>\n",
              "      </button>\n",
              "      \n",
              "  <style>\n",
              "    .colab-df-container {\n",
              "      display:flex;\n",
              "      flex-wrap:wrap;\n",
              "      gap: 12px;\n",
              "    }\n",
              "\n",
              "    .colab-df-convert {\n",
              "      background-color: #E8F0FE;\n",
              "      border: none;\n",
              "      border-radius: 50%;\n",
              "      cursor: pointer;\n",
              "      display: none;\n",
              "      fill: #1967D2;\n",
              "      height: 32px;\n",
              "      padding: 0 0 0 0;\n",
              "      width: 32px;\n",
              "    }\n",
              "\n",
              "    .colab-df-convert:hover {\n",
              "      background-color: #E2EBFA;\n",
              "      box-shadow: 0px 1px 2px rgba(60, 64, 67, 0.3), 0px 1px 3px 1px rgba(60, 64, 67, 0.15);\n",
              "      fill: #174EA6;\n",
              "    }\n",
              "\n",
              "    [theme=dark] .colab-df-convert {\n",
              "      background-color: #3B4455;\n",
              "      fill: #D2E3FC;\n",
              "    }\n",
              "\n",
              "    [theme=dark] .colab-df-convert:hover {\n",
              "      background-color: #434B5C;\n",
              "      box-shadow: 0px 1px 3px 1px rgba(0, 0, 0, 0.15);\n",
              "      filter: drop-shadow(0px 1px 2px rgba(0, 0, 0, 0.3));\n",
              "      fill: #FFFFFF;\n",
              "    }\n",
              "  </style>\n",
              "\n",
              "      <script>\n",
              "        const buttonEl =\n",
              "          document.querySelector('#df-aef1fc80-9be3-495a-b35c-a9f631c01222 button.colab-df-convert');\n",
              "        buttonEl.style.display =\n",
              "          google.colab.kernel.accessAllowed ? 'block' : 'none';\n",
              "\n",
              "        async function convertToInteractive(key) {\n",
              "          const element = document.querySelector('#df-aef1fc80-9be3-495a-b35c-a9f631c01222');\n",
              "          const dataTable =\n",
              "            await google.colab.kernel.invokeFunction('convertToInteractive',\n",
              "                                                     [key], {});\n",
              "          if (!dataTable) return;\n",
              "\n",
              "          const docLinkHtml = 'Like what you see? Visit the ' +\n",
              "            '<a target=\"_blank\" href=https://colab.research.google.com/notebooks/data_table.ipynb>data table notebook</a>'\n",
              "            + ' to learn more about interactive tables.';\n",
              "          element.innerHTML = '';\n",
              "          dataTable['output_type'] = 'display_data';\n",
              "          await google.colab.output.renderOutput(dataTable, element);\n",
              "          const docLink = document.createElement('div');\n",
              "          docLink.innerHTML = docLinkHtml;\n",
              "          element.appendChild(docLink);\n",
              "        }\n",
              "      </script>\n",
              "    </div>\n",
              "  </div>\n",
              "  "
            ]
          },
          "metadata": {}
        }
      ]
    },
    {
      "cell_type": "code",
      "source": [],
      "metadata": {
        "id": "G1p7nESnjcoC"
      },
      "execution_count": null,
      "outputs": []
    },
    {
      "cell_type": "code",
      "source": [],
      "metadata": {
        "id": "8OT-OQOajcsi"
      },
      "execution_count": null,
      "outputs": []
    },
    {
      "cell_type": "code",
      "source": [],
      "metadata": {
        "id": "JwlT3goxjcun"
      },
      "execution_count": null,
      "outputs": []
    },
    {
      "cell_type": "markdown",
      "source": [
        "## Example D3. Dart Throw Example.\n",
        "We simulate the dart throw example, where the dart radius is 1 ft, by generating random points in a square of 2ft x 2ft, discarding all values that fall outside of the circle since we assume it always lands in the circle.. We want to th calculate the probability that the dart lands within R ft of the center."
      ],
      "metadata": {
        "id": "OLkf6clB4DA9"
      }
    },
    {
      "cell_type": "code",
      "source": [
        "from collections import Counter"
      ],
      "metadata": {
        "id": "Jzfv8gC_4ntO"
      },
      "execution_count": null,
      "outputs": []
    },
    {
      "cell_type": "code",
      "source": [
        "def dart_position(radius=1.):\n",
        "    \"\"\"\n",
        "    Simulate the random throw of a dart. Note that if it lands outside the circle, we discard it.\n",
        "    Return the distance of landed dart from the center.\n",
        "    \"\"\"\n",
        "    ## choose random point in square around circle\n",
        "    x = radius*(-1+2*random.random())\n",
        "    y = radius*(-1+2*random.random())\n",
        "    ## repeat till get something inside\n",
        "    if x**2 + y**2 > radius**2 :\n",
        "      return dart_position(radius)\n",
        "    return np.sqrt(x**2 + y**2)\n"
      ],
      "metadata": {
        "id": "6MVhSSaR4dQm"
      },
      "execution_count": null,
      "outputs": []
    },
    {
      "cell_type": "code",
      "source": [
        "### Now use simulation to calculated CDF of the \n",
        "## i.e. Pr(dart_position <= R)\n",
        "\n",
        "NUM_THROWS = 100000\n",
        "dart_cnts = Counter()\n",
        "\n",
        "for R in np.linspace(0,1.0,101):\n",
        "  num_hits = 0\n",
        "  for i in range(NUM_THROWS):\n",
        "    if dart_position() <= R:\n",
        "      num_hits += 1\n",
        "  dart_cnts[R] += num_hits\n",
        "\n",
        "## convert counts to probabilities\n",
        "dart_cdf = pd.DataFrame([(R,cnt/NUM_THROWS) for R,cnt in dart_cnts.items()], columns=['R','CDF'])"
      ],
      "metadata": {
        "id": "xEWyQzJh5ovo"
      },
      "execution_count": null,
      "outputs": []
    },
    {
      "cell_type": "code",
      "source": [
        "#dart_cdf_df = pd.DataFrame.from_dict(dart_cdf,orient='index',columns=['R','CDF_R'])\n",
        "sns.lineplot(data=dart_cdf, x='R',y='CDF').set(xlabel='z',ylabel='$F_R(r)$',title='CDF for Dart Throw')\n",
        "plt.show()"
      ],
      "metadata": {
        "colab": {
          "base_uri": "https://localhost:8080/",
          "height": 301
        },
        "id": "uB6HP2Kk5qKn",
        "outputId": "f601e513-944a-4f76-d3f9-68acf77d5e0f"
      },
      "execution_count": null,
      "outputs": [
        {
          "output_type": "display_data",
          "data": {
            "text/plain": [
              "<Figure size 432x288 with 1 Axes>"
            ],
            "image/png": "[encoded data removed]"
          },
          "metadata": {
            "needs_background": "light"
          }
        }
      ]
    },
    {
      "cell_type": "markdown",
      "source": [
        "#### Interesting Application of Dart Probability Problem.\n",
        "An interesting application of the dart probability problem is as follows. Given that a dart lands in a square dart of side length 1, what is the probability that the dart lands inside a circle of radius $\\frac{1}{2}$ inscribed in the square? The answer is $\\frac{\\pi}{4}$ "
      ],
      "metadata": {
        "id": "iwWLDAeZIGh6"
      }
    },
    {
      "cell_type": "code",
      "source": [
        "NUM_THROWS = 100000\n",
        "in_circle = 0\n",
        "for _ in range(NUM_THROWS):\n",
        "  ## get random dart position, assume square of side 1.0 and centered at (0,0)\n",
        "  x,y = random.random() - 0.5, random.random() - 0.5\n",
        "  if x**2 + y**2 <= 0.5*0.5: ## inside circle of radius 0.5\n",
        "    in_circle += 1\n",
        "print('4*Probability dart lands in circle = {:.05f}'.format(4.*in_circle/NUM_THROWS))"
      ],
      "metadata": {
        "colab": {
          "base_uri": "https://localhost:8080/"
        },
        "id": "NkHQCfNV7VZ4",
        "outputId": "2a658152-e058-411e-cee9-c2583114ca9e"
      },
      "execution_count": null,
      "outputs": [
        {
          "output_type": "stream",
          "name": "stdout",
          "text": [
            "4*Probability dart lands in circle = 3.13740\n"
          ]
        }
      ]
    },
    {
      "cell_type": "markdown",
      "source": [
        "## Example D5. Function of a Random Variable.\n",
        "We will use the CDF for $R$, the distance of the dart from the center, calculated above to plot the corresponding CDF of $Z = \\pi R^2$. Since we are using a discrete approximation of the original distribution, this simply means changing the x-axis of the plot to the transformed value.  "
      ],
      "metadata": {
        "id": "L3r8SVodM82u"
      }
    },
    {
      "cell_type": "code",
      "source": [
        "dart_cdf['Z'] = dart_cdf.R.map(lambda x: np.pi*x*x)\n",
        "sns.lineplot(data=dart_cdf, x='Z',y='CDF').set(xlabel='z',ylabel='$F_Z(z)$',title='CDF for $Z=\\pi R^2$ in Dart Throw Example')\n",
        "plt.show()"
      ],
      "metadata": {
        "colab": {
          "base_uri": "https://localhost:8080/",
          "height": 305
        },
        "id": "0no-_nrWKCtS",
        "outputId": "493307d8-6aeb-4c4f-876c-7d2603aed02d"
      },
      "execution_count": null,
      "outputs": [
        {
          "output_type": "display_data",
          "data": {
            "text/plain": [
              "<Figure size 432x288 with 1 Axes>"
            ],
            "image/png": "[encoded data removed]"
          },
          "metadata": {
            "needs_background": "light"
          }
        }
      ]
    },
    {
      "cell_type": "code",
      "source": [],
      "metadata": {
        "id": "Hlkwnx42Nix4"
      },
      "execution_count": null,
      "outputs": []
    },
    {
      "cell_type": "markdown",
      "source": [
        "### Example - Transformations of two variables using Simulation\n",
        "$X,Y$ are two randomly thrown dart positions (distance from center). What is the distribution of $Z=\\frac{X}{Y}$ ?"
      ],
      "metadata": {
        "id": "EDh2ExPCwcHj"
      }
    },
    {
      "cell_type": "markdown",
      "source": [
        "#### Simulation Procedure\n",
        "In the previous example, we c way to calculate CDF was fairly ineffcient since for each $r$ we calculated $F_R(r)$ by simulating the throws and discarding values above $r$. In this simulation procedure, we will instead directly generate data points, and then bin them to compute the CDF. \n",
        "Binning can be done directly, or we can just use the builtin `sns.kdeplot` or `plt.hist` methods."
      ],
      "metadata": {
        "id": "rMy2QsCO0YXm"
      }
    },
    {
      "cell_type": "code",
      "source": [],
      "metadata": {
        "id": "dDwDFwtm03Tm"
      },
      "execution_count": null,
      "outputs": []
    },
    {
      "cell_type": "code",
      "source": [
        "## simulate data\n",
        "NUM_THROWS = 10000\n",
        "ratio_dat = []\n",
        "for _ in range(NUM_THROWS):\n",
        "   X = dart_position()\n",
        "   Y = dart_position()\n",
        "   ratio_dat.append(X/Y)"
      ],
      "metadata": {
        "id": "X_45TRdEw0N6"
      },
      "execution_count": null,
      "outputs": []
    },
    {
      "cell_type": "code",
      "source": [
        "### Compute CDF directly from list of simulated data\n",
        "def get_cdf(X, data):\n",
        "  return [sum(x>np.asarray(ratio_dat))/len(data) for x in X]"
      ],
      "metadata": {
        "id": "PDDvI0tg18x0"
      },
      "execution_count": null,
      "outputs": []
    },
    {
      "cell_type": "code",
      "source": [
        "Z = np.linspace(0,5.,1000)\n",
        "ratio_cdf = pd.DataFrame([(z,p) for z,p in zip(Z,get_cdf(Z, ratio_dat))], columns=['Z','CDF'])\n",
        "\n",
        "plt.figure(figsize=(6,4))\n",
        "sns.lineplot(data=ratio_cdf, x='Z',y='CDF',linewidth=2).set(xlabel='z',ylabel='$F_Z(z)$',\n",
        "                                                title='CDF for $Z=X/Y$ in dart throws\\n (directly computed)')\n",
        "                                             \n",
        "plt.show() "
      ],
      "metadata": {
        "colab": {
          "base_uri": "https://localhost:8080/",
          "height": 318
        },
        "id": "N2YpbIA-77iX",
        "outputId": "2b87410f-e7ec-4ca0-a6ea-751776aa46af"
      },
      "execution_count": null,
      "outputs": [
        {
          "output_type": "display_data",
          "data": {
            "text/plain": [
              "<Figure size 432x288 with 1 Axes>"
            ],
            "image/png": "[encoded data removed]"
          },
          "metadata": {
            "needs_background": "light"
          }
        }
      ]
    },
    {
      "cell_type": "code",
      "source": [
        "### CDF Using built-in histogram methods\n",
        "plt.figure(figsize=(6,4))\n",
        "ax = sns.ecdfplot(ratio_dat, linewidth=2)\n",
        "ax.set_xlim(0,5)\n",
        "ax.set( xlim=(0,5), xlabel='z',ylabel='$F_Z(z)$', \n",
        "       title='CDF for $Z=X/Y$ in dart throws\\n (using built-in histogram methods)' )\n",
        "plt.show()\n"
      ],
      "metadata": {
        "colab": {
          "base_uri": "https://localhost:8080/",
          "height": 318
        },
        "id": "09DIdAxgxXyZ",
        "outputId": "4d1cd21d-d5c4-4965-e5b2-a5d1b5ffb40c"
      },
      "execution_count": null,
      "outputs": [
        {
          "output_type": "display_data",
          "data": {
            "text/plain": [
              "<Figure size 432x288 with 1 Axes>"
            ],
            "image/png": "[encoded data removed]"
          },
          "metadata": {
            "needs_background": "light"
          }
        }
      ]
    },
    {
      "cell_type": "code",
      "source": [
        "### PDF Using built-in histogram (kdeplot) methods\n",
        "plt.figure(figsize=(6,4))\n",
        "ax = sns.kdeplot(ratio_dat,gridsize=10000, linewidth=2, )\n",
        "ax.set_xlim(0,5)\n",
        "ax.set( xlim=(0,5), xlabel='z',ylabel='$f_Z(z)$', \n",
        "       title='PDF for $Z=X/Y$ in dart throws\\n (using built-in KDE methods)')\n",
        "plt.show()\n"
      ],
      "metadata": {
        "colab": {
          "base_uri": "https://localhost:8080/",
          "height": 318
        },
        "id": "NZZ7VxHI8XRX",
        "outputId": "0263eb36-a6cb-41a1-db87-517c3ddd69f9"
      },
      "execution_count": null,
      "outputs": [
        {
          "output_type": "display_data",
          "data": {
            "text/plain": [
              "<Figure size 432x288 with 1 Axes>"
            ],
            "image/png": "[encoded data removed]"
          },
          "metadata": {
            "needs_background": "light"
          }
        }
      ]
    },
    {
      "cell_type": "code",
      "source": [
        "### PDF visualization using histogram\n",
        "plt.figure(figsize=(6,4))\n",
        "ax = sns.histplot(ratio_dat,binrange=(0,5),bins=100)\n",
        "ax.set( xlim=(0,5), xlabel='z',ylabel='$f_Z(z)$', \n",
        "       title='Histogram for $Z=X/Y$ in dart throws')\n",
        "plt.show()\n"
      ],
      "metadata": {
        "colab": {
          "base_uri": "https://localhost:8080/",
          "height": 303
        },
        "id": "SP-Nn88u3txl",
        "outputId": "6f579905-cacb-4ac0-e9bd-c71ec61d222a"
      },
      "execution_count": null,
      "outputs": [
        {
          "output_type": "display_data",
          "data": {
            "text/plain": [
              "<Figure size 432x288 with 1 Axes>"
            ],
            "image/png": "[encoded data removed]"
          },
          "metadata": {
            "needs_background": "light"
          }
        }
      ]
    },
    {
      "cell_type": "code",
      "source": [
        "np.sqrt(0.25), np.sqrt(0.5), np.sqrt(0.75)"
      ],
      "metadata": {
        "colab": {
          "base_uri": "https://localhost:8080/"
        },
        "id": "-V61qtxF3PMu",
        "outputId": "afe8549d-da3f-4c49-ab1f-5edd7ed1594c"
      },
      "execution_count": null,
      "outputs": [
        {
          "output_type": "execute_result",
          "data": {
            "text/plain": [
              "(0.5, 0.7071067811865476, 0.8660254037844386)"
            ]
          },
          "metadata": {},
          "execution_count": 127
        }
      ]
    },
    {
      "cell_type": "markdown",
      "source": [
        "## Example D?. Expected Value of Distribution Using Simulation\n",
        "We revisit the dart problem, and calculate the expected value of dart position $R$ as the long-running average of samples. Using direct integration we found that $E[R] = \\frac{2}{3}$, and variance $V[R] = \\frac{1}{18}$. Also, for  $100p$'th percentile value $x_p = p^{\\frac{1}{2}}$. These values are, respectively, for $p=\\frac{1}{4}, \\frac{1}{2}, \\frac{3}{4}$ as $\\frac{1}{2}, \\frac{1}{\\sqrt{2}}$ and $\\frac{\\sqrt{3}}{2}$."
      ],
      "metadata": {
        "id": "RrxJy-g7jAs3"
      }
    },
    {
      "cell_type": "markdown",
      "source": [],
      "metadata": {
        "id": "re9TBEenjw5v"
      }
    },
    {
      "cell_type": "code",
      "source": [
        "NUM_THROWS = 50000\n",
        "dart_dat = [dart_position() for _ in range(NUM_THROWS)]\n",
        "E_R = np.mean(dart_dat)\n",
        "print('E[R]     = {:.03f}'.format(E_R))\n",
        "V_R = np.var(dart_dat)\n",
        "print('V[R]     = {:.03f}'.format(V_R))\n",
        "p_25 = np.percentile(dart_dat, 25)\n",
        "print('P_25[R]  = {:.03f}'.format(p_25))\n",
        "med_R = np.median(dart_dat)\n",
        "print('Med[R]   = {:.03f}'.format(med_R))\n",
        "p_75 = np.percentile(dart_dat, 75)\n",
        "print('P_75[R]  = {:.03f}'.format(p_75))\n",
        "\n",
        "\n",
        "# We can also just use pandas to compute these at once.\n",
        "## all summary statistics\n",
        "summ = pd.DataFrame(dart_dat,columns=['R']).describe()\n",
        "display(summ)"
      ],
      "metadata": {
        "colab": {
          "base_uri": "https://localhost:8080/",
          "height": 387
        },
        "id": "yF-uk-HzjKKF",
        "outputId": "22215735-0c7e-47b7-d8ab-40a017efaf44"
      },
      "execution_count": null,
      "outputs": [
        {
          "output_type": "stream",
          "name": "stdout",
          "text": [
            "E[R]     = 0.667\n",
            "V[R]     = 0.056\n",
            "P_25[R]  = 0.499\n",
            "Med[R]   = 0.707\n",
            "P_75[R]  = 0.867\n"
          ]
        },
        {
          "output_type": "display_data",
          "data": {
            "text/plain": [
              "               R\n",
              "count 50,000.000\n",
              "mean       0.667\n",
              "std        0.236\n",
              "min        0.003\n",
              "25%        0.499\n",
              "50%        0.707\n",
              "75%        0.867\n",
              "max        1.000"
            ],
            "text/html": [
              "\n",
              "  <div id=\"df-2ef8da1a-8c8a-40a2-a7db-453a8ef66d3e\">\n",
              "    <div class=\"colab-df-container\">\n",
              "      <div>\n",
              "<style scoped>\n",
              "    .dataframe tbody tr th:only-of-type {\n",
              "        vertical-align: middle;\n",
              "    }\n",
              "\n",
              "    .dataframe tbody tr th {\n",
              "        vertical-align: top;\n",
              "    }\n",
              "\n",
              "    .dataframe thead th {\n",
              "        text-align: right;\n",
              "    }\n",
              "</style>\n",
              "<table border=\"1\" class=\"dataframe\">\n",
              "  <thead>\n",
              "    <tr style=\"text-align: right;\">\n",
              "      <th></th>\n",
              "      <th>R</th>\n",
              "    </tr>\n",
              "  </thead>\n",
              "  <tbody>\n",
              "    <tr>\n",
              "      <th>count</th>\n",
              "      <td>50,000.000</td>\n",
              "    </tr>\n",
              "    <tr>\n",
              "      <th>mean</th>\n",
              "      <td>0.667</td>\n",
              "    </tr>\n",
              "    <tr>\n",
              "      <th>std</th>\n",
              "      <td>0.236</td>\n",
              "    </tr>\n",
              "    <tr>\n",
              "      <th>min</th>\n",
              "      <td>0.003</td>\n",
              "    </tr>\n",
              "    <tr>\n",
              "      <th>25%</th>\n",
              "      <td>0.499</td>\n",
              "    </tr>\n",
              "    <tr>\n",
              "      <th>50%</th>\n",
              "      <td>0.707</td>\n",
              "    </tr>\n",
              "    <tr>\n",
              "      <th>75%</th>\n",
              "      <td>0.867</td>\n",
              "    </tr>\n",
              "    <tr>\n",
              "      <th>max</th>\n",
              "      <td>1.000</td>\n",
              "    </tr>\n",
              "  </tbody>\n",
              "</table>\n",
              "</div>\n",
              "      <button class=\"colab-df-convert\" onclick=\"convertToInteractive('df-2ef8da1a-8c8a-40a2-a7db-453a8ef66d3e')\"\n",
              "              title=\"Convert this dataframe to an interactive table.\"\n",
              "              style=\"display:none;\">\n",
              "        \n",
              "  <svg xmlns=\"http://www.w3.org/2000/svg\" height=\"24px\"viewBox=\"0 0 24 24\"\n",
              "       width=\"24px\">\n",
              "    <path d=\"M0 0h24v24H0V0z\" fill=\"none\"/>\n",
              "    <path d=\"M18.56 5.44l.94 2.06.94-2.06 2.06-.94-2.06-.94-.94-2.06-.94 2.06-2.06.94zm-11 1L8.5 8.5l.94-2.06 2.06-.94-2.06-.94L8.5 2.5l-.94 2.06-2.06.94zm10 10l.94 2.06.94-2.06 2.06-.94-2.06-.94-.94-2.06-.94 2.06-2.06.94z\"/><path d=\"M17.41 7.96l-1.37-1.37c-.4-.4-.92-.59-1.43-.59-.52 0-1.04.2-1.43.59L10.3 9.45l-7.72 7.72c-.78.78-.78 2.05 0 2.83L4 21.41c.39.39.9.59 1.41.59.51 0 1.02-.2 1.41-.59l7.78-7.78 2.81-2.81c.8-.78.8-2.07 0-2.86zM5.41 20L4 18.59l7.72-7.72 1.47 1.35L5.41 20z\"/>\n",
              "  </svg>\n",
              "      </button>\n",
              "      \n",
              "  <style>\n",
              "    .colab-df-container {\n",
              "      display:flex;\n",
              "      flex-wrap:wrap;\n",
              "      gap: 12px;\n",
              "    }\n",
              "\n",
              "    .colab-df-convert {\n",
              "      background-color: #E8F0FE;\n",
              "      border: none;\n",
              "      border-radius: 50%;\n",
              "      cursor: pointer;\n",
              "      display: none;\n",
              "      fill: #1967D2;\n",
              "      height: 32px;\n",
              "      padding: 0 0 0 0;\n",
              "      width: 32px;\n",
              "    }\n",
              "\n",
              "    .colab-df-convert:hover {\n",
              "      background-color: #E2EBFA;\n",
              "      box-shadow: 0px 1px 2px rgba(60, 64, 67, 0.3), 0px 1px 3px 1px rgba(60, 64, 67, 0.15);\n",
              "      fill: #174EA6;\n",
              "    }\n",
              "\n",
              "    [theme=dark] .colab-df-convert {\n",
              "      background-color: #3B4455;\n",
              "      fill: #D2E3FC;\n",
              "    }\n",
              "\n",
              "    [theme=dark] .colab-df-convert:hover {\n",
              "      background-color: #434B5C;\n",
              "      box-shadow: 0px 1px 3px 1px rgba(0, 0, 0, 0.15);\n",
              "      filter: drop-shadow(0px 1px 2px rgba(0, 0, 0, 0.3));\n",
              "      fill: #FFFFFF;\n",
              "    }\n",
              "  </style>\n",
              "\n",
              "      <script>\n",
              "        const buttonEl =\n",
              "          document.querySelector('#df-2ef8da1a-8c8a-40a2-a7db-453a8ef66d3e button.colab-df-convert');\n",
              "        buttonEl.style.display =\n",
              "          google.colab.kernel.accessAllowed ? 'block' : 'none';\n",
              "\n",
              "        async function convertToInteractive(key) {\n",
              "          const element = document.querySelector('#df-2ef8da1a-8c8a-40a2-a7db-453a8ef66d3e');\n",
              "          const dataTable =\n",
              "            await google.colab.kernel.invokeFunction('convertToInteractive',\n",
              "                                                     [key], {});\n",
              "          if (!dataTable) return;\n",
              "\n",
              "          const docLinkHtml = 'Like what you see? Visit the ' +\n",
              "            '<a target=\"_blank\" href=https://colab.research.google.com/notebooks/data_table.ipynb>data table notebook</a>'\n",
              "            + ' to learn more about interactive tables.';\n",
              "          element.innerHTML = '';\n",
              "          dataTable['output_type'] = 'display_data';\n",
              "          await google.colab.output.renderOutput(dataTable, element);\n",
              "          const docLink = document.createElement('div');\n",
              "          docLink.innerHTML = docLinkHtml;\n",
              "          element.appendChild(docLink);\n",
              "        }\n",
              "      </script>\n",
              "    </div>\n",
              "  </div>\n",
              "  "
            ]
          },
          "metadata": {}
        }
      ]
    },
    {
      "cell_type": "code",
      "source": [],
      "metadata": {
        "id": "xNmZHC81J7e8"
      },
      "execution_count": null,
      "outputs": []
    }
  ]
}